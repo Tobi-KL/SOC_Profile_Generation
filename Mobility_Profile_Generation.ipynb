{
  "nbformat": 4,
  "nbformat_minor": 0,
  "metadata": {
    "colab": {
      "name": "Mobility_Profile_Generation.ipynb",
      "provenance": [],
      "collapsed_sections": [
        "RQt67K-VC64E"
      ],
      "include_colab_link": true
    },
    "kernelspec": {
      "display_name": "Python 3",
      "name": "python3"
    },
    "language_info": {
      "name": "python"
    }
  },
  "cells": [
    {
      "cell_type": "markdown",
      "metadata": {
        "id": "view-in-github",
        "colab_type": "text"
      },
      "source": [
        "<a href=\"https://colab.research.google.com/github/Tobi-KL/mobility_profile_generation/blob/main/Mobility_Profile_Generation.ipynb\" target=\"_parent\"><img src=\"https://colab.research.google.com/assets/colab-badge.svg\" alt=\"Open In Colab\"/></a>"
      ]
    },
    {
      "cell_type": "markdown",
      "metadata": {
        "id": "RQt67K-VC64E"
      },
      "source": [
        "### Preparation"
      ]
    },
    {
      "cell_type": "markdown",
      "metadata": {
        "id": "rysp-x35byLY"
      },
      "source": [
        "Connect to Google Drive"
      ]
    },
    {
      "cell_type": "code",
      "metadata": {
        "colab": {
          "base_uri": "https://localhost:8080/"
        },
        "id": "0NNZaeoqMsiV",
        "outputId": "f4a129b3-bcac-4047-e0c0-6271e1e5637e"
      },
      "source": [
        "from google.colab import drive\n",
        "drive.mount('/content/drive')"
      ],
      "execution_count": 2,
      "outputs": [
        {
          "output_type": "stream",
          "text": [
            "Mounted at /content/drive\n"
          ],
          "name": "stdout"
        }
      ]
    },
    {
      "cell_type": "markdown",
      "metadata": {
        "id": "nfy_P5nKNhxC"
      },
      "source": [
        "Load libraries"
      ]
    },
    {
      "cell_type": "code",
      "metadata": {
        "colab": {
          "base_uri": "https://localhost:8080/"
        },
        "id": "JeZTPvcKMvW-",
        "outputId": "8ffd576b-b7a0-46b2-dd8f-fc2afce0c4b4"
      },
      "source": [
        "import numpy as np\n",
        "import pandas as pd\n",
        "import matplotlib.pyplot as plt\n",
        "import pickle\n",
        "!pip install xlrd\n",
        "import xlrd\n",
        "import random"
      ],
      "execution_count": 3,
      "outputs": [
        {
          "output_type": "stream",
          "text": [
            "Requirement already satisfied: xlrd in /usr/local/lib/python3.7/dist-packages (1.1.0)\n"
          ],
          "name": "stdout"
        }
      ]
    },
    {
      "cell_type": "markdown",
      "metadata": {
        "id": "BXOnuoD6b1pn"
      },
      "source": [
        "Read Data"
      ]
    },
    {
      "cell_type": "code",
      "metadata": {
        "id": "GmFT8TjJMyKV"
      },
      "source": [
        "###   Read data    ###\n",
        "with open('/content/drive/MyDrive/Tobias_MA/Data/data_mop.pkl', 'rb') as input:\n",
        "        [states_mop,speed_mop,meta_mop,meta_header_mop] = pickle.load(input)"
      ],
      "execution_count": 4,
      "outputs": []
    },
    {
      "cell_type": "code",
      "metadata": {
        "id": "ccYxNulIrPyW"
      },
      "source": [
        "# nach Jahr 2017 filtern:\n",
        "meta_mop_filtered = meta_mop[-3820:-1,]"
      ],
      "execution_count": 5,
      "outputs": []
    },
    {
      "cell_type": "code",
      "metadata": {
        "id": "iN2Hy-MtN5eM"
      },
      "source": [
        "state_names = ['not known (mobile or not mobile)', 'work', 'work', 'school,training',\n",
        "               'shopping', 'private', 'bring,pick up', 'freetime', 'home', \n",
        "               'else (outside not mobile)', 'not known (not mobile)', 'by foot', \n",
        "               'bicycle', 'motorcycle', 'car driver', 'car codriver', 'public transport', \n",
        "               'long distance public-transport', 'else (mobile)', 'not known (mobile)']\n",
        "\n",
        "no_states = int(len(np.unique(states_mop)))\n",
        "timesteps = int(states_mop.shape[1])"
      ],
      "execution_count": 6,
      "outputs": []
    },
    {
      "cell_type": "markdown",
      "metadata": {
        "id": "rz9K9vSzb5Pm"
      },
      "source": [
        "### Classes"
      ]
    },
    {
      "cell_type": "code",
      "metadata": {
        "id": "1gRzHhdRe6M9"
      },
      "source": [
        "# erstellt ein Haushalt-Objekt\n",
        "# enthält Informationen über den gewählten Haushalt (Anzahl Bewohner, Anzahl Fahrer, alle Mobilitätsprofile der Bewohner, Position im Datensatz ... )\n",
        "# vorerst: entweder zufällig oder mit bekannter ID\n",
        "# TODO: Eingabemöglichkeit verschiedener Parameter (z.B. Haushaltsgröße, Einkommen etc.) -> Rückgabe einer Liste der ähnlichsten Haushalte\n",
        "\n",
        "class Household:\n",
        "    def __init__(self, household_ID, randomize_household):\n",
        "        self.household_ID = household_ID\n",
        "        #self.household_size = household_size\n",
        "        self.position = np.where(meta_mop_filtered[:,0] == self.household_ID)[0]\n",
        "\n",
        "\n",
        "        if randomize_household:\n",
        "          self.chosen_household = random.choice (meta_mop_filtered.astype(int))\n",
        "        \n",
        "        else:\n",
        "          self.chosen_household = meta_mop_filtered.astype(int) [np.where(meta_mop_filtered[:,0] == self.household_ID)]\n",
        "\n",
        "        \"\"\"\n",
        "        - Constructor of household object\n",
        "        - householdID: ID of household (MOP-Data) -> sorted in ascending order\n",
        "        - householdSize: # of occupants of household\n",
        "        - randomize_household: bool, default=False (defines, whether household should be chosen randomly)\n",
        "        \"\"\"\n",
        "  \n",
        "    def get_household(self):\n",
        "      return self.chosen_household.astype(int)\n",
        "    # returns chosen household (array with >= 1 entries (1 entry = 1 person, 1 year))\n",
        "\n",
        "    def get_number_of_occupants(self):\n",
        "      return self.chosen_household[0,5]\n",
        "    # returns number of occupants living in chosen household\n",
        "    \n",
        "    def get_number_of_drivers(self):\n",
        "      x = self.get_states(0,1008)\n",
        "      number_of_drivers = 0\n",
        "      for i in range(0,len(x)):\n",
        "        if ((x[i]==14).sum() > 0):\n",
        "          number_of_drivers += 1\n",
        "      return number_of_drivers\n",
        "    # returns number of drivers (at least one state == 14) living in chosen household\n",
        "    \n",
        "    def get_number_of_cars(self):\n",
        "      return self.chosen_household[0,7]\n",
        "    # returns number of cars of chosen household\n",
        "    \n",
        "    def get_data_position(self):\n",
        "      #self.position = np.where(meta_mop[:,0] == self.household_ID)[0]\n",
        "      position_list =[]\n",
        "      for i in self.position:\n",
        "          position_list.append(i)\n",
        "      return position_list\n",
        "    # returns indeces of chosen household in data set\n",
        "    \n",
        "    def get_states(self, start, end):\n",
        "      for i in self.position:\n",
        "        return states_mop[self.position,start:end]\n",
        "    # returns all states for timespace between start and end\n",
        "\n",
        "    def get_speeds(self, start, end):\n",
        "      for i in self.position:\n",
        "        return speed_mop[self.position,start:end]\n",
        "    # returns all speeds for timespace between start and end\n",
        "\n",
        "    def get_persons (self, person_number):\n",
        "      household_positions = self.get_data_position()\n",
        "      persons = [Personal_Mobility_Profile (position = i, household_ID = self.household_ID) for i in household_positions]\n",
        "      return persons[person_number].position\n",
        "    # returns position of chosen Person-object in data set"
      ],
      "execution_count": 44,
      "outputs": []
    },
    {
      "cell_type": "code",
      "metadata": {
        "id": "1rYmIEQZqBgG"
      },
      "source": [
        "# erstellt das Mobilitätsprofil EINER Person\n",
        "# dafür muss die position der Person im Datensatz angegeben werden (erste Zeile im Datensatz = Person 0)\n",
        "# TODO: Methode get_total_distance(). Für die spätere Sortierung der Personen innerhalb eines Haushalts werden Infos zur wöchentlichen Fahrleistung aus der MOP-Tabelle W benötigt\n",
        "\n",
        "class Personal_Mobility_Profile:\n",
        "    def __init__(self, position, household_ID):\n",
        "       self.position = position #position in data\n",
        "       self.household_ID = household_ID\n",
        "    \n",
        "    \"\"\"\n",
        "    - Constructor of Personal_Mobility_Profile Object\n",
        "    - householdID: ID of household (MOP-Data) -> sorted in ascending order\n",
        "    - position: position of individual person in data set (first line in data set = person 0)\n",
        "    \"\"\"\n",
        "\n",
        "    def get_state(self, start, end):\n",
        "        states = states_mop[self.position,start:end]\n",
        "        return states\n",
        "    # returns states for individual persons between start and end\n",
        "\n",
        "    def get_speed(self, start, end):\n",
        "        return speed_mop[self.position,start:end]\n",
        "    # returns speed for timespace between start and end\n",
        "\n",
        "    def get_adjusted_states(self, start, end):\n",
        "        states = self.get_state(start,end)\n",
        "        states_adjusted = np.where((states == 8) | (states == 14) | (states == 1) | (states == 2), states, 30)\n",
        "        return states_adjusted\n",
        "    # returns adjusted states for individual person\n",
        "\n",
        "    def get_driver_positions(self, start, end):\n",
        "        list_car_driver = [i for i in range(len(self.get_state(start, end))) if self.get_state(start, end)[i] == 14]\n",
        "        return list_car_driver\n",
        "    # returns every position in states where car driver = true\n",
        "    \n",
        "    def get_total_distance(self):\n",
        "      return sum() # aus W-Tabelle\n",
        "    # returns total distance driven by person in the week"
      ],
      "execution_count": 83,
      "outputs": []
    },
    {
      "cell_type": "code",
      "metadata": {
        "id": "TymdVLY5q7d0"
      },
      "source": [
        "# wird aufgerufen, um zu prüfen, ob Mobilitätsprofile von Personen im Haushalt zusammengelegt werden müssen (mehr Fahrer im Haushalt, als Autos)\n",
        "# führt Zusammenlegung, wenn nötig, durch (Personen mit geringster wöchentlicher Fahrleistung werden solange zusammengelegt, bis Anzahl Fahrer = Anzahl Autos)\n",
        "# gibt die zusammengelegten Mobilitätsprofile aus\n",
        "# TODO: Methode merge() noch nicht fertig (muss auf get_total_distance zugreifen)\n",
        "\n",
        "class Profile_Merge:\n",
        "    def __init__(self, household_ID, number_of_cars, number_of_drivers, drivers):\n",
        "      self.household_ID = household_ID\n",
        "      self.number_of_cars = number_of_cars #Anzahl Autos im Haushalt\n",
        "      self.number_of_drivers = number_of_drivers #Anzahl Personen im Haushalt\n",
        "      self.drivers = drivers # Liste aller Personen des Haushalts, die mind. einmal Auto als Fahrer (mind. 2) (Liste aller Indezes aus dem Datensatz)\n",
        "\n",
        "    \"\"\"\n",
        "    - Constructor of Profile_Merge Object\n",
        "    - householdID: ID of household (MOP-Data) -> sorted in ascending order\n",
        "    - number_of_cars: total number of cars in household\n",
        "    - number_of_drivers: total number of drivers in household (at least one state = 14)\n",
        "    - drivers: list of all drivers in household (at least 2)\n",
        "    \"\"\"\n",
        "\n",
        "    def check_merge(self):\n",
        "      if (self.number_of_drivers > self.number_of_cars):\n",
        "        print(\"Merge necessary. Start method merge().\")\n",
        "      else:\n",
        "        print(\"No merge necessary.\")\n",
        "    # checks whether a mobility profile merge is necessary\n",
        "    \n",
        "    def merge(self):\n",
        "    # while-Schleife (solange Differenz ungleich 0 -> merge Profile)\n",
        "    # checke Differenz\n",
        "    # füge die beiden Fahrer, die am wenigsten fahren, zu einem Profil zusammen\n",
        "    # Anzahl driver-1\n",
        "    # checke Differenz usw.\n",
        "    # gebe die Personen-Profile zurück\n",
        "      x= self.number_of_drivers\n",
        "      while x > self.number_of_cars:\n",
        "        print(\"merge\")\n",
        "        x -= 1\n"
      ],
      "execution_count": 22,
      "outputs": []
    },
    {
      "cell_type": "code",
      "metadata": {
        "id": "NuWMZPQQesFf"
      },
      "source": [
        "# Zuordnung persönliche Mobilitätsprofil(e) zu Auto(s)\n",
        "# davor muss merge stattgefunden haben -> Anzahl Mobilitätsprofile = Anzahl Autos\n",
        "# Mobility-Profile mit der höchsten Fahrleistung (MOP W) -> Auto mit höchster Fahrleistung usw.\n",
        "# Eingabe: alle Mobilitätsprofile der Fahrer, alle Speed-Profile der Fahrer\n",
        "# Rückgabe: Mobilitätsprofile und Speed-Profile mit zugehöriger Autonummer\n",
        "# TODO: Methode\n",
        "\n",
        "class Allocation:\n",
        "    def __init__(self, mobility_profiles, speed_profiles):\n",
        "      self.mobility_profiles = mobility_profiles\n",
        "      self.speed_profiles = speed_profiles\n",
        "      #self.cars = cars #man weiß automatisch, wie viele Autos verfügbar, da vorher merge\n",
        "\n",
        "    \"\"\"\n",
        "    - Constructor of Allocation Object\n",
        "    - mobility_profiles: list of mobility profiles of all household-drivers\n",
        "    - speed_profiles: list of speed profiles of all household-drivers\n",
        "    \"\"\"\n"
      ],
      "execution_count": 23,
      "outputs": []
    },
    {
      "cell_type": "code",
      "metadata": {
        "id": "LfMpE_Izi1TP"
      },
      "source": [
        "# erstellt zu gewünschtem Auto im gewünschten Zeitraum das Mobilitätsprofil\n",
        "# davor müssen merge und allocation gelaufen sein\n",
        "# TODO: Methode\n",
        "\n",
        "class Car_Profile:\n",
        "    def __init__(self, household_ID, mobility_profile, speed_profile, start, end):\n",
        "      self.household_ID = household_ID\n",
        "      self.mobility_profile = mobility_profile # zum Auto gehöriges Mobility-Profile\n",
        "      self.speed_profile = speed_profile # zum Auto gehöriges Speed-Profile\n",
        "      self.start = start\n",
        "      self.end = end\n",
        "    \n",
        "    \"\"\"\n",
        "    - Constructor of Car-Profile Object\n",
        "    - householdID: ID of household (MOP-Data) -> sorted in ascending order\n",
        "    - mobility_profile: mobility profile of car\n",
        "    - speed_profile: speed profile of car\n",
        "    - start: start timestep\n",
        "    - end: end timestep\n",
        "    \"\"\"\n",
        "    \n",
        "    def get_car_profile_plot(self):\n",
        "      #print(\"Profile for the chosen car from household \" + self.household_ID + \" for timesteps \" + self.start + \" until \" + self.end + \" :\")\n",
        "      return plt.plot(self.mobility_profile)\n",
        "    \n",
        "    \n"
      ],
      "execution_count": 26,
      "outputs": []
    },
    {
      "cell_type": "code",
      "metadata": {
        "id": "cUM5euqDKwi1"
      },
      "source": [
        "#class Car:\n",
        "    def __init__(self):\n",
        "       #self.consumption = consumption \n",
        "       #self.household_ID = household_ID\n",
        "       #self.segment = segment\n",
        "       \n"
      ],
      "execution_count": null,
      "outputs": []
    },
    {
      "cell_type": "code",
      "metadata": {
        "id": "-U5b6WEpOppe"
      },
      "source": [
        "#class Route:\n",
        "    def __init__(self, household_ID, route_ID, departure_time, departure_point, arrival_time, arrival_point, purpose, length):\n",
        "        self.household_ID = household_ID\n",
        "        self.route_ID = route_ID\n",
        "        self.departure_time = departure_time  # in Minuten seit Wochenbeginn \n",
        "        self.departure_point = departure_point\n",
        "        self.arrival_time = arrival_time\n",
        "        self.arrival_point = arrival_point # letzte Fahrt der Woche endet immer zuhause\n",
        "        self.purpose = purpose\n",
        "        self.length = length\n",
        "\n",
        "#car_ID -> Zuordnung\n",
        "#-> MOP W"
      ],
      "execution_count": null,
      "outputs": []
    },
    {
      "cell_type": "markdown",
      "metadata": {
        "id": "bFt8XzsxCxHs"
      },
      "source": [
        "### Tool"
      ]
    },
    {
      "cell_type": "markdown",
      "metadata": {
        "id": "kPa-avvb5GNA"
      },
      "source": [
        "Erstellung eines Haushalt-Objektes:\n",
        "\n",
        "*   Bsp. für HH mit 1 Person: 4301011562;\n",
        "*   Bsp. für HH mit mehreren Personen: 4711036120\n",
        "\n"
      ]
    },
    {
      "cell_type": "code",
      "metadata": {
        "id": "up83BDAKTHhr"
      },
      "source": [
        "# Erstellung eines Haushalt-Objekts in meta_mop\n",
        "# randomize ermöglicht zufälligen Haushalt\n",
        "# ansonsten: gewünschte ID eingeben\n",
        "\n",
        "household_1 =  Household(household_ID = 4301012233, randomize_household=False)\n",
        "household_1.get_household()"
      ],
      "execution_count": null,
      "outputs": []
    },
    {
      "cell_type": "code",
      "metadata": {
        "colab": {
          "base_uri": "https://localhost:8080/"
        },
        "id": "Kv9oDcrjUdIy",
        "outputId": "ad6fee12-a465-4c2c-b354-d7b919b6a40c"
      },
      "source": [
        "# Anzahl Bewohner des Haushalts\n",
        "# Anzahl Fahrer im Haushalt\n",
        "# Anzahl Autos im Haushalt\n",
        "\n",
        "print('number of occupants in chosen household: ', household_1.get_number_of_occupants())\n",
        "print('number of drivers in chosen household: ', household_1.get_number_of_drivers())\n",
        "print('number of cars in chosen household: ', household_1.get_number_of_cars())"
      ],
      "execution_count": 46,
      "outputs": [
        {
          "output_type": "stream",
          "text": [
            "number of occupants in chosen household:  2\n",
            "number of drivers in chosen household:  2\n",
            "number of cars in chosen household:  2\n"
          ],
          "name": "stdout"
        }
      ]
    },
    {
      "cell_type": "code",
      "metadata": {
        "colab": {
          "base_uri": "https://localhost:8080/"
        },
        "id": "m3yb3WOxR__D",
        "outputId": "0a563004-8b20-465b-955e-b92a5973912f"
      },
      "source": [
        "# Informationen über die Position des Haushalts bzw. der Personen im Datensatz (filtered: nur 2017)\n",
        "# gibt die Position der gewünschten Person im Datensatz an. (0 = erste Person des HH usw.)\n",
        "\n",
        "print('The household can be found in the data set at row(s): ', household_1.get_data_position())\n",
        "\n",
        "person_number = 0     # 0: first person, 1: second person ...\n",
        "print('Person', person_number, 'can be found in the data set at row: ', household_1.get_persons(person_number))"
      ],
      "execution_count": 56,
      "outputs": [
        {
          "output_type": "stream",
          "text": [
            "The household can be found in the data set at row(s):  [123, 124]\n",
            "Person 0  can be found in the data set at row:  123\n"
          ],
          "name": "stdout"
        }
      ]
    },
    {
      "cell_type": "code",
      "metadata": {
        "id": "RRQukDDE-cXN",
        "colab": {
          "base_uri": "https://localhost:8080/",
          "height": 302
        },
        "outputId": "5408195e-53b5-46f5-bacb-133f36416e7c"
      },
      "source": [
        "# Ausgabe der Mobilitätsprofile\n",
        "\n",
        "start = 0     # timesteps\n",
        "end = 1008\n",
        "person_number = 0\n",
        "\n",
        "mobility_profiles = household_1.get_states(start,end)\n",
        "\n",
        "print('Mobility profile of person', person_number, ':')\n",
        "plt.plot(mobility_profiles[person_number])"
      ],
      "execution_count": 61,
      "outputs": [
        {
          "output_type": "stream",
          "text": [
            "Mobility profile of person 0 :\n"
          ],
          "name": "stdout"
        },
        {
          "output_type": "execute_result",
          "data": {
            "text/plain": [
              "[<matplotlib.lines.Line2D at 0x7f180c0da690>]"
            ]
          },
          "metadata": {
            "tags": []
          },
          "execution_count": 61
        },
        {
          "output_type": "display_data",
          "data": {
            "image/png": "[encoded data removed]",
            "text/plain": [
              "<Figure size 432x288 with 1 Axes>"
            ]
          },
          "metadata": {
            "tags": [],
            "needs_background": "light"
          }
        }
      ]
    },
    {
      "cell_type": "code",
      "metadata": {
        "id": "llMQdaupBZcu",
        "colab": {
          "base_uri": "https://localhost:8080/",
          "height": 302
        },
        "outputId": "31761ef3-4232-490d-d11c-06065d24a9d0"
      },
      "source": [
        "# Ausgabe der Speed-Profiles\n",
        "\n",
        "start = 0     # timesteps\n",
        "end = 1008\n",
        "person_number = 0\n",
        "\n",
        "speed_profiles = household_1.get_speeds(start, end)\n",
        "\n",
        "print('Speed profile of person', person_number, ':')\n",
        "plt.plot(speed_profiles[person_number])"
      ],
      "execution_count": 62,
      "outputs": [
        {
          "output_type": "stream",
          "text": [
            "Speed profile of person 0 :\n"
          ],
          "name": "stdout"
        },
        {
          "output_type": "execute_result",
          "data": {
            "text/plain": [
              "[<matplotlib.lines.Line2D at 0x7f180c04e5d0>]"
            ]
          },
          "metadata": {
            "tags": []
          },
          "execution_count": 62
        },
        {
          "output_type": "display_data",
          "data": {
            "image/png": "[encoded data removed]",
            "text/plain": [
              "<Figure size 432x288 with 1 Axes>"
            ]
          },
          "metadata": {
            "tags": [],
            "needs_background": "light"
          }
        }
      ]
    },
    {
      "cell_type": "code",
      "metadata": {
        "colab": {
          "base_uri": "https://localhost:8080/"
        },
        "id": "_gBmXNncw6ks",
        "outputId": "458cb2c7-49fe-4535-bb22-71df13bf9654"
      },
      "source": [
        "# Ausgabe der States eines individuellen HH-Mitglieds\n",
        "person_number = 0\n",
        "household_ID = 4301012233\n",
        "start = 0\n",
        "end = 504\n",
        "\n",
        "# erstelle Personal_Mobility_Profile Objekt:\n",
        "person_1 = Personal_Mobility_Profile (position = household_1.get_persons(person_number), household_ID = household_ID)\n",
        "print('original states for person', person_number,':\\n', person_1.get_state(start,end))\n",
        "print('\\n')\n",
        "\n",
        "# setze alle states außer 1,2 (work), 8 (home), 14 (car driver) auf 30\n",
        "print('adjusted states for person', person_number, ':\\n', person_1.get_adjusted_states(start, end))\n",
        "print('\\n')\n",
        "\n",
        "# Liste aller Positionen \"Car Driver\":\n",
        "print('positions where car driver is true:\\n', person_1.get_driver_positions(start, end))"
      ],
      "execution_count": 84,
      "outputs": [
        {
          "output_type": "stream",
          "text": [
            "original states for person 0 :\n",
            " [ 0  0  0  0  0  0  0  0  0  0  0  0 10 10 10 10 10 10 10 10 10 10 10 10\n",
            " 10 10 10 10 10 10 10 10 10 10 10 10 10 10 10 10 10 10 10 10 10 10 10 10\n",
            " 10 10 10 10 10 10 10 10 10 10 10 10 10 10 10 10 10 10 10 10 10 10 10 10\n",
            " 15 15 15 15 15 15 15 15 15  7  7  7  7  7  7  7  7  7  7  7  7  7  7  7\n",
            " 11 11 11 11 11 11 11 11 11  9  9  9  9  9  9  9  9  9  9  9  9  9  9  9\n",
            "  9  9  9  9  9  9  9  9  9  9  9  9  9  9  9  9  9  9  9  9  9  9  9  9\n",
            "  9  9  9  9  9  9  9  9  9  9  9  9  9  9  9  9  9  9  9  9  9  9  9  9\n",
            "  9  9  9  9  9  9  9  9  9  9  9  9  9  9  9  9  9  9  9  9  9  9  9  9\n",
            "  9  9  9  9  9  9  9  9  9  9  9  9 11 11 11 11 11 11 11 11 11 11 11 11\n",
            "  8  8  8  8  8  8  8  8  8  8  8  8  8  8  8  8  8  8  8  8  8  8  8  8\n",
            "  8  8  8  8  8  8  8  8  8  8  8  8  8  8  8  8  8  8  8  8  8  8  8  8\n",
            "  8  8  8  8  8  8  8  8  8  8  8  8  8  8  8  8  8  8  8  8  8  8  8  8\n",
            "  8  8  8  8  8  8  8  8  8  8  8  8  8  8  8  8  8  8  8  8  8  8  8  8\n",
            "  8  8  8  8  8  8  8  8  8  8  8  8  8  8  8  8  8  8  8  8  8  8  8  8\n",
            "  8  8  8  8  8  8 14 14 14  4  4  4  4  4  4 14 14 14 15 15 15 15 15 15\n",
            "  4  4  4  4  4  4 15 15 15 15 15 15  9  9  9  9  9  9  9  9  9  9  9  9\n",
            "  9  9  9  9  9  9  9  9  9  9  9  9  9  9 16 16 16 16  7  7  7  7  7  7\n",
            "  7  7  7  7  7  7  7  7  7  7  7  7  7  7  7  7  7  7  7  7  7  7  7  7\n",
            "  7  7  7  7  7  7  7  7  7  7  7  7  7  7  7 16 16 16 16 16  9  9  9  9\n",
            "  9  9  9  9  9  9  9  9  9  9  9  9  9  9  9  9  9  9  9  9  9  9  9  9\n",
            "  9  9  9  9  9  9  9  9  9  9  9  9 11 11 11 11 11 11 11 11 11 11 11 11]\n",
            "\n",
            "\n",
            "adjusted states for person 0 :\n",
            " [30 30 30 30 30 30 30 30 30 30 30 30 30 30 30 30 30 30 30 30 30 30 30 30\n",
            " 30 30 30 30 30 30 30 30 30 30 30 30 30 30 30 30 30 30 30 30 30 30 30 30\n",
            " 30 30 30 30 30 30 30 30 30 30 30 30 30 30 30 30 30 30 30 30 30 30 30 30\n",
            " 30 30 30 30 30 30 30 30 30 30 30 30 30 30 30 30 30 30 30 30 30 30 30 30\n",
            " 30 30 30 30 30 30 30 30 30 30 30 30 30 30 30 30 30 30 30 30 30 30 30 30\n",
            " 30 30 30 30 30 30 30 30 30 30 30 30 30 30 30 30 30 30 30 30 30 30 30 30\n",
            " 30 30 30 30 30 30 30 30 30 30 30 30 30 30 30 30 30 30 30 30 30 30 30 30\n",
            " 30 30 30 30 30 30 30 30 30 30 30 30 30 30 30 30 30 30 30 30 30 30 30 30\n",
            " 30 30 30 30 30 30 30 30 30 30 30 30 30 30 30 30 30 30 30 30 30 30 30 30\n",
            "  8  8  8  8  8  8  8  8  8  8  8  8  8  8  8  8  8  8  8  8  8  8  8  8\n",
            "  8  8  8  8  8  8  8  8  8  8  8  8  8  8  8  8  8  8  8  8  8  8  8  8\n",
            "  8  8  8  8  8  8  8  8  8  8  8  8  8  8  8  8  8  8  8  8  8  8  8  8\n",
            "  8  8  8  8  8  8  8  8  8  8  8  8  8  8  8  8  8  8  8  8  8  8  8  8\n",
            "  8  8  8  8  8  8  8  8  8  8  8  8  8  8  8  8  8  8  8  8  8  8  8  8\n",
            "  8  8  8  8  8  8 14 14 14 30 30 30 30 30 30 14 14 14 30 30 30 30 30 30\n",
            " 30 30 30 30 30 30 30 30 30 30 30 30 30 30 30 30 30 30 30 30 30 30 30 30\n",
            " 30 30 30 30 30 30 30 30 30 30 30 30 30 30 30 30 30 30 30 30 30 30 30 30\n",
            " 30 30 30 30 30 30 30 30 30 30 30 30 30 30 30 30 30 30 30 30 30 30 30 30\n",
            " 30 30 30 30 30 30 30 30 30 30 30 30 30 30 30 30 30 30 30 30 30 30 30 30\n",
            " 30 30 30 30 30 30 30 30 30 30 30 30 30 30 30 30 30 30 30 30 30 30 30 30\n",
            " 30 30 30 30 30 30 30 30 30 30 30 30 30 30 30 30 30 30 30 30 30 30 30 30]\n",
            "\n",
            "\n",
            "positions where car driver is true:\n",
            " [342, 343, 344, 351, 352, 353]\n"
          ],
          "name": "stdout"
        }
      ]
    },
    {
      "cell_type": "markdown",
      "metadata": {
        "id": "Ct81aTKo_VJj"
      },
      "source": [
        "### Test"
      ]
    },
    {
      "cell_type": "code",
      "metadata": {
        "id": "vnHvt8oyuZul"
      },
      "source": [
        "# Fall: 1 Fahrzeug, mehrere Personen\n",
        "## Prüfungslogik, ob alle Fahrten nur einem Auto zugeordnet werden können\n",
        "# alle Arrays abgleichen, ob nie gleichzeitig eine 14 steht\n",
        "# wenn true -> Fehler gefunden\n",
        "\n",
        "result = [(x == y == 14) for x,y in zip(household_1.get_states(0,1008)[0], household_1.get_states(0,1008) [1])]\n",
        "np.any(result)"
      ],
      "execution_count": null,
      "outputs": []
    },
    {
      "cell_type": "code",
      "metadata": {
        "id": "IFUKsj299XD4"
      },
      "source": [
        "# Fahrzeugprofil für das Auto erstellen:\n",
        "# 3 Personen: 20044, 20045, 20046\n",
        "# nimmt immer den maximalen Wert\n",
        "vehicleProfile = mobProfile1\n",
        "\n",
        "vehicleProfile = np.maximum.reduce([mobProfile1, mobProfile2])\n",
        "\n",
        "print(vehicleProfile)\n",
        "print(mobProfile1)"
      ],
      "execution_count": null,
      "outputs": []
    },
    {
      "cell_type": "code",
      "metadata": {
        "id": "Ekvfycbtutvb"
      },
      "source": [
        "# Fall 1 Auto, 1 Person (Auto hat das gleiche Mobilitätsprofil, wie die Person)\n",
        "      if (household.get_number_of_occupants() == 1 and household.get_number_of_cars() == 1):\n",
        "        print(\"Car profile for household with 1 Car and 1 Person.\")\n",
        "        #create Person-Object\n",
        "        #person = Person(0, household_ID)\n",
        "        #person.get_state(start, end)\n",
        "        #household.get_persons(0).get_states(start,end)\n",
        "\n",
        "      \n",
        "      # Fall 1 Auto, mehrere Personen (Personen solange zusammenlegen, bis Anzahl gleich ist)\n",
        "      if (household.get_number_of_occupants() > 1 and household.get_number_of_cars() == 1):\n",
        "        print(\"Car profile for household with 1 Car and > 1 Person.\")\n",
        "      \n",
        "      # Fall mehrere Autos, gleich viele Personen\n",
        "      if (household.get_number_of_cars() > 1 and  household.get_number_of_cars() == household.get_number_of_occupants()):\n",
        "        print(\"Car profile for household with >1 Car and the same amount of persons.\")\n",
        "\n",
        "      # Fall mehrere Autos, mehr Personen als Autos (Personen so lange zusammenlegen, bis Anzahl gleich ist)\n",
        "      if (household.get_number_of_cars() > 1 and  household.get_number_of_cars() > household.get_number_of_occupants()):\n",
        "        print(\"Car profile for household with >1 Car and more persons than cars.\")"
      ],
      "execution_count": null,
      "outputs": []
    },
    {
      "cell_type": "code",
      "metadata": {
        "colab": {
          "base_uri": "https://localhost:8080/"
        },
        "id": "6g-sxskG0spP",
        "outputId": "1732caab-5bd2-4528-80da-cd2eb96ecd2e"
      },
      "source": [
        "test = Profile_Merge(1, 2,4,7)\n",
        "test.merge()"
      ],
      "execution_count": null,
      "outputs": [
        {
          "output_type": "stream",
          "text": [
            "merge\n",
            "merge\n"
          ],
          "name": "stdout"
        }
      ]
    },
    {
      "cell_type": "code",
      "metadata": {
        "id": "-2xAz-H14agE"
      },
      "source": [
        "test_car_profile = Car_Profile (household_ID = 4711036120,  mobility_profile = household_1.get_states(0,1008)[0], speed_profile = household_1.get_speeds(0,1008)[0], start=0, end=1008)\n",
        "test_car_profile.get_car_profile_plot()"
      ],
      "execution_count": null,
      "outputs": []
    },
    {
      "cell_type": "code",
      "metadata": {
        "colab": {
          "base_uri": "https://localhost:8080/"
        },
        "id": "GL4TxnCb-oYE",
        "outputId": "3cb7025d-28e1-424f-c11e-f88136105d51"
      },
      "source": [
        "car_profile_1.get_profile()"
      ],
      "execution_count": null,
      "outputs": [
        {
          "output_type": "execute_result",
          "data": {
            "text/plain": [
              "<bound method Car_Profile.get_profile of <__main__.Car_Profile object at 0x7fcadaeac590>>"
            ]
          },
          "metadata": {
            "tags": []
          },
          "execution_count": 124
        }
      ]
    }
  ]
}