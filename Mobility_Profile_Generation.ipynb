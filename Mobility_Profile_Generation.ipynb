{
  "nbformat": 4,
  "nbformat_minor": 0,
  "metadata": {
    "colab": {
      "name": "Mobility_Profile_Generation.ipynb",
      "provenance": [],
      "collapsed_sections": [
        "RQt67K-VC64E"
      ],
      "include_colab_link": true
    },
    "kernelspec": {
      "display_name": "Python 3",
      "name": "python3"
    },
    "language_info": {
      "name": "python"
    }
  },
  "cells": [
    {
      "cell_type": "markdown",
      "metadata": {
        "id": "view-in-github",
        "colab_type": "text"
      },
      "source": [
        "<a href=\"https://colab.research.google.com/github/Tobi-KL/mobility_profile_generation/blob/main/Mobility_Profile_Generation.ipynb\" target=\"_parent\"><img src=\"https://colab.research.google.com/assets/colab-badge.svg\" alt=\"Open In Colab\"/></a>"
      ]
    },
    {
      "cell_type": "markdown",
      "metadata": {
        "id": "RQt67K-VC64E"
      },
      "source": [
        "### Preparation"
      ]
    },
    {
      "cell_type": "markdown",
      "metadata": {
        "id": "rysp-x35byLY"
      },
      "source": [
        "Connect to Google Drive"
      ]
    },
    {
      "cell_type": "code",
      "metadata": {
        "colab": {
          "base_uri": "https://localhost:8080/"
        },
        "id": "0NNZaeoqMsiV",
        "outputId": "3c005d4e-e037-4916-eebb-68d18b41cc10"
      },
      "source": [
        "from google.colab import drive\n",
        "drive.mount('/content/drive')"
      ],
      "execution_count": null,
      "outputs": [
        {
          "output_type": "stream",
          "text": [
            "Drive already mounted at /content/drive; to attempt to forcibly remount, call drive.mount(\"/content/drive\", force_remount=True).\n"
          ],
          "name": "stdout"
        }
      ]
    },
    {
      "cell_type": "markdown",
      "metadata": {
        "id": "nfy_P5nKNhxC"
      },
      "source": [
        "Load libraries"
      ]
    },
    {
      "cell_type": "code",
      "metadata": {
        "colab": {
          "base_uri": "https://localhost:8080/"
        },
        "id": "JeZTPvcKMvW-",
        "outputId": "14d341fc-860e-4f58-f9a9-c40ab02dd32b"
      },
      "source": [
        "import numpy as np\n",
        "import pandas as pd\n",
        "import matplotlib.pyplot as plt\n",
        "import pickle\n",
        "import csv\n",
        "!pip install xlrd\n",
        "import xlrd\n",
        "import random"
      ],
      "execution_count": null,
      "outputs": [
        {
          "output_type": "stream",
          "text": [
            "Requirement already satisfied: xlrd in /usr/local/lib/python3.7/dist-packages (1.1.0)\n"
          ],
          "name": "stdout"
        }
      ]
    },
    {
      "cell_type": "markdown",
      "metadata": {
        "id": "BXOnuoD6b1pn"
      },
      "source": [
        "Read Data"
      ]
    },
    {
      "cell_type": "code",
      "metadata": {
        "id": "GmFT8TjJMyKV"
      },
      "source": [
        "###   Read data    ###\n",
        "# data_mop.pkl: Aggregationsmethode \"immer die längste Aktivität\"\n",
        "# data_mop_priority: Aggregationsmethode \"priority\" (immer die Mobilitätsaktivität)\n",
        "\n",
        "with open('/content/drive/MyDrive/Tobias_MA/Data/data_mop_priority.pkl', 'rb') as input:\n",
        "        [states_mop,speed_mop,meta_mop,meta_header_mop] = pickle.load(input)"
      ],
      "execution_count": null,
      "outputs": []
    },
    {
      "cell_type": "code",
      "metadata": {
        "id": "ccYxNulIrPyW"
      },
      "source": [
        "# nach Jahr 2017 filtern:\n",
        "meta_mop_filtered = meta_mop[-3820:-1,]\n",
        "states_mop_filtered = states_mop[-3820:-1,]\n",
        "speed_mop_filtered = speed_mop[-3820:-1,]"
      ],
      "execution_count": null,
      "outputs": []
    },
    {
      "cell_type": "code",
      "metadata": {
        "colab": {
          "base_uri": "https://localhost:8080/",
          "height": 54
        },
        "id": "iN2Hy-MtN5eM",
        "outputId": "d906af43-9f15-45ed-cc3a-23c342c01373"
      },
      "source": [
        "state_names = ['not known (mobile or not mobile)', 'work', 'work', 'school,training',\n",
        "               'shopping', 'private', 'bring,pick up', 'freetime', 'home', \n",
        "               'else (outside not mobile)', 'not known (not mobile)', 'by foot', \n",
        "               'bicycle', 'motorcycle', 'car driver', 'car codriver', 'public transport', \n",
        "               'long distance public-transport', 'else (mobile)', 'not known (mobile)']\n",
        "\n",
        "no_states = int(len(np.unique(states_mop)))\n",
        "timesteps = int(states_mop.shape[1])\n",
        "\n",
        "\"\"\"\n",
        "States:\n",
        "0:not known (mobile or not mobile)\n",
        "1:work\n",
        "2:work\n",
        "3:school,training\n",
        "4:shopping\n",
        "5:private\n",
        "6:bring,pick up\n",
        "7:freetime\n",
        "8:home\n",
        "9:else (outside not mobile)\n",
        "10:not known (not mobile)\n",
        "11:by foot \n",
        "12:bicycle\n",
        "13:motorcycle\n",
        "14:car driver\n",
        "15:car codriver\n",
        "16:public transport\n",
        "17:long distance public-transport\n",
        "18:else (mobile)\n",
        "20:not known (mobile)\n",
        "\"\"\""
      ],
      "execution_count": null,
      "outputs": [
        {
          "output_type": "execute_result",
          "data": {
            "application/vnd.google.colaboratory.intrinsic+json": {
              "type": "string"
            },
            "text/plain": [
              "'\\nStates:\\n0:not known (mobile or not mobile)\\n1:work\\n2:work\\n3:school,training\\n4:shopping\\n5:private\\n6:bring,pick up\\n7:freetime\\n8:home\\n9:else (outside not mobile)\\n10:not known (not mobile)\\n11:by foot \\n12:bicycle\\n13:motorcycle\\n14:car driver\\n15:car codriver\\n16:public transport\\n17:long distance public-transport\\n18:else (mobile)\\n20:not known (mobile)\\n'"
            ]
          },
          "metadata": {
            "tags": []
          },
          "execution_count": 17
        }
      ]
    },
    {
      "cell_type": "code",
      "metadata": {
        "id": "xf9RT5Yi-Vzb"
      },
      "source": [
        "# TANK-Tabelle(2017-2018) einlesen:\n",
        "\n",
        "with open('/content/drive/MyDrive/Tobias_MA/Data/TANK18.csv') as tank_csv:\n",
        "  tank_object = csv.reader(tank_csv, delimiter=',')\n",
        "  #for row in tank_object:\n",
        "    #print(row)\n"
      ],
      "execution_count": null,
      "outputs": []
    },
    {
      "cell_type": "markdown",
      "metadata": {
        "id": "rz9K9vSzb5Pm"
      },
      "source": [
        "### Classes"
      ]
    },
    {
      "cell_type": "code",
      "metadata": {
        "id": "1gRzHhdRe6M9"
      },
      "source": [
        "# erstellt ein Haushalt-Objekt\n",
        "# enthält Informationen über den gewählten Haushalt (Anzahl Bewohner, Anzahl Fahrer, alle Mobilitätsprofile der Bewohner, Position im Datensatz ... )\n",
        "# vorerst: entweder zufällig oder mit bekannter ID\n",
        "# TODO: Eingabemöglichkeit verschiedener Parameter (z.B. Haushaltsgröße, Einkommen etc.) -> Rückgabe einer Liste der ähnlichsten Haushalte (set-Methoden)\n",
        "\n",
        "class Household:\n",
        "    def __init__(self, household_ID):\n",
        "        self.household_ID = household_ID\n",
        "        #self.household_size = household_size\n",
        "        self.position = np.where(meta_mop_filtered[:,0] == self.household_ID)[0]\n",
        "        self.chosen_household = meta_mop_filtered.astype(int) [np.where(meta_mop_filtered[:,0] == self.household_ID)]\n",
        "\n",
        "        \"\"\"\n",
        "        - Constructor of household object\n",
        "        - householdID: ID of household (MOP-Data) -> sorted in ascending order\n",
        "        - householdSize: # of occupants of household\n",
        "        \"\"\"\n",
        "  \n",
        "    def get_household(self):\n",
        "      return self.chosen_household.astype(int)\n",
        "    # returns chosen household (array with >= 1 entries (1 entry = 1 person, 1 year))\n",
        "\n",
        "    def get_number_of_occupants(self):\n",
        "      return self.chosen_household[0,5]\n",
        "    # returns number of occupants living in chosen household\n",
        "    \n",
        "    def get_number_of_drivers(self):\n",
        "      states = self.get_states(0,1008) # betrachte states in der ganzen Woche\n",
        "      number_of_drivers = 0\n",
        "      for i in range(0,len(states)):\n",
        "        if ((states[i]==14).sum() > 0):\n",
        "          number_of_drivers += 1\n",
        "      return number_of_drivers\n",
        "    # returns number of drivers (at least one state == 14) living in chosen household\n",
        "\n",
        "    def get_drivers(self):\n",
        "      states = self.get_states(0,1008) # betrachte states in der ganzen Woche\n",
        "      drivers_list = []\n",
        "      for i in range(0,len(states)):\n",
        "          if ((states[i]==14).sum() > 0):\n",
        "            drivers_list.append(self.get_data_position()[i])\n",
        "      return drivers_list\n",
        "    # returns list of all drivers of chosen household\n",
        "    \n",
        "    def get_number_of_cars(self):\n",
        "      return self.chosen_household[0,7]\n",
        "    # returns number of cars of chosen household\n",
        "    \n",
        "    def get_data_position(self):\n",
        "      position_list = []\n",
        "      for i in self.position:\n",
        "          position_list.append(i)\n",
        "      return position_list\n",
        "    # returns indeces of chosen household in data set\n",
        "    \n",
        "    def get_states(self, start, end):\n",
        "      for i in self.position:\n",
        "        return states_mop_filtered[self.position,start:end]\n",
        "    # returns all states for timespace between start and end\n",
        "\n",
        "    def get_speeds(self, start, end):\n",
        "      for i in self.position:\n",
        "        return speed_mop_filtered[self.position,start:end]\n",
        "    # returns all speeds for timespace between start and end\n",
        "\n",
        "    def get_persons (self, person_number):\n",
        "      household_positions = self.get_data_position()\n",
        "      persons = [Personal_Mobility_Profile (position = i, household_ID = self.household_ID) for i in household_positions]\n",
        "      return persons[person_number].position\n",
        "    # returns position of chosen Person-object in data set\n",
        "\n",
        "\n",
        "#####################\n",
        "\n",
        "\n",
        "    def check_merge(self):\n",
        "      if (self.get_number_of_drivers() > self.get_number_of_cars()):\n",
        "        print(\"Merge necessary. Start method merge().\")\n",
        "        return True\n",
        "      else:\n",
        "        print(\"No merge necessary.\")\n",
        "        return  False\n",
        "    # checks whether a mobility profile merge is necessary\n",
        "\n",
        "    def test(self, person_object):\n",
        "        persons = person_object.sort_drivers(self)\n",
        "        for i in persons:\n",
        "          x = i.get_driver_positions(505, 1008) #driver positions\n",
        "        return x\n",
        "    \n",
        "    def merge(self, person_object):\n",
        "    # while-Schleife (solange Differenz ungleich 0 -> merge Profile)\n",
        "    # checke Differenz\n",
        "    # füge die beiden Fahrer, die am wenigsten fahren, zu einem Profil zusammen (-> states UND speeds)\n",
        "    # Anzahl driver-1\n",
        "    # usw.\n",
        "    # gebe die Personen-Profile zurück\n",
        "      x = self.get_number_of_drivers()\n",
        "      while x > self.get_number_of_cars():\n",
        "        print(\"merge\")\n",
        "        persons = person_object.sort_drivers(self)\n",
        "        persons.get_driver_positions(start, end) #driver positions\n",
        "        x -= 1"
      ],
      "execution_count": 395,
      "outputs": []
    },
    {
      "cell_type": "code",
      "metadata": {
        "id": "6g-sxskG0spP",
        "colab": {
          "base_uri": "https://localhost:8080/"
        },
        "outputId": "be86bf63-2f95-4c56-a203-c68f78aa3132"
      },
      "source": [
        "# testen, ob 1 Auto, mehrere Fahrer (4301011871)\n",
        "# testen, ob >1 Auto und mehrere Fahrer\n",
        "\n",
        "household_1 =  Household(household_ID = 4301011871)\n",
        "#print('Autos:', household_1.get_number_of_cars())\n",
        "#print('Drivers:',household_1.get_number_of_drivers())\n",
        "household_1.check_merge()"
      ],
      "execution_count": 396,
      "outputs": [
        {
          "output_type": "stream",
          "text": [
            "Merge necessary. Start method merge().\n"
          ],
          "name": "stdout"
        },
        {
          "output_type": "execute_result",
          "data": {
            "text/plain": [
              "True"
            ]
          },
          "metadata": {
            "tags": []
          },
          "execution_count": 396
        }
      ]
    },
    {
      "cell_type": "code",
      "metadata": {
        "colab": {
          "base_uri": "https://localhost:8080/"
        },
        "id": "Uv8ARLZjSwp0",
        "outputId": "c0c32d00-2497-4e83-afdc-3f6fedfefd95"
      },
      "source": [
        "print(household_1.test(person_1))"
      ],
      "execution_count": 397,
      "outputs": [
        {
          "output_type": "stream",
          "text": [
            "Drivers sorted in descending order.\n",
            "[13, 14, 21, 22, 23, 24, 162, 163, 166, 167, 171, 172, 173, 412, 413, 414, 456, 457, 458, 459, 460, 461]\n"
          ],
          "name": "stdout"
        }
      ]
    },
    {
      "cell_type": "code",
      "metadata": {
        "colab": {
          "base_uri": "https://localhost:8080/"
        },
        "id": "Qlya9Ad9sfSE",
        "outputId": "c19c0784-ee1a-41f9-de95-b1300ba787d8"
      },
      "source": [
        "household_1 =  Household(household_ID = 4301011871)\n",
        "\n",
        "# 1. positions aller driver des HH\n",
        "drivers = household_1.get_drivers()\n",
        "\n",
        "# 2. erstelle Array mit Listen aller states (für jeden driver eine Liste)\n",
        "all_driver_states = np.array([household_1.get_states(0,144)[0]])\n",
        "for i in range(1, len(drivers)):\n",
        "  all_driver_states = np.append(all_driver_states, [household_1.get_states(0,144)[i]], axis=0)\n",
        "print(all_driver_states)\n",
        "print(\"new array:\")\n",
        "\n",
        "# 3. betrachte ein array aus den letzten beiden Listen\n",
        "\n",
        "array = all_driver_states[-2:]\n",
        "print(array)\n",
        "\n",
        "# 4. ziehe positions aller 14er aus der letzten Liste heraus\n",
        "\n",
        "# 5. erzeuge eine neue Liste\n",
        "\n",
        "# 6. ersetze die letzten beiden Listen des arrays durch die neue Liste"
      ],
      "execution_count": 433,
      "outputs": [
        {
          "output_type": "stream",
          "text": [
            "[[ 0  0  0  0  0  0  0  0  0  0  0  0 10 10 10 10 10 10 10 10 10 10 10 10\n",
            "  10 10 10 10 10 10 10 10 10 10 10 10 10 10 10 10 10 10 10 10 14 14 14  8\n",
            "   8  8  8  8  8  8  8  8  8  8  8  8  8  8  8  8  8 15 15  7  7  7  7  7\n",
            "   7  7  7  7  7  7  7 15 15  8  8  8  8  8  8  8  8 11 11  8  8  8  8  8\n",
            "   8  8  8  8  8  8  8  8  8  8  8  8  8  8  8  8  8  8  8  8  8  8  8  8\n",
            "   8  8  8  8  8  8  8  8  8  8  8  8  8  8  8  8  8  8  8  8  8  8  8  8]\n",
            " [ 0  0  0  0  0  0  0  0  0  0  0  0 10 10 10 10 10 10 10 10 10 10 10 10\n",
            "  10 10 10 10 10 10 10 10 10 10 10 10 10 10 10 10 10 10 10 10 10 10 10 10\n",
            "  10 10 10 14 14 14 14 14  2  2  2  2  2  2  2  2  2  2  2  2  2  2  2  2\n",
            "   2  2  2  2  2  2  2  2  2  2  2  2  2  2  2  2  2  2  2  2  2  2  2  2\n",
            "   2 14 14 14 14  8  8 12  5  5  5  5 12  8  8  8  8  8  8  8  8  8  8  8\n",
            "   8  8  8  8  8  8  8  8  8  8  8  8  8  8  8  8  8  8  8  8  8  8  8  8]]\n",
            "new array:\n",
            "[[ 0  0  0  0  0  0  0  0  0  0  0  0 10 10 10 10 10 10 10 10 10 10 10 10\n",
            "  10 10 10 10 10 10 10 10 10 10 10 10 10 10 10 10 10 10 10 10 14 14 14  8\n",
            "   8  8  8  8  8  8  8  8  8  8  8  8  8  8  8  8  8 15 15  7  7  7  7  7\n",
            "   7  7  7  7  7  7  7 15 15  8  8  8  8  8  8  8  8 11 11  8  8  8  8  8\n",
            "   8  8  8  8  8  8  8  8  8  8  8  8  8  8  8  8  8  8  8  8  8  8  8  8\n",
            "   8  8  8  8  8  8  8  8  8  8  8  8  8  8  8  8  8  8  8  8  8  8  8  8]\n",
            " [ 0  0  0  0  0  0  0  0  0  0  0  0 10 10 10 10 10 10 10 10 10 10 10 10\n",
            "  10 10 10 10 10 10 10 10 10 10 10 10 10 10 10 10 10 10 10 10 10 10 10 10\n",
            "  10 10 10 14 14 14 14 14  2  2  2  2  2  2  2  2  2  2  2  2  2  2  2  2\n",
            "   2  2  2  2  2  2  2  2  2  2  2  2  2  2  2  2  2  2  2  2  2  2  2  2\n",
            "   2 14 14 14 14  8  8 12  5  5  5  5 12  8  8  8  8  8  8  8  8  8  8  8\n",
            "   8  8  8  8  8  8  8  8  8  8  8  8  8  8  8  8  8  8  8  8  8  8  8  8]]\n"
          ],
          "name": "stdout"
        }
      ]
    },
    {
      "cell_type": "code",
      "metadata": {
        "colab": {
          "base_uri": "https://localhost:8080/"
        },
        "id": "uKRLmx_Vb7o2",
        "outputId": "7e5b58ff-e099-4079-a349-e328a292b0e7"
      },
      "source": [
        "#list2[0] = list1[0]\n",
        "list1 = household_1.get_states(505,700)[0]\n",
        "list2 = household_1.get_states(505,700)[1]\n",
        "\n",
        "print(list1)\n",
        "print(list2)"
      ],
      "execution_count": 398,
      "outputs": [
        {
          "output_type": "stream",
          "text": [
            "[ 7  7  7  7  7  7  7  7  7  7  7  7  7 15 15  7  7  7  7  7  7 15 15 15\n",
            " 15  8  8  8  8  8  8  8  8  8  8  8  8  8  8  8  8  8  8  8  8  8  8  8\n",
            "  8  8  8  8  8  8  8  8  8  8  8  8  8  8  8  8  8  8  8  8  8  8  8  8\n",
            "  8  8  8  8  8  8  8  8  8  8  8  8  8  8  8  8  8  8  8  8  8  8  8  8\n",
            "  8  8  8  8  8  8  8  8  8  8  8  8  8  8  8  8  8  8  8  8  8  8  8  8\n",
            "  8  8  8  8 14  7 14 14  8  8  8  8  8  8  8  8  8  8  8  8  8  8  8  8\n",
            "  8  8  8  8  8  8  8  8  8  8  8  8  8  8  8  8  8  8  8  8  8  8  8  8\n",
            "  8  8  8  8  8  8  8  8  8  8  8  8  8  8  8  8  8  8  8  8  8  8  8  8\n",
            "  8  8  8]\n",
            "[ 7  7  7  7  7  7  7  7  7  7  7  7  7 14 14  7  7  7  7  7  7 14 14 14\n",
            " 14  8  8  8  8  8  8  8  8  8  8  8  8  8  8  8  8  8  8  8  8  8  8  8\n",
            "  8  8  8  8  8  8  8  8  8  8  8  8  8  8  8  8  8  8  8  8  8  8  8  8\n",
            "  8  8  8  8  8  8  8  8  8  8  8  8  8  8  8  8  8  8  8  8  8  8  8  8\n",
            "  8  8  8  8  8  8  8  8  8  8  8  8  8  8  8  8  8  8  8  8  8  8  8  8\n",
            "  8  8  8  8  8  8  8  8  8  8  8  8  8  8  8  8  8  8  8  8  8  8  8  8\n",
            "  8  8  8  8  8  8  8  8  8  8  8  8  8  8  8  8  8  8 14 14  5  5 14 14\n",
            "  4  4  4 14 14 14  8  8  8  8  8  8  8  8  8  8  8  8  8  8  8  8  8  8\n",
            "  8  8  8]\n"
          ],
          "name": "stdout"
        }
      ]
    },
    {
      "cell_type": "code",
      "metadata": {
        "colab": {
          "base_uri": "https://localhost:8080/"
        },
        "id": "qxYMJBqecuz-",
        "outputId": "3af63ae9-fb4b-4381-d3a5-765c57132c1f"
      },
      "source": [
        "#list3 = list1 # die states der ersten Person werden behalten. Außer, wenn die andere Person fährt\n",
        "list3=list1.copy()\n",
        "\n",
        "list2_14 = [13, 14, 21, 22, 23, 24, 162, 163, 166, 167, 171, 172, 173]\n",
        "\n",
        "for i in list2_14:\n",
        "  list3[i] = 14\n",
        "\n",
        "print(list3)\n",
        "\n"
      ],
      "execution_count": 399,
      "outputs": [
        {
          "output_type": "stream",
          "text": [
            "[ 7  7  7  7  7  7  7  7  7  7  7  7  7 14 14  7  7  7  7  7  7 14 14 14\n",
            " 14  8  8  8  8  8  8  8  8  8  8  8  8  8  8  8  8  8  8  8  8  8  8  8\n",
            "  8  8  8  8  8  8  8  8  8  8  8  8  8  8  8  8  8  8  8  8  8  8  8  8\n",
            "  8  8  8  8  8  8  8  8  8  8  8  8  8  8  8  8  8  8  8  8  8  8  8  8\n",
            "  8  8  8  8  8  8  8  8  8  8  8  8  8  8  8  8  8  8  8  8  8  8  8  8\n",
            "  8  8  8  8 14  7 14 14  8  8  8  8  8  8  8  8  8  8  8  8  8  8  8  8\n",
            "  8  8  8  8  8  8  8  8  8  8  8  8  8  8  8  8  8  8 14 14  8  8 14 14\n",
            "  8  8  8 14 14 14  8  8  8  8  8  8  8  8  8  8  8  8  8  8  8  8  8  8\n",
            "  8  8  8]\n"
          ],
          "name": "stdout"
        }
      ]
    },
    {
      "cell_type": "code",
      "metadata": {
        "id": "1rYmIEQZqBgG"
      },
      "source": [
        "# erstellt das Mobilitätsprofil EINER Person\n",
        "# dafür muss die position der Person im Datensatz angegeben werden (erste Zeile im Datensatz = Person 0)\n",
        "\n",
        "class Personal_Mobility_Profile:\n",
        "    def __init__(self, position, household_ID):\n",
        "      self.position = position #position in data\n",
        "      self.household_ID = household_ID\n",
        "      self.total_distance = total_distance\n",
        "       \n",
        "      if ((self.get_state(0,1008)==14).sum() > 0):\n",
        "        self.driver_bool = True  #true, wenn person ein Fahrer ist\n",
        "      else:\n",
        "        self.driver_bool = False\n",
        "      \n",
        "      if self.driver_bool == True:\n",
        "        list_1 = self.get_driver_positions(start, end) #Liste aller states=14\n",
        "        speeds_sum = 0\n",
        "        for i in list_1:\n",
        "          speeds_sum = speeds_sum + self.get_single_speed(i)     #Summe aller Geschwindigkeiten (state=14) \n",
        "        mean_speed = speeds_sum / len(list_1)  # in km/h\n",
        "        time = len(list_1) * 10 # in min\n",
        "        distance = mean_speed * time / 60\n",
        "        self.total_distance = distance\n",
        "      else:\n",
        "        self.total_distance = 0   \n",
        "\n",
        "\n",
        "    \"\"\"\n",
        "    - Constructor of Personal_Mobility_Profile Object\n",
        "    - householdID: ID of household (MOP-Data) -> sorted in ascending order\n",
        "    - position: position of individual person in data set (first line in data set = person 0)\n",
        "    \"\"\"\n",
        "\n",
        "    def get_state(self, start, end):\n",
        "        states = states_mop_filtered[self.position,start:end]\n",
        "        return states\n",
        "    # returns states for individual persons between start and end\n",
        "\n",
        "    def get_speed(self, start, end):\n",
        "        return speed_mop_filtered[self.position,start:end]\n",
        "    # returns speed for timespace between start and end\n",
        "\n",
        "    def get_single_speed(self, timestep):\n",
        "        return speed_mop_filtered[self.position, timestep]\n",
        "    # returns speed for one single timestep\n",
        "\n",
        "    def get_adjusted_states(self, start, end):\n",
        "        states = self.get_state(start,end)\n",
        "        states_adjusted = np.where((states == 8) | (states == 14) | (states == 1) | (states == 2), states, 30)\n",
        "        return states_adjusted\n",
        "    # returns adjusted states for individual person\n",
        "    # 8: home; 1,2: work; 14: Car driver; 30: rest\n",
        "\n",
        "    def get_driver_positions(self, start, end):\n",
        "        list_car_driver = [i for i in range(len(self.get_state(start, end))) if self.get_state(start, end)[i] == 14]\n",
        "        return list_car_driver\n",
        "    # returns every position in states where car driver (state=14) = true\n",
        "    \n",
        "    def get_total_distance(self, start, end):\n",
        "      list_1 = self.get_driver_positions(start, end) #Liste aller states=14\n",
        "      speeds_sum = 0\n",
        "      for i in list_1:\n",
        "        speeds_sum = speeds_sum + self.get_single_speed(i)     #Summe aller Geschwindigkeiten (state=14) \n",
        "      mean_speed = speeds_sum / len(list_1)  # in km/h\n",
        "      time = len(list_1) * 10 # in min\n",
        "      distance = mean_speed * time / 60\n",
        "      return distance \n",
        "    # returns total distance driven by person in the week\n",
        "\n",
        "\n",
        "    def sort_drivers(self, household_object):\n",
        "      household_drivers = household_object.get_drivers()\n",
        "      drivers = []   \n",
        "      for i in household_drivers:\n",
        "        drivers.append(Personal_Mobility_Profile(position = i, household_ID = household_ID)) #erstellt für jeden driver ein Personal_Mobility_Profile\n",
        "      drivers.sort(key=lambda x: x.total_distance, reverse=True)\n",
        "      sorted_drivers = sorted(drivers, key=lambda x: x.total_distance, reverse=True)\n",
        "      print(\"Drivers sorted in descending order by total driving distance (km) in one week.\")\n",
        "      return (sorted_drivers)\n",
        "    # returns list with all drivers in household sorted in descending order by total distance (in whole week)\n",
        "    ### testen, ob sortieren funktioniert (-> alle sind in MOP bereits absteigend sortiert!)"
      ],
      "execution_count": 295,
      "outputs": []
    },
    {
      "cell_type": "code",
      "metadata": {
        "id": "TymdVLY5q7d0"
      },
      "source": [
        "# wird aufgerufen, um zu prüfen, ob Mobilitätsprofile von Personen im Haushalt zusammengelegt werden müssen (mehr Fahrer im Haushalt, als Autos)\n",
        "# führt Zusammenlegung, wenn nötig, durch (Personen mit geringster wöchentlicher Fahrleistung werden solange zusammengelegt, bis Anzahl Fahrer = Anzahl Autos)\n",
        "# gibt die zusammengelegten Mobilitätsprofile aus\n",
        "# TODO: Methode merge() noch nicht fertig (muss auf get_total_distance zugreifen)\n",
        "# TODO: in Household-Klasse verschieben\n",
        "\n",
        "class Profile_Merge:\n",
        "    def __init__(self, household_ID, number_of_cars, number_of_drivers, drivers):\n",
        "      self.household_ID = household_ID\n",
        "      self.number_of_cars = number_of_cars #Anzahl Autos im Haushalt\n",
        "      self.number_of_drivers = number_of_drivers #Anzahl Personen im Haushalt\n",
        "      self.drivers = drivers # Liste aller Personen des Haushalts, die mind. einmal Auto als Fahrer (mind. 2) (Liste aller Indezes aus dem Datensatz)\n",
        "\n",
        "    \"\"\"\n",
        "    - Constructor of Profile_Merge Object\n",
        "    - householdID: ID of household (MOP-Data) -> sorted in ascending order\n",
        "    - number_of_cars: total number of cars in household\n",
        "    - number_of_drivers: total number of drivers in household (at least one state = 14)\n",
        "    - drivers: list of all drivers in household (at least 2)\n",
        "    \"\"\"\n",
        "\n",
        "    def check_merge(self):\n",
        "      if (self.number_of_drivers > self.number_of_cars):\n",
        "        print(\"Merge necessary. Start method merge().\")\n",
        "      else:\n",
        "        print(\"No merge necessary.\")\n",
        "    # checks whether a mobility profile merge is necessary\n",
        "    \n",
        "    def merge(self):\n",
        "    # while-Schleife (solange Differenz ungleich 0 -> merge Profile)\n",
        "    # checke Differenz\n",
        "    # füge die beiden Fahrer, die am wenigsten fahren, zu einem Profil zusammen\n",
        "    # Anzahl driver-1\n",
        "    # usw.\n",
        "    # gebe die Personen-Profile zurück\n",
        "      x= self.number_of_drivers\n",
        "      while x > self.number_of_cars:\n",
        "        print(\"merge\")\n",
        "        x -= 1\n"
      ],
      "execution_count": 300,
      "outputs": []
    },
    {
      "cell_type": "code",
      "metadata": {
        "id": "NuWMZPQQesFf"
      },
      "source": [
        "# Zuordnung persönliche Mobilitätsprofil(e) zu Auto(s)\n",
        "# davor muss merge stattgefunden haben -> Anzahl Mobilitätsprofile = Anzahl Autos\n",
        "# Mobility-Profile mit der höchsten Fahrleistung (MOP W) -> Auto mit höchster Fahrleistung usw.\n",
        "# Eingabe: alle Mobilitätsprofile der Fahrer, alle Speed-Profile der Fahrer\n",
        "# Rückgabe: Mobilitätsprofile und Speed-Profile mit zugehöriger Autonummer\n",
        "# TODO: Methode allocate_profile()\n",
        "\n",
        "class Allocation:\n",
        "    def __init__(self, mobility_profiles, speed_profiles):\n",
        "      self.mobility_profiles = mobility_profiles\n",
        "      self.speed_profiles = speed_profiles\n",
        "      #self.cars = cars #man weiß automatisch, wie viele Autos verfügbar, da vorher merge\n",
        "\n",
        "    \"\"\"\n",
        "    - Constructor of Allocation Object\n",
        "    - mobility_profiles: list of mobility profiles of all household-drivers\n",
        "    - speed_profiles: list of speed profiles of all household-drivers\n",
        "    \"\"\"\n",
        "\n",
        "    #def allocate_profile (self):\n",
        "      # Zuordnung Mob.profil zu Auto\n",
        "\n"
      ],
      "execution_count": 281,
      "outputs": []
    },
    {
      "cell_type": "code",
      "metadata": {
        "id": "LfMpE_Izi1TP"
      },
      "source": [
        "# erstellt zu gewünschtem Auto im gewünschten Zeitraum das Mobilitätsprofil\n",
        "# davor müssen merge und allocation gelaufen sein\n",
        "# TODO: Methode\n",
        "\n",
        "class Car_Profile:\n",
        "    def __init__(self, household_ID, mobility_profile, speed_profile, start, end):\n",
        "      self.household_ID = household_ID\n",
        "      self.mobility_profile = mobility_profile # zum Auto gehöriges Mobility-Profile\n",
        "      self.speed_profile = speed_profile # zum Auto gehöriges Speed-Profile\n",
        "      self.start = start\n",
        "      self.end = end\n",
        "    \n",
        "    \"\"\"\n",
        "    - Constructor of Car-Profile Object\n",
        "    - householdID: ID of household (MOP-Data) -> sorted in ascending order\n",
        "    - mobility_profile: mobility profile of car\n",
        "    - speed_profile: speed profile of car\n",
        "    - start: start timestep\n",
        "    - end: end timestep\n",
        "    \"\"\"\n",
        "    \n",
        "    def get_car_profile_plot(self):\n",
        "      #print(\"Profile for the chosen car from household \" + self.household_ID + \" for timesteps \" + self.start + \" until \" + self.end + \" :\")\n",
        "      return plt.plot(self.mobility_profile)\n",
        "    \n",
        "    \n"
      ],
      "execution_count": 282,
      "outputs": []
    },
    {
      "cell_type": "code",
      "metadata": {
        "id": "cUM5euqDKwi1"
      },
      "source": [
        "#class Car_Substitution:\n",
        "# E-Auto Fahrzeugdaten wie BA von Heinz\n",
        "   #def __init__(self):\n",
        "       #self.consumption = consumption \n",
        "       #self.household_ID = household_ID\n",
        "       #self.segment = segment\n",
        "       \n"
      ],
      "execution_count": 283,
      "outputs": []
    },
    {
      "cell_type": "code",
      "metadata": {
        "id": "6Lh_gnXpfKyJ"
      },
      "source": [
        "#class Charging_Profile\n",
        "# zunächst nur die beiden trivialen Ladestrategien\n",
        "# Angabe, wo mit welcher Ladeleistung geladen werden kann\n"
      ],
      "execution_count": 284,
      "outputs": []
    },
    {
      "cell_type": "code",
      "metadata": {
        "id": "-U5b6WEpOppe"
      },
      "source": [
        "#class Route:\n",
        "   # def __init__(self, household_ID, route_ID, departure_time, departure_point, arrival_time, arrival_point, purpose, length):\n",
        "        \n",
        "\n",
        "#car_ID -> Zuordnung\n",
        "#-> MOP W"
      ],
      "execution_count": 286,
      "outputs": []
    },
    {
      "cell_type": "markdown",
      "metadata": {
        "id": "bFt8XzsxCxHs"
      },
      "source": [
        "### Tool"
      ]
    },
    {
      "cell_type": "markdown",
      "metadata": {
        "id": "kPa-avvb5GNA"
      },
      "source": [
        "Erstellung eines Haushalt-Objektes:\n",
        "\n",
        "*   Bsp. für HH mit 1 Person: 4301011562;\n",
        "*   Bsp. für HH mit mehreren Personen: 4711036120\n",
        "*   Bsp. für HH mit 3 Fahrern, 3 Autos: 4301011674\n",
        "\n"
      ]
    },
    {
      "cell_type": "code",
      "metadata": {
        "id": "up83BDAKTHhr"
      },
      "source": [
        "# Erstellung eines Haushalt-Objekts in meta_mop_filtered\n",
        "# ansonsten: gewünschte ID eingeben\n",
        "\n",
        "household_1 =  Household(household_ID = 4301011871)\n",
        "household_1.get_household()"
      ],
      "execution_count": null,
      "outputs": []
    },
    {
      "cell_type": "code",
      "metadata": {
        "colab": {
          "base_uri": "https://localhost:8080/"
        },
        "id": "Kv9oDcrjUdIy",
        "outputId": "94d51453-1942-4898-d183-44117609ef9b"
      },
      "source": [
        "# Anzahl Bewohner des Haushalts\n",
        "# Anzahl Fahrer im Haushalt\n",
        "# Anzahl Autos im Haushalt\n",
        "\n",
        "print('number of occupants in chosen household: ', household_1.get_number_of_occupants())\n",
        "print('number of drivers in chosen household: ', household_1.get_number_of_drivers())\n",
        "print('number of cars in chosen household: ', household_1.get_number_of_cars())"
      ],
      "execution_count": 318,
      "outputs": [
        {
          "output_type": "stream",
          "text": [
            "number of occupants in chosen household:  2\n",
            "number of drivers in chosen household:  2\n",
            "number of cars in chosen household:  1\n"
          ],
          "name": "stdout"
        }
      ]
    },
    {
      "cell_type": "code",
      "metadata": {
        "colab": {
          "base_uri": "https://localhost:8080/"
        },
        "id": "m3yb3WOxR__D",
        "outputId": "93183878-1794-4697-9e6e-8c2393bf6128"
      },
      "source": [
        "# Informationen über die Position des Haushalts bzw. der Personen im Datensatz (filtered: nur 2017)\n",
        "# gibt die Position der gewünschten Person im Datensatz an. (0 = erste Person des HH usw.)\n",
        "\n",
        "print('The household can be found in the data set at row(s): ', household_1.get_data_position())\n",
        "\n",
        "person_number = 0     # 0: first person, 1: second person ...\n",
        "print('Person', person_number, 'can be found in the data set at row: ', household_1.get_persons(person_number))\n",
        "\n",
        "# gebe drivers aus:\n",
        "print('Drivers of household:', household_1.get_drivers())"
      ],
      "execution_count": 319,
      "outputs": [
        {
          "output_type": "stream",
          "text": [
            "The household can be found in the data set at row(s):  [71, 72]\n",
            "Person 0 can be found in the data set at row:  71\n",
            "Drivers of household: [71, 72]\n"
          ],
          "name": "stdout"
        }
      ]
    },
    {
      "cell_type": "code",
      "metadata": {
        "id": "RRQukDDE-cXN",
        "colab": {
          "base_uri": "https://localhost:8080/",
          "height": 302
        },
        "outputId": "75012c1e-5bc7-4889-a1b6-d9b441106eee"
      },
      "source": [
        "# Ausgabe der Mobilitätsprofile\n",
        "\n",
        "start = 0    # timesteps\n",
        "end = 504\n",
        "person_number = 0\n",
        "\n",
        "mobility_profiles = household_1.get_states(start,end)\n",
        "\n",
        "print('Mobility profile of person', person_number, ':')\n",
        "plt.plot(mobility_profiles[person_number])"
      ],
      "execution_count": 324,
      "outputs": [
        {
          "output_type": "stream",
          "text": [
            "Mobility profile of person 0 :\n"
          ],
          "name": "stdout"
        },
        {
          "output_type": "execute_result",
          "data": {
            "text/plain": [
              "[<matplotlib.lines.Line2D at 0x7f6ef0ebfdd0>]"
            ]
          },
          "metadata": {
            "tags": []
          },
          "execution_count": 324
        },
        {
          "output_type": "display_data",
          "data": {
            "image/png": "[encoded data removed]",
            "text/plain": [
              "<Figure size 432x288 with 1 Axes>"
            ]
          },
          "metadata": {
            "tags": [],
            "needs_background": "light"
          }
        }
      ]
    },
    {
      "cell_type": "code",
      "metadata": {
        "id": "llMQdaupBZcu"
      },
      "source": [
        "# Ausgabe der Speed-Profiles\n",
        "\n",
        "start = 0     # timesteps\n",
        "end = 504\n",
        "person_number = 0\n",
        "\n",
        "speed_profiles = household_1.get_speeds(start, end)\n",
        "\n",
        "print('Speed profile of person', person_number, ':')\n",
        "plt.plot(speed_profiles[person_number])"
      ],
      "execution_count": null,
      "outputs": []
    },
    {
      "cell_type": "code",
      "metadata": {
        "id": "_gBmXNncw6ks",
        "colab": {
          "base_uri": "https://localhost:8080/"
        },
        "outputId": "954d5ac8-3acb-4e9e-b225-da1c6a709f37"
      },
      "source": [
        "# Ausgabe der States eines individuellen HH-Mitglieds\n",
        "person_number = 1\n",
        "household_ID = household_1.household_ID\n",
        "start = 0\n",
        "end = 504\n",
        "\n",
        "\n",
        "print('Person', person_number, 'is a driver:', person_1.driver_bool)\n",
        "print('Person', person_number, 'drove the following total distance (km) in one weeek:', person_1.total_distance)\n",
        "\n",
        "# Liste aller Positionen \"Car Driver\":\n",
        "print('positions where car driver is true:\\n', person_1.get_driver_positions(start, end))\n",
        "\n",
        "# erstelle Personal_Mobility_Profile Objekt:\n",
        "person_1 = Personal_Mobility_Profile (position = household_1.get_persons(person_number), household_ID = household_ID)\n",
        "print('original states for person', person_number,':\\n', person_1.get_state(start,end))\n",
        "print('\\n')\n",
        "\n",
        "# setze alle states außer 1,2 (work), 8 (home), 14 (car driver) auf 30\n",
        "print('adjusted states for person', person_number, ':\\n', person_1.get_adjusted_states(start, end))\n",
        "print('\\n')"
      ],
      "execution_count": 380,
      "outputs": [
        {
          "output_type": "stream",
          "text": [
            "Person 1 is a driver: True\n",
            "Person 1 drove the following total distance (km) in one weeek: 12.0\n",
            "positions where car driver is true:\n",
            " [373, 379, 380]\n",
            "original states for person 1 :\n",
            " [ 0  0  0  0  0  0  0  0  0  0  0  0 10 10 10 10 10 10 10 10 10 10 10 10\n",
            " 10 10 10 10 10 10 10 10 10 10 10 10 10 10 10 10 10 10 10 10 10 10 10 10\n",
            " 10 10 10 14 14 14 14 14  2  2  2  2  2  2  2  2  2  2  2  2  2  2  2  2\n",
            "  2  2  2  2  2  2  2  2  2  2  2  2  2  2  2  2  2  2  2  2  2  2  2  2\n",
            "  2 14 14 14 14  8  8 12  5  5  5  5 12  8  8  8  8  8  8  8  8  8  8  8\n",
            "  8  8  8  8  8  8  8  8  8  8  8  8  8  8  8  8  8  8  8  8  8  8  8  8\n",
            "  8  8  8  8  8  8  8  8  8  8  8  8  8  8  8  8  8  8  8  8  8  8  8  8\n",
            "  8  8  8  8  8  8  8  8  8  8  8  8  8  8  8  8  8  8  8  8  8  8  8  8\n",
            "  8  8  8  8  8  8  8 14 14 14  1  1  1  1  1  1  1  1  1  1  1  1  1  1\n",
            "  1  1  1  1  1  1  1  1  1  1  1  1 14 14  8  8  8  8  8  8  8  8  8  8\n",
            "  8  8  8  8  8  8  8  8 15 15 15  7  7  7  7  7  7  7  7  7  7  7  7  7\n",
            "  7  7  7  7  7  7  7  7  7  7  7  7  7  7  7  7  7  7 15 15  8  8  8  8\n",
            "  8  8  8  8  8  8  8  8  8  8  8  8  8  8  8  8  8  8  8  8  8  8  8  8\n",
            "  8  8  8  8  8  8  8  8  8  8  8  8  8  8  8  8  8  8  8  8  8  8  8  8\n",
            "  8 14 14 14 14  8  8  8  8  8  8  8  8  8  8  8  8  8  8  8  8  8  8  8\n",
            "  8  8  8  8  8  8  8  8  8  8  8  8  8  8  8  8  8  8  8  8  8  8  8  8\n",
            "  8  8  8  8  8  8  8  8  8  8  8  8  8  8  8  8  8  8  8  8  8  8  8  8\n",
            "  8  8  8  8  8  8  8  8  8  8  8  8  8  8  8  8  8  8  8  8  8  8  8  8\n",
            "  8  8  8  8  8  8  8  8  8  8  8  8  8  8  8  8  8  8  8  8  8  8  8  8\n",
            "  8  8  8  8  8  8  8  8  8  8  8  8  8  8  8  8  8  8  8  8  8  8  8  8\n",
            "  8  8  8  8  8  8  8  8  8  8  8  8  8  8  8 15 15 15  7  7  7  7  7  7]\n",
            "\n",
            "\n",
            "adjusted states for person 1 :\n",
            " [30 30 30 30 30 30 30 30 30 30 30 30 30 30 30 30 30 30 30 30 30 30 30 30\n",
            " 30 30 30 30 30 30 30 30 30 30 30 30 30 30 30 30 30 30 30 30 30 30 30 30\n",
            " 30 30 30 14 14 14 14 14  2  2  2  2  2  2  2  2  2  2  2  2  2  2  2  2\n",
            "  2  2  2  2  2  2  2  2  2  2  2  2  2  2  2  2  2  2  2  2  2  2  2  2\n",
            "  2 14 14 14 14  8  8 30 30 30 30 30 30  8  8  8  8  8  8  8  8  8  8  8\n",
            "  8  8  8  8  8  8  8  8  8  8  8  8  8  8  8  8  8  8  8  8  8  8  8  8\n",
            "  8  8  8  8  8  8  8  8  8  8  8  8  8  8  8  8  8  8  8  8  8  8  8  8\n",
            "  8  8  8  8  8  8  8  8  8  8  8  8  8  8  8  8  8  8  8  8  8  8  8  8\n",
            "  8  8  8  8  8  8  8 14 14 14  1  1  1  1  1  1  1  1  1  1  1  1  1  1\n",
            "  1  1  1  1  1  1  1  1  1  1  1  1 14 14  8  8  8  8  8  8  8  8  8  8\n",
            "  8  8  8  8  8  8  8  8 30 30 30 30 30 30 30 30 30 30 30 30 30 30 30 30\n",
            " 30 30 30 30 30 30 30 30 30 30 30 30 30 30 30 30 30 30 30 30  8  8  8  8\n",
            "  8  8  8  8  8  8  8  8  8  8  8  8  8  8  8  8  8  8  8  8  8  8  8  8\n",
            "  8  8  8  8  8  8  8  8  8  8  8  8  8  8  8  8  8  8  8  8  8  8  8  8\n",
            "  8 14 14 14 14  8  8  8  8  8  8  8  8  8  8  8  8  8  8  8  8  8  8  8\n",
            "  8  8  8  8  8  8  8  8  8  8  8  8  8  8  8  8  8  8  8  8  8  8  8  8\n",
            "  8  8  8  8  8  8  8  8  8  8  8  8  8  8  8  8  8  8  8  8  8  8  8  8\n",
            "  8  8  8  8  8  8  8  8  8  8  8  8  8  8  8  8  8  8  8  8  8  8  8  8\n",
            "  8  8  8  8  8  8  8  8  8  8  8  8  8  8  8  8  8  8  8  8  8  8  8  8\n",
            "  8  8  8  8  8  8  8  8  8  8  8  8  8  8  8  8  8  8  8  8  8  8  8  8\n",
            "  8  8  8  8  8  8  8  8  8  8  8  8  8  8  8 30 30 30 30 30 30 30 30 30]\n",
            "\n",
            "\n"
          ],
          "name": "stdout"
        }
      ]
    },
    {
      "cell_type": "code",
      "metadata": {
        "colab": {
          "base_uri": "https://localhost:8080/"
        },
        "id": "5d1xsI6MK16Q",
        "outputId": "fa4a93be-a020-4f85-dbd7-4704becbf28e"
      },
      "source": [
        "# Sortiere Drivers absteigend nach total distance\n",
        "\n",
        "x = person_1.sort_drivers(household_object=household_1)\n",
        "#print(x[1].total_distance)\n",
        "#print(x[0].household_ID)"
      ],
      "execution_count": 337,
      "outputs": [
        {
          "output_type": "stream",
          "text": [
            "Drivers sorted in descending order.\n",
            "4301011707\n"
          ],
          "name": "stdout"
        }
      ]
    },
    {
      "cell_type": "markdown",
      "metadata": {
        "id": "Ct81aTKo_VJj"
      },
      "source": [
        "### Test"
      ]
    },
    {
      "cell_type": "code",
      "metadata": {
        "id": "vnHvt8oyuZul"
      },
      "source": [
        "# Fall: 1 Fahrzeug, mehrere Personen\n",
        "## Prüfungslogik, ob alle Fahrten nur einem Auto zugeordnet werden können\n",
        "# alle Arrays abgleichen, ob nie gleichzeitig eine 14 steht\n",
        "# wenn true -> Fehler gefunden\n",
        "\n",
        "result = [(x == y == 14) for x,y in zip(household_1.get_states(0,1008)[0], household_1.get_states(0,1008) [1])]\n",
        "np.any(result)"
      ],
      "execution_count": null,
      "outputs": []
    },
    {
      "cell_type": "code",
      "metadata": {
        "id": "IFUKsj299XD4"
      },
      "source": [
        "# Fahrzeugprofil für das Auto erstellen:\n",
        "# 3 Personen: 20044, 20045, 20046\n",
        "# nimmt immer den maximalen Wert\n",
        "vehicleProfile = mobProfile1\n",
        "\n",
        "vehicleProfile = np.maximum.reduce([mobProfile1, mobProfile2])\n",
        "\n",
        "print(vehicleProfile)\n",
        "print(mobProfile1)"
      ],
      "execution_count": null,
      "outputs": []
    },
    {
      "cell_type": "code",
      "metadata": {
        "id": "Ekvfycbtutvb"
      },
      "source": [
        "# Fall 1 Auto, 1 Person (Auto hat das gleiche Mobilitätsprofil, wie die Person)\n",
        "      if (household.get_number_of_occupants() == 1 and household.get_number_of_cars() == 1):\n",
        "        print(\"Car profile for household with 1 Car and 1 Person.\")\n",
        "        #create Person-Object\n",
        "        #person = Person(0, household_ID)\n",
        "        #person.get_state(start, end)\n",
        "        #household.get_persons(0).get_states(start,end)\n",
        "\n",
        "      \n",
        "      # Fall 1 Auto, mehrere Personen (Personen solange zusammenlegen, bis Anzahl gleich ist)\n",
        "      if (household.get_number_of_occupants() > 1 and household.get_number_of_cars() == 1):\n",
        "        print(\"Car profile for household with 1 Car and > 1 Person.\")\n",
        "      \n",
        "      # Fall mehrere Autos, gleich viele Personen\n",
        "      if (household.get_number_of_cars() > 1 and  household.get_number_of_cars() == household.get_number_of_occupants()):\n",
        "        print(\"Car profile for household with >1 Car and the same amount of persons.\")\n",
        "\n",
        "      # Fall mehrere Autos, mehr Personen als Autos (Personen so lange zusammenlegen, bis Anzahl gleich ist)\n",
        "      if (household.get_number_of_cars() > 1 and  household.get_number_of_cars() > household.get_number_of_occupants()):\n",
        "        print(\"Car profile for household with >1 Car and more persons than cars.\")"
      ],
      "execution_count": null,
      "outputs": []
    },
    {
      "cell_type": "code",
      "metadata": {
        "id": "-2xAz-H14agE"
      },
      "source": [
        "test_car_profile = Car_Profile (household_ID = 4711036120,  mobility_profile = household_1.get_states(0,1008)[0], speed_profile = household_1.get_speeds(0,1008)[0], start=0, end=1008)\n",
        "test_car_profile.get_car_profile_plot()"
      ],
      "execution_count": null,
      "outputs": []
    },
    {
      "cell_type": "code",
      "metadata": {
        "id": "GL4TxnCb-oYE"
      },
      "source": [
        "car_profile_1.get_profile()"
      ],
      "execution_count": null,
      "outputs": []
    }
  ]
}