{
  "nbformat": 4,
  "nbformat_minor": 0,
  "metadata": {
    "colab": {
      "name": "Mobility_Profile_Generation.ipynb",
      "provenance": [],
      "collapsed_sections": [],
      "include_colab_link": true
    },
    "kernelspec": {
      "display_name": "Python 3",
      "name": "python3"
    },
    "language_info": {
      "name": "python"
    }
  },
  "cells": [
    {
      "cell_type": "markdown",
      "metadata": {
        "id": "view-in-github",
        "colab_type": "text"
      },
      "source": [
        "<a href=\"https://colab.research.google.com/github/Tobi-KL/mobility_profile_generation/blob/main/Mobility_Profile_Generation.ipynb\" target=\"_parent\"><img src=\"https://colab.research.google.com/assets/colab-badge.svg\" alt=\"Open In Colab\"/></a>"
      ]
    },
    {
      "cell_type": "code",
      "metadata": {
        "colab": {
          "base_uri": "https://localhost:8080/"
        },
        "id": "0NNZaeoqMsiV",
        "outputId": "0b949747-4cf3-45bc-93f3-3e6fcb22d590"
      },
      "source": [
        "from google.colab import drive\n",
        "drive.mount('/content/drive')"
      ],
      "execution_count": 1,
      "outputs": [
        {
          "output_type": "stream",
          "text": [
            "Mounted at /content/drive\n"
          ],
          "name": "stdout"
        }
      ]
    },
    {
      "cell_type": "markdown",
      "metadata": {
        "id": "RQt67K-VC64E"
      },
      "source": [
        "### Preparation"
      ]
    },
    {
      "cell_type": "markdown",
      "metadata": {
        "id": "rysp-x35byLY"
      },
      "source": [
        "Connect to Google Drive"
      ]
    },
    {
      "cell_type": "markdown",
      "metadata": {
        "id": "nfy_P5nKNhxC"
      },
      "source": [
        "Load libraries"
      ]
    },
    {
      "cell_type": "code",
      "metadata": {
        "id": "JeZTPvcKMvW-"
      },
      "source": [
        "import numpy as np\n",
        "import pandas as pd\n",
        "import matplotlib.pyplot as plt\n",
        "import pickle\n",
        "import csv\n",
        "import xlrd\n",
        "import random"
      ],
      "execution_count": 2,
      "outputs": []
    },
    {
      "cell_type": "markdown",
      "metadata": {
        "id": "BXOnuoD6b1pn"
      },
      "source": [
        "Read Data"
      ]
    },
    {
      "cell_type": "code",
      "metadata": {
        "id": "GmFT8TjJMyKV"
      },
      "source": [
        "###   Read data    ###\n",
        "# data_mop.pkl: Aggregationsmethode \"immer die längste Aktivität\"\n",
        "# data_mop_priority: Aggregationsmethode \"priority\" (immer die Mobilitätsaktivität)\n",
        "\n",
        "with open('/content/drive/MyDrive/Tobias_MA/Data/data_mop_priority.pkl', 'rb') as input:\n",
        "        [states_mop,speed_mop,meta_mop,meta_header_mop] = pickle.load(input)"
      ],
      "execution_count": 3,
      "outputs": []
    },
    {
      "cell_type": "code",
      "metadata": {
        "id": "ccYxNulIrPyW"
      },
      "source": [
        "# nach Jahr 2017 filtern:\n",
        "meta_mop_filtered = meta_mop[-3820:-1,]\n",
        "states_mop_filtered = states_mop[-3820:-1,]\n",
        "speed_mop_filtered = speed_mop[-3820:-1,]"
      ],
      "execution_count": 4,
      "outputs": []
    },
    {
      "cell_type": "code",
      "metadata": {
        "id": "iN2Hy-MtN5eM",
        "colab": {
          "base_uri": "https://localhost:8080/",
          "height": 54
        },
        "outputId": "161f96ba-ef9b-49a8-8cb2-7f72d2f1af99"
      },
      "source": [
        "state_names = ['not known (mobile or not mobile)', 'work', 'work', 'school,training',\n",
        "               'shopping', 'private', 'bring,pick up', 'freetime', 'home', \n",
        "               'else (outside not mobile)', 'not known (not mobile)', 'by foot', \n",
        "               'bicycle', 'motorcycle', 'car driver', 'car codriver', 'public transport', \n",
        "               'long distance public-transport', 'else (mobile)', 'not known (mobile)']\n",
        "\n",
        "no_states = int(len(np.unique(states_mop)))\n",
        "timesteps = int(states_mop.shape[1])\n",
        "\n",
        "\"\"\"\n",
        "States:\n",
        "0:not known (mobile or not mobile)\n",
        "1:work\n",
        "2:work\n",
        "3:school,training\n",
        "4:shopping\n",
        "5:private\n",
        "6:bring,pick up\n",
        "7:freetime\n",
        "8:home\n",
        "9:else (outside not mobile)\n",
        "10:not known (not mobile)\n",
        "11:by foot \n",
        "12:bicycle\n",
        "13:motorcycle\n",
        "14:car driver\n",
        "15:car codriver\n",
        "16:public transport\n",
        "17:long distance public-transport\n",
        "18:else (mobile)\n",
        "20:not known (mobile)\n",
        "\"\"\""
      ],
      "execution_count": 5,
      "outputs": [
        {
          "output_type": "execute_result",
          "data": {
            "application/vnd.google.colaboratory.intrinsic+json": {
              "type": "string"
            },
            "text/plain": [
              "'\\nStates:\\n0:not known (mobile or not mobile)\\n1:work\\n2:work\\n3:school,training\\n4:shopping\\n5:private\\n6:bring,pick up\\n7:freetime\\n8:home\\n9:else (outside not mobile)\\n10:not known (not mobile)\\n11:by foot \\n12:bicycle\\n13:motorcycle\\n14:car driver\\n15:car codriver\\n16:public transport\\n17:long distance public-transport\\n18:else (mobile)\\n20:not known (mobile)\\n'"
            ]
          },
          "metadata": {
            "tags": []
          },
          "execution_count": 5
        }
      ]
    },
    {
      "cell_type": "code",
      "metadata": {
        "id": "xf9RT5Yi-Vzb"
      },
      "source": [
        "# Infos über die Autos des Haushalts:\n",
        "\n",
        "# TANK-Tabelle(2017-2018) einlesen:\n",
        "# SEGMENT in Spalte [174]\n",
        "# HOUSEHOLD_ID in Spalte [0]\n",
        "\n",
        "'''\n",
        "Segmente:\n",
        "\n",
        "1 Mini\n",
        "2 Kleinwagen\n",
        "3 Kompaktklasse\n",
        "4 Mittelklasse\n",
        "5 Obere Mittelklasse\n",
        "6 Oberklasse\n",
        "7 Geländewagen\n",
        "8 Sportwagen\n",
        "9 Mini-Van\n",
        "10 Großraum-Van\n",
        "11 Utility\n",
        "12 Wohnmobil\n",
        "13 SUV\n",
        ". Nicht ermittelbar\n",
        "'''\n",
        "\n",
        "\n",
        "csv_tank = np.genfromtxt ('/content/drive/MyDrive/Tobias_MA/Data/TANK18.csv', delimiter=\";\", encoding = \"ISO-8859-1\")\n",
        "segment_codes = ['Mini', 'Kleinwagen', 'Kompaktklasse', 'Mittelklasse', 'Obere Mittelklasse', 'Oberklasse', 'Geländewagen', 'Sportwagen', 'Mini-Van', 'Großraum-Van', 'Utility', 'Wohnmobil', 'SUV', 'nicht ermittelbar']\n"
      ],
      "execution_count": 6,
      "outputs": []
    },
    {
      "cell_type": "code",
      "metadata": {
        "colab": {
          "base_uri": "https://localhost:8080/"
        },
        "id": "-qIXYBAWK4HG",
        "outputId": "f231e619-feb8-4e10-bb18-ea247df2c2b8"
      },
      "source": [
        "# Elektroauto-Datenbank\n",
        "\n",
        "# [:,3]: Kapazität\n",
        "# [:,4]: Verbrauch nach WLTP\n",
        "# [:,5]: Ladeleistung\n",
        "\n",
        "csv_database_electric_cars = np.genfromtxt ('/content/drive/MyDrive/Tobias_MA/Data/Elektroauto_Datenbank.csv', delimiter=\";\", encoding = \"ISO-8859-1\")\n",
        "print(csv_database_electric_cars)\n"
      ],
      "execution_count": 7,
      "outputs": [
        {
          "output_type": "stream",
          "text": [
            "[[  nan   nan   nan   nan   nan   nan   nan]\n",
            " [  1.    nan   nan  18.   16.1  22.    nan]\n",
            " [  2.    nan   nan  41.   16.1  46.    nan]\n",
            " [  3.    nan   nan  62.   13.4 100.    nan]\n",
            " [  4.    nan   nan  77.   14.8 190.    nan]\n",
            " [  5.    nan   nan  82.   16.5 250.    nan]\n",
            " [  6.    nan   nan  95.   16.2 250.    nan]\n",
            " [  7.    nan   nan  95.   18.9 250.    nan]\n",
            " [  8.    nan   nan  79.   18.  225.    nan]\n",
            " [  9.    nan   nan  62.   18.1 175.    nan]\n",
            " [ 10.    nan   nan 100.   27.6 110.    nan]\n",
            " [ 11.    nan   nan  40.   25.9  46.    nan]\n",
            " [ 12.    nan   nan  24.   16.5  80.    nan]\n",
            " [ 13.    nan   nan  82.   17.1 126.    nan]]\n"
          ],
          "name": "stdout"
        }
      ]
    },
    {
      "cell_type": "code",
      "metadata": {
        "colab": {
          "base_uri": "https://localhost:8080/"
        },
        "id": "KA9CfNPb2j_C",
        "outputId": "48c50cb9-8c5e-455b-f43d-150055123e0a"
      },
      "source": [
        "# Wetter Deutschland 2017\n",
        "\n",
        "csv_weather = np.genfromtxt ('/content/drive/MyDrive/Tobias_MA/Data/Temperaturen_Deutschland_2017.csv', delimiter=\";\", encoding = \"ISO-8859-1\")\n",
        "print(csv_weather.astype(int))"
      ],
      "execution_count": 39,
      "outputs": [
        {
          "output_type": "stream",
          "text": [
            "[[-9223372036854775808 -9223372036854775808]\n",
            " [               20820                   -6]\n",
            " [               20820                   -6]\n",
            " ...\n",
            " [               21184                    6]\n",
            " [               21184                    6]\n",
            " [               21184                    6]]\n"
          ],
          "name": "stdout"
        }
      ]
    },
    {
      "cell_type": "code",
      "metadata": {
        "colab": {
          "base_uri": "https://localhost:8080/"
        },
        "id": "j2HlJwn_pnuD",
        "outputId": "43795b8f-81e4-4fc2-a157-6b002b66bc4e"
      },
      "source": [
        "print(meta_mop_filtered[0,32:39])\n",
        "print(meta_mop_filtered[0,0])\n",
        "print(len(speed_mop_filtered[0,:]))"
      ],
      "execution_count": 52,
      "outputs": [
        {
          "output_type": "stream",
          "text": [
            "[21079. 21080. 21081. 21082. 21083. 21084. 21085.]\n",
            "4301011559.0\n",
            "1008\n"
          ],
          "name": "stdout"
        }
      ]
    },
    {
      "cell_type": "code",
      "metadata": {
        "colab": {
          "base_uri": "https://localhost:8080/",
          "height": 246
        },
        "id": "qmEP-ok8YSQ0",
        "outputId": "34454fd8-5c33-4f6d-ecf3-24ef0bbeba51"
      },
      "source": [
        "temperature_profile_new = []\n",
        "\n",
        "i = meta_mop_filtered[0,32]\n",
        "x = np.where(csv_weather[:,0]==i)\n",
        "\n"
      ],
      "execution_count": 107,
      "outputs": [
        {
          "output_type": "error",
          "ename": "ValueError",
          "evalue": "ignored",
          "traceback": [
            "\u001b[0;31m---------------------------------------------------------------------------\u001b[0m",
            "\u001b[0;31mValueError\u001b[0m                                Traceback (most recent call last)",
            "\u001b[0;32m<ipython-input-107-197aa6037087>\u001b[0m in \u001b[0;36m<module>\u001b[0;34m()\u001b[0m\n\u001b[1;32m      4\u001b[0m \u001b[0mx\u001b[0m \u001b[0;34m=\u001b[0m \u001b[0mnp\u001b[0m\u001b[0;34m.\u001b[0m\u001b[0mwhere\u001b[0m\u001b[0;34m(\u001b[0m\u001b[0mcsv_weather\u001b[0m\u001b[0;34m[\u001b[0m\u001b[0;34m:\u001b[0m\u001b[0;34m,\u001b[0m\u001b[0;36m0\u001b[0m\u001b[0;34m]\u001b[0m\u001b[0;34m==\u001b[0m\u001b[0mi\u001b[0m\u001b[0;34m)\u001b[0m\u001b[0;34m\u001b[0m\u001b[0;34m\u001b[0m\u001b[0m\n\u001b[1;32m      5\u001b[0m \u001b[0;34m\u001b[0m\u001b[0m\n\u001b[0;32m----> 6\u001b[0;31m \u001b[0;32mif\u001b[0m \u001b[0;34m(\u001b[0m\u001b[0mcsv_weather\u001b[0m\u001b[0;34m[\u001b[0m\u001b[0;34m:\u001b[0m\u001b[0;34m,\u001b[0m\u001b[0;36m0\u001b[0m\u001b[0;34m]\u001b[0m\u001b[0;34m==\u001b[0m\u001b[0mi\u001b[0m\u001b[0;34m)\u001b[0m\u001b[0;34m:\u001b[0m\u001b[0;34m\u001b[0m\u001b[0;34m\u001b[0m\u001b[0m\n\u001b[0m\u001b[1;32m      7\u001b[0m   \u001b[0mtemperature_profile_new\u001b[0m\u001b[0;34m.\u001b[0m\u001b[0mappend\u001b[0m\u001b[0;34m(\u001b[0m\u001b[0mcsv_weather\u001b[0m\u001b[0;34m)\u001b[0m\u001b[0;34m\u001b[0m\u001b[0;34m\u001b[0m\u001b[0m\n\u001b[1;32m      8\u001b[0m \u001b[0mprint\u001b[0m\u001b[0;34m(\u001b[0m\u001b[0mtemperature_profile_new\u001b[0m\u001b[0;34m)\u001b[0m\u001b[0;34m\u001b[0m\u001b[0;34m\u001b[0m\u001b[0m\n",
            "\u001b[0;31mValueError\u001b[0m: The truth value of an array with more than one element is ambiguous. Use a.any() or a.all()"
          ]
        }
      ]
    },
    {
      "cell_type": "code",
      "metadata": {
        "colab": {
          "base_uri": "https://localhost:8080/"
        },
        "id": "431dL4GM6Tun",
        "outputId": "556d24e3-e944-47b3-895b-36489da69983"
      },
      "source": [
        "start = 588\n",
        "end = 732\n",
        "\n",
        "temperature_profile = []\n",
        "for i in meta_mop_filtered[0,32:39]:\n",
        "  x = np.where(csv_weather[:,0]==i)\n",
        "  temperature_profile.append(csv_weather[x,1].astype(int)[0])\n",
        "\n",
        "result = np.concatenate(temperature_profile[0:7])\n",
        "print(result[start:end])\n"
      ],
      "execution_count": 125,
      "outputs": [
        {
          "output_type": "stream",
          "text": [
            "[ 5  4  4  4  4  4  4  4  4  4  4  4  4  4  4  4  4  4  4  4  4  5  5  5\n",
            "  6  6  7  7  7  8  8  8  9  9  9 10 11 11 12 12 12 13 13 14 14 14 15 15\n",
            " 15 15 15 15 16 16 16 16 16 16 16 16 16 16 17 17 17 17 17 17 17 17 17 17\n",
            " 17 17 17 16 16 16 16 16 16 16 16 15 15 15 15 15 14 14 14 14 13 13 13 13\n",
            " 13 13 13 13 12 12 12 12 12 12 12 12 11 11 11 11 11 11 11 11 11 11 11 10\n",
            " 10 10 10 10 10 10 10 10 10  9  9  9  9  9  9  9  8  8  8  8  8  8  8  8]\n"
          ],
          "name": "stdout"
        }
      ]
    },
    {
      "cell_type": "markdown",
      "metadata": {
        "id": "rz9K9vSzb5Pm"
      },
      "source": [
        "### Classes"
      ]
    },
    {
      "cell_type": "code",
      "metadata": {
        "id": "4o2xOn64sm11"
      },
      "source": [
        "# importiere alle 3 Klassen\n",
        "\n",
        "class User_Interface:\n",
        "    def __init__(self):\n",
        "      pass\n",
        "\n",
        "    def chose_household(self, number_of_occupants, number_of_drivers, number_of_cars, income, w_income, population, w_population, year_of_birth, w_year_of_birth, job, w_job):\n",
        "      households = []\n",
        "      for i in range(0, len(meta_mop_filtered)):\n",
        "        household_1 = Household(meta_mop_filtered[i,0])\n",
        "        if ((household_1.get_number_of_occupants() == number_of_occupants) & (household_1.get_number_of_drivers() == number_of_drivers) & (household_1.get_number_of_cars() == number_of_cars)):\n",
        "          households.append(household_1.household_ID.astype(int))\n",
        "      households = np.unique(households)\n",
        "\n",
        "      score_array = []\n",
        "\n",
        "      for i in range(0, len(households)):\n",
        "          household_1 = Household(household_ID = households[i])\n",
        "\n",
        "          income_hh = household_1.get_income()\n",
        "          income_diff = income_hh - income\n",
        "          if (income_diff == 0):\n",
        "            income_points = 2\n",
        "          elif (abs(income_diff) == 1):\n",
        "            income_points = 1\n",
        "          else:\n",
        "            income_points = 0\n",
        "          income_points = income_points * w_income\n",
        "\n",
        "          population_hh = household_1.get_population()\n",
        "          population_diff = population_hh - population\n",
        "          if (population_diff == 0):\n",
        "            population_points = 2\n",
        "          elif (abs(population_diff) == 1):\n",
        "            population_points = 1\n",
        "          else:\n",
        "            population_points = 0\n",
        "          population_points = population_points * w_population\n",
        "\n",
        "          year_of_birth_hh = household_1.get_year_of_birth()\n",
        "          year_of_birth_diff = year_of_birth_hh - year_of_birth\n",
        "          if (year_of_birth_diff <= 10):\n",
        "            year_of_birth_points = 2\n",
        "          elif (abs(year_of_birth_diff) <= 20):\n",
        "            year_of_birth_points = 1\n",
        "          else:\n",
        "            year_of_birth_points = 0\n",
        "          year_of_birth_points = year_of_birth_points * w_year_of_birth\n",
        "\n",
        "          job_hh = household_1.get_job()\n",
        "          job_diff = job_hh - job\n",
        "          if (job_diff == 0):\n",
        "            job_points = 2\n",
        "          elif (abs(job_diff) == 1):\n",
        "            job_points = 1\n",
        "          else:\n",
        "            job_points = 0\n",
        "          job_points = job_points * w_job\n",
        "\n",
        "          score_list = [income_points, population_points, year_of_birth_points, job_points]\n",
        "          score = sum(score_list)\n",
        "          score_array.append(score)\n",
        "\n",
        "      households_fitting = [x for _, x in sorted(zip(score_array, households))]\n",
        "      households_10_best_fitting = list(reversed(households_fitting))\n",
        "      return households_10_best_fitting[0:10]\n",
        "      # returns list of 10 best fitting households according to user input\n",
        "      # first factors need to be fulfilled\n",
        "      # remaining factors: score is developed based on weight -> shortest distance to best fitting -> highest score\n"
      ],
      "execution_count": 9,
      "outputs": []
    },
    {
      "cell_type": "code",
      "metadata": {
        "id": "1gRzHhdRe6M9"
      },
      "source": [
        "# erstellt ein Haushalt-Objekt\n",
        "# enthält Informationen über den gewählten Haushalt (Anzahl Bewohner, Anzahl Fahrer, alle Mobilitätsprofile der Bewohner, Position im Datensatz ... )\n",
        "# vorerst: entweder zufällig oder mit bekannter ID\n",
        "# TODO: Eingabemöglichkeit verschiedener Parameter (z.B. Haushaltsgröße, Einkommen etc.) -> Rückgabe einer Liste der ähnlichsten Haushalte (set-Methoden)\n",
        "\n",
        "class Household:\n",
        "    def __init__(self, household_ID):\n",
        "        self.household_ID = household_ID\n",
        "        #self.household_size = household_size\n",
        "        self.position = np.where(meta_mop_filtered[:,0] == self.household_ID)[0]\n",
        "        self.chosen_household = meta_mop_filtered.astype(int) [np.where(meta_mop_filtered[:,0] == self.household_ID)]\n",
        "\n",
        "        \"\"\"\n",
        "        - Constructor of household object\n",
        "        - householdID: ID of household (MOP-Data) -> sorted in ascending order\n",
        "        - householdSize: # of occupants of household\n",
        "        \"\"\"\n",
        "    \n",
        "    def get_dates(self):\n",
        "      return meta_mop_filtered[self.position,32:39] [0]\n",
        "\n",
        "    def get_household(self):\n",
        "      return self.chosen_household.astype(int)\n",
        "    # returns chosen household (array with >= 1 entries (1 entry = 1 person, 1 year))\n",
        "\n",
        "    def get_number_of_occupants(self):\n",
        "      return self.chosen_household[0,5]\n",
        "    # returns number of occupants living in chosen household\n",
        "    \n",
        "    def get_number_of_drivers(self):\n",
        "      states = self.get_states(0,1008) # betrachte states in der ganzen Woche\n",
        "      number_of_drivers = 0\n",
        "      for i in range(0,len(states)):\n",
        "        if ((states[i]==14).sum() > 0):\n",
        "          number_of_drivers += 1\n",
        "      return number_of_drivers\n",
        "    # returns number of drivers (at least one state == 14) living in chosen household\n",
        "\n",
        "    def get_drivers(self):\n",
        "      states = self.get_states(0,1008) # betrachte states in der ganzen Woche\n",
        "      drivers_list = []\n",
        "      for i in range(0,len(states)):\n",
        "          if ((states[i]==14).sum() > 0):\n",
        "            drivers_list.append(self.get_data_position()[i])\n",
        "      return drivers_list\n",
        "    # returns list of all drivers of chosen household (nur ihre positions)\n",
        "    \n",
        "    def get_number_of_cars(self):\n",
        "      return self.chosen_household[0,7]\n",
        "    # returns number of cars of chosen household\n",
        "\n",
        "    def get_income(self):\n",
        "      return self.chosen_household[0,6]\n",
        "    # returns net income of household\n",
        "\n",
        "    def get_population(self):\n",
        "      return self.chosen_household[0,4]\n",
        "    # returns number of inhabitants of area\n",
        "\n",
        "    def get_year_of_birth(self):\n",
        "      return self.chosen_household[0,10]\n",
        "    # returns year of birth\n",
        "\n",
        "    def get_job(self):\n",
        "      return self.chosen_household[0,11]\n",
        "    # returns profession\n",
        "    \n",
        "    def get_data_position(self):\n",
        "      position_list = []\n",
        "      for i in self.position:\n",
        "          position_list.append(i)\n",
        "      return position_list\n",
        "    # returns indeces of chosen household in data set\n",
        "    \n",
        "    def get_states(self, start, end):\n",
        "      for i in self.position:\n",
        "        return states_mop_filtered[self.position,start:end]\n",
        "    # returns ALL states for timespace between start and end\n",
        "\n",
        "    def get_adjusted_states(self, start, end):\n",
        "      states = self.get_states(start,end)\n",
        "      #states = np.where((states == 8) | (states == 14) | (states == 1) | (states == 2), states, 30)\n",
        "      return states\n",
        "    # returns adjusted states\n",
        "    # 8: home; 1,2: work; 14: Car driver; 30: rest\n",
        "\n",
        "    def get_speeds(self, start, end):\n",
        "      for i in self.position:\n",
        "        return speed_mop_filtered[self.position,start:end]\n",
        "    # returns all speeds for timespace between start and end\n",
        "\n",
        "    def get_persons(self, person_number):\n",
        "      household_positions = self.get_data_position()\n",
        "      persons = [Person (position = i, household_ID = self.household_ID) for i in household_positions]\n",
        "      return persons[person_number].position\n",
        "    # returns position of chosen Person-object in data set\n",
        "\n",
        "    def get_sorted_drivers(self):\n",
        "      household_drivers = self.get_drivers()\n",
        "      drivers = []   \n",
        "      for i in household_drivers:\n",
        "        drivers.append(Person(position = i, household_ID = self.household_ID)) #erstellt für jeden driver ein Person-Object\n",
        "      sorted_drivers = sorted(drivers, key=lambda x: x.total_distance, reverse=True)\n",
        "      result = []\n",
        "      for i in range(0,len(sorted_drivers)):\n",
        "        result.append(sorted_drivers[i].position)\n",
        "      return result\n",
        "    # returns list with all drivers in household sorted in descending order by total distance (in whole week)\n",
        "    ### testen, ob sortieren funktioniert (-> alle sind in MOP bereits absteigend sortiert!)\n",
        "\n",
        "    def get_sorted_drivers_profiles(self, start, end):\n",
        "      drivers_list = self.get_sorted_drivers()\n",
        "      drivers_profiles = np.array([self.get_adjusted_states(start,end)[0]]) \n",
        "      for i in range(1, len(drivers_list)):\n",
        "        drivers_profiles = np.append(drivers_profiles, [self.get_adjusted_states(start,end)[i]], axis=0) \n",
        "      return drivers_profiles\n",
        "    # returns profiles of all drivers (if they don´t have to be merged)\n",
        "\n",
        "    def get_drivers_states_profiles(self, start, end):\n",
        "      if self.check_merge()==True:\n",
        "        drivers_states_profiles = self.states_merge(start,end)\n",
        "      else:\n",
        "        drivers_states_profiles = self.get_sorted_drivers_profiles(start,end)\n",
        "      return drivers_states_profiles\n",
        "    # returns final states profiles for drivers  \n",
        "\n",
        "    def check_merge(self):\n",
        "      if (self.get_number_of_drivers() > self.get_number_of_cars()):\n",
        "        #print(\"Merge necessary.\")\n",
        "        return True\n",
        "      else:\n",
        "        #print(\"No merge necessary.\")\n",
        "        return  False\n",
        "    # checks whether a mobility profile merge is necessary\n",
        " \n",
        "    def states_merge(self, start, end):\n",
        "    # Drivers müssen bereits sortiert sein!\n",
        "      x = self.get_number_of_drivers()\n",
        "      while x > self.get_number_of_cars():\n",
        "        drivers_positions = self.get_sorted_drivers()      #Liste aller Positionen der Drivers in data\n",
        "        \n",
        "        # 2. erstelle Array mit Listen aller states (für jeden driver eine Liste)\n",
        "        all_states_drivers = np.array([self.get_adjusted_states(start,end)[0]]) \n",
        "        for i in range(1, len(drivers_positions)):\n",
        "          all_states_drivers = np.append(all_states_drivers, [self.get_adjusted_states(start,end)[i]], axis=0)    \n",
        "\n",
        "        # 3. betrachte ein array aus den letzten beiden Listen\n",
        "        drivers_last_two = all_states_drivers[-2:]\n",
        "\n",
        "        # 4. ziehe positions aller 14er aus der letzten Liste heraus\n",
        "        list_states14_last_driver = [i for i in range(len(drivers_last_two[-1])) if drivers_last_two[-1][i] == 14]\n",
        "\n",
        "        # 5. erzeuge eine neue Liste (vorletzte Liste komplette + 14er der letzten Liste)\n",
        "        drivers_last_two_merged = all_states_drivers[-2].copy()\n",
        "        for i in list_states14_last_driver:\n",
        "          drivers_last_two_merged[i] = 14\n",
        "        \n",
        "        # 6. ersetze die letzten beiden Listen des arrays durch das neue Array\n",
        "        all_states_drivers = np.delete(all_states_drivers, [-1,-2], axis=0)\n",
        "        drivers_merged_profiles = np.vstack((all_states_drivers, drivers_last_two_merged))\n",
        "\n",
        "        x -= 1\n",
        "      #print(\"Merge completed.\")\n",
        "      return drivers_merged_profiles\n",
        "    # returns merged states profiles\n",
        "\n",
        "    def speed_merge(self, start, end):\n",
        "    # Drivers müssen bereits sortiert sein!\n",
        "      x = self.get_number_of_drivers()\n",
        "      while x > self.get_number_of_cars():\n",
        "        drivers_positions = self.get_sorted_drivers()      #Liste aller Positionen der Drivers in data\n",
        "        \n",
        "        # 2. erstelle Array mit Listen aller states (für jeden driver eine Liste) und ein Array mit Listen aller speeds\n",
        "        all_states_drivers = np.array([self.get_adjusted_states(start,end)[0]])\n",
        "        all_speeds_drivers = np.array([self.get_speeds(start,end)[0]]) \n",
        "        for i in range(1, len(drivers_positions)):\n",
        "          all_states_drivers = np.append(all_states_drivers, [self.get_adjusted_states(start,end)[i]], axis=0)\n",
        "        for i in range(1, len(drivers_positions)):\n",
        "          all_speeds_drivers = np.append(all_speeds_drivers, [self.get_speeds(start,end)[i]], axis=0)\n",
        "           \n",
        "\n",
        "        # 3. betrachte ein array aus den letzten beiden Listen\n",
        "        drivers_last_two_states = all_states_drivers[-2:]\n",
        "        drivers_last_two_speeds = all_speeds_drivers[-2:]\n",
        "\n",
        "        # 4. ziehe positions aller 14er aus der letzten Liste heraus\n",
        "        list_states14_last_driver = [i for i in range(len(drivers_last_two_states[-1])) if drivers_last_two_states[-1][i] == 14]\n",
        "\n",
        "        # 5. erzeuge eine neue Liste (vorletzte Liste komplette + 14er der letzten Liste)\n",
        "        \n",
        "        drivers_last_two_speeds_merged = all_speeds_drivers[-2].copy()\n",
        "        for i in list_states14_last_driver:\n",
        "          drivers_last_two_speeds_merged[i] = all_speeds_drivers[-1][i]\n",
        "        \n",
        "        # 6. ersetze die letzten beiden Listen des arrays durch das neue Array\n",
        "        all_speeds_drivers = np.delete(all_speeds_drivers, [-1,-2], axis=0)\n",
        "        drivers_merged_speed_profiles = np.vstack((all_speeds_drivers, drivers_last_two_speeds_merged))\n",
        "\n",
        "        x -= 1\n",
        "      #print(\"Merge completed.\")\n",
        "      return drivers_merged_speed_profiles\n",
        "    # returns merged speed profiles\n",
        "\n",
        "    def get_drivers_speed(self, start, end): #ohne merge (vgl. states -> umbenennen!)\n",
        "      drivers_list = self.get_sorted_drivers()\n",
        "      drivers_profiles = np.array([self.get_speeds(start,end)[0]])    #speeds der ersten person ##[]\n",
        "      for i in range(1, len(drivers_list)):\n",
        "        drivers_profiles = np.append(drivers_profiles, [self.get_speeds(start,end)[i]], axis=0) ##[]\n",
        "      return drivers_profiles\n",
        "    # returns array with speeds of all drivers\n",
        "\n",
        "    def get_speeds_after_merge(self,start,end):\n",
        "      if self.check_merge()==True:\n",
        "        drivers_speeds_profiles = self.speed_merge(start,end)\n",
        "      else:\n",
        "        drivers_speeds_profiles = self.get_drivers_speed(start,end)\n",
        "      return drivers_speeds_profiles\n",
        "\n",
        "    def get_drivers_speeds_profiles(self, start, end):\n",
        "      states = np.array(self.get_drivers_states_profiles(start,end))\n",
        "      speeds = np.array(self.get_speeds_after_merge(start,end)) \n",
        "      mask = np.where((states==14), False, True)      #mit Hilfe der Maske werden alle Speeds, die nicht zu einem 14er state gehören, rausgefiltert\n",
        "      drivers_speeds_profiles = speeds.copy()\n",
        "      drivers_speeds_profiles[mask] = 0\n",
        "      return drivers_speeds_profiles\n",
        "    # returns final speed profiles of alle drivers (only speeds of states=14)\n",
        "\n"
      ],
      "execution_count": 67,
      "outputs": []
    },
    {
      "cell_type": "code",
      "metadata": {
        "id": "1rYmIEQZqBgG"
      },
      "source": [
        "# erstellt das Mobilitätsprofil EINER Person\n",
        "# dafür muss die position der Person im Datensatz angegeben werden (erste Zeile im Datensatz = Person 0)\n",
        "\n",
        "class Person:\n",
        "    def __init__(self, position, household_ID):\n",
        "      self.position = position #position in data\n",
        "      self.household_ID = household_ID\n",
        "       \n",
        "      if ((self.get_state(0,1008)==14).sum() > 0):\n",
        "        self.driver_bool = True  #true, wenn person ein Fahrer ist\n",
        "      else:\n",
        "        self.driver_bool = False\n",
        "      \n",
        "      if self.driver_bool == True:\n",
        "        list_1 = self.get_driver_positions(0, 1008) #Liste aller states=14\n",
        "        speeds_sum = 0\n",
        "        for i in list_1:\n",
        "          speeds_sum = speeds_sum + self.get_single_speed(i)     #Summe aller Geschwindigkeiten (state=14) \n",
        "        mean_speed = speeds_sum / len(list_1)  # in km/h\n",
        "        time = len(list_1) * 10 # in min\n",
        "        distance = mean_speed * time / 60\n",
        "        self.total_distance = distance\n",
        "      else:\n",
        "        self.total_distance = 0   \n",
        "\n",
        "\n",
        "    \"\"\"\n",
        "    - Constructor of Person-Object\n",
        "    - householdID: ID of household (MOP-Data) -> sorted in ascending order\n",
        "    - position: position of individual person in data set (first line in data set = person 0)\n",
        "    \"\"\"\n",
        "\n",
        "    def get_state(self, start, end):\n",
        "        states = states_mop_filtered[self.position,start:end]\n",
        "        return states\n",
        "    # returns states for individual persons between start and end\n",
        "\n",
        "    def get_speed(self, start, end):\n",
        "        return speed_mop_filtered[self.position,start:end]\n",
        "    # returns speed for timespace between start and end\n",
        "\n",
        "    def get_single_speed(self, timestep):\n",
        "        return speed_mop_filtered[self.position, timestep]\n",
        "    # returns speed for one single timestep\n",
        "\n",
        "    def get_adjusted_states(self, start, end):\n",
        "        states = self.get_state(start,end)\n",
        "        states_adjusted = np.where((states == 8) | (states == 14) | (states == 1) | (states == 2), states, 30)\n",
        "        return states_adjusted\n",
        "    # returns adjusted states for individual person\n",
        "    # 8: home; 1,2: work; 14: Car driver; 30: rest\n",
        "\n",
        "    def get_driver_positions(self, start, end):\n",
        "        list_car_driver = [i for i in range(len(self.get_state(start, end))) if self.get_state(start, end)[i] == 14]\n",
        "        return list_car_driver\n",
        "    # returns every position in states where car driver (state=14) = true\n",
        "    \n",
        "    def get_total_distance(self, start, end):\n",
        "      list_1 = self.get_driver_positions(start, end) #Liste aller states=14\n",
        "      speeds_sum = 0\n",
        "      for i in list_1:\n",
        "        speeds_sum = speeds_sum + self.get_single_speed(i)     #Summe aller Geschwindigkeiten (state=14) \n",
        "      mean_speed = speeds_sum / len(list_1)  # in km/h\n",
        "      time = len(list_1) * 10 # in min\n",
        "      distance = mean_speed * time / 60\n",
        "      return distance \n",
        "    # returns total distance driven by person in the week"
      ],
      "execution_count": 11,
      "outputs": []
    },
    {
      "cell_type": "code",
      "metadata": {
        "id": "LfMpE_Izi1TP"
      },
      "source": [
        "class Car:\n",
        "    def __init__(self, household_ID, car_nr):\n",
        "      self.household_ID = household_ID\n",
        "      self.car_nr = car_nr  # number of car in household (1st = 1, 2nd = 2 ... )\n",
        "    \n",
        "    \"\"\"\n",
        "    - Constructor of Car-Profile Object\n",
        "    - householdID: ID of household (MOP-Data) -> sorted in ascending order\n",
        "    \"\"\"\n",
        "\n",
        "    def get_speed_profile(self, start, end):\n",
        "      household_1 = Household(household_ID = self.household_ID)\n",
        "      speed_profile = household_1.get_drivers_speeds_profiles(start, end)\n",
        "      return speed_profile [self.car_nr - 1]\n",
        "    # returns speed profile for chosen car\n",
        "\n",
        "    def get_state_profile(self, start, end):\n",
        "      household_1 = Household(household_ID = self.household_ID)\n",
        "      state_profile = household_1.get_drivers_states_profiles(start, end)\n",
        "      return state_profile [self.car_nr - 1]\n",
        "    # returns state profile for chosen car\n",
        "\n",
        "    def get_segment(self):\n",
        "      cars = csv_tank [np.where(csv_tank[:,0] == self.household_ID)]\n",
        "      segment = cars[self.car_nr - 1 : self.car_nr , 174]\n",
        "      return segment.astype(int)\n",
        "    # returns segment of chosen car\n",
        "    \n",
        "    def get_segments(self):\n",
        "      cars = csv_tank [np.where(csv_tank[:,0] == self.household_ID)] \n",
        "      segments = cars[:,174]\n",
        "      return segments.astype(int)\n",
        "    # returns segments of all cars in household (sorted by overall driven distance per year)\n",
        "    \n",
        "    def get_charging_options(self, start, end, home_charging_power, work_charging_power):\n",
        "      states = self.get_state_profile(start,end)\n",
        "      #charge_array = states.copy()\n",
        "      charge_array = np.where((states == 8), home_charging_power, np.where((states == 1) | (states == 2), work_charging_power, np.where((states == 14), -100, 0))) \n",
        "      return charge_array\n",
        "    # returns array with charging options (considers charging power at home, at work; 0 when not in use (but neither at home or work), -100 when in use)\n",
        "\n",
        "    def get_driver_positions(self, start, end):\n",
        "      list_car_driver = [i for i in range(len(self.get_state_profile(start, end))) if self.get_state_profile(start, end)[i] == 14]\n",
        "      return list_car_driver\n",
        "    # returns states=14 array     \n",
        "\n",
        "    def get_distance_profile(self, start, end):\n",
        "      distance = self.get_speed_profile(start,end).copy()\n",
        "      for i in range(len(distance)):\n",
        "        distance[i] = (1/6) * self.get_speed_profile(start,end)[i]\n",
        "      return distance\n",
        "    # returns array with driven distances for car object\n",
        "\n",
        "    def get_speed_group_profile(self,start,end):\n",
        "      speed_group_profile = self.get_speed_profile(start,end).copy()\n",
        "      for i in range(len(speed_group_profile)):\n",
        "        if speed_group_profile[i] == 0:\n",
        "          speed_group_profile[i] = 0\n",
        "        elif speed_group_profile[i] <= 30:\n",
        "          speed_group_profile[i] = 1.473\n",
        "        elif speed_group_profile[i] <= 50:\n",
        "          speed_group_profile[i] = 1.08\n",
        "        elif speed_group_profile[i] <= 70:\n",
        "          speed_group_profile[i] = 0.955\n",
        "        else:\n",
        "          speed_group_profile[i] = 1.286\n",
        "      return speed_group_profile\n",
        "    # returns factor (for multiplying consumption) for every timestep depending on speed\n",
        "\n",
        "    def get_temperature_profile(self,start,end):\n",
        "      household_1 = Household(household_ID = self.household_ID)\n",
        "      dates = household_1.get_dates()\n",
        "      temperatures = []\n",
        "      for i in dates:\n",
        "        x = np.where(csv_weather[:,0]==i)\n",
        "        temperatures.append(csv_weather[x,1].astype(int)[0])\n",
        "        result = np.concatenate(temperatures[0:7])\n",
        "        temperature_profile = result[start:end]\n",
        "      return temperature_profile\n",
        "\n",
        "    def get_temperature_addition(self,start,end):\n",
        "      temperature_profile = self.get_temperature_profile(start,end).astype(float)\n",
        "      for i in range(len(temperature_profile)):\n",
        "        if temperature_profile[i] <= (-20):\n",
        "          temperature_profile[i] = 4 * (1/6) #kWh in 10 Minuten       \n",
        "        elif temperature_profile[i] <= (-15):\n",
        "          temperature_profile[i] = 3.5 * (1/6) #kWh in 10 Minuten\n",
        "        elif temperature_profile[i] <= (-10):\n",
        "          temperature_profile[i] = 3 * (1/6) #kWh in 10 Minuten\n",
        "        elif temperature_profile[i] <= (-5):\n",
        "          temperature_profile[i] = 2.5 * (1/6) #kWh in 10 Minuten\n",
        "        elif temperature_profile[i] <= (0):\n",
        "          temperature_profile[i] = 2 * (1/6) #kWh in 10 Minuten\n",
        "        elif temperature_profile[i] <= (5):\n",
        "          temperature_profile[i] = 1.5 * (1/6) #kWh in 10 Minuten\n",
        "        elif temperature_profile[i] <= (10):\n",
        "          temperature_profile[i] = 1 * (1/6) #kWh in 10 Minuten\n",
        "        elif temperature_profile[i] <= (15):\n",
        "          temperature_profile[i] = 0.5 * (1/6) #kWh in 10 Minuten\n",
        "        elif temperature_profile[i] <= (20):\n",
        "          temperature_profile[i] = 0 * (1/6) #kWh in 10 Minuten\n",
        "        elif temperature_profile[i] <= (25):\n",
        "          temperature_profile[i] = 0.25 * (1/6) #kWh in 10 Minuten\n",
        "        elif temperature_profile[i] <= (30):\n",
        "          temperature_profile[i] = 0.5 * (1/6) #kWh in 10 Minuten\n",
        "        elif temperature_profile[i] <= (35):\n",
        "          temperature_profile[i] = 0.75 * (1/6) #kWh in 10 Minuten\n",
        "        elif temperature_profile[i] <= (40):\n",
        "          temperature_profile[i] = 1 * (1/6) #kWh in 10 Minuten\n",
        "      return temperature_profile\n",
        "   \n",
        "\n",
        "    def get_consumption_profile(self, start, end):\n",
        "      segment = self.get_segment()\n",
        "      temperature_profile = self.get_temperature_addition(start,end)\n",
        "      consumption = csv_database_electric_cars[segment,4]\n",
        "      consumption_profile = self.get_speed_group_profile(start,end).copy()\n",
        "      for i in range(len(consumption_profile)):\n",
        "        distance = self.get_distance_profile(start,end)[i]  # dauert sehr lange\n",
        "        speed_factor = self.get_speed_group_profile(start,end)[i]\n",
        "        consumption_profile[i] = (speed_factor * distance * consumption / 100)\n",
        "      for i in range(len(consumption_profile)):\n",
        "        if (consumption_profile[i]!=0):\n",
        "          consumption_profile[i] = consumption_profile[i] + temperature_profile[i]\n",
        "      return consumption_profile\n",
        "    # Einflussfaktoren: Temperatur und Durchschnittsgeschwindigkeit (Segmente nach WLTP)\n",
        "    # Methode berechnet für jeden Timestep den Verbrauch basierend auf äußeren Infos und speichert es in einem array\n",
        "\n",
        "    def get_state_of_charge_profile(self,start,end):\n",
        "      state_of_charge = 100 #in kWh\n",
        "      state_of_charge_profile = self.get_consumption_profile(start,end).copy()\n",
        "      for i in range(len(state_of_charge_profile)):\n",
        "        if (state_of_charge_profile[i] != 0):\n",
        "          diff = state_of_charge_profile[i]\n",
        "          state_of_charge_profile[i] = state_of_charge - diff\n",
        "          state_of_charge = state_of_charge - diff\n",
        "        else:\n",
        "          state_of_charge_profile[i] = state_of_charge\n",
        "      return state_of_charge_profile\n"
      ],
      "execution_count": 192,
      "outputs": []
    },
    {
      "cell_type": "code",
      "metadata": {
        "colab": {
          "base_uri": "https://localhost:8080/"
        },
        "id": "ZtkP7BVwc_wp",
        "outputId": "f69e4a3d-6fdf-4c3f-9ad1-0669485a2006"
      },
      "source": [
        "ID = 4711036120\n",
        "household_1 =  Household(household_ID = ID)\n",
        "print(household_1.get_dates())\n",
        "\n",
        "start = 588\n",
        "end = 732\n",
        "\n",
        "home_charging_power = 10\n",
        "work_charging_power = 20\n",
        "\n",
        "car_1 = Car(ID, 1)\n",
        "\n",
        "distance_profile = car_1.get_distance_profile(start,end))\n",
        "print(car_1.get_state_of_charge_profile(start,end, distance_profile))"
      ],
      "execution_count": 196,
      "outputs": [
        {
          "output_type": "stream",
          "text": [
            "[21110. 21111. 21112. 21113. 21114. 21115. 21116.]\n",
            "[ 0.    0.    0.    0.    0.    0.    0.    0.    0.    0.    0.    0.\n",
            "  0.    0.    0.    0.    0.    0.    0.    0.    0.    0.    0.    0.\n",
            "  0.    0.    0.    0.    0.    0.    0.    0.    0.    0.    0.    0.\n",
            "  0.    0.    0.    0.    0.    0.    0.    0.    0.    0.    0.    0.\n",
            "  0.    0.    0.    0.    0.    0.    0.    0.    0.    0.    0.    0.\n",
            "  0.    0.    0.    0.    0.    0.    0.    0.    0.    0.    0.    0.\n",
            "  0.    0.    0.    0.    0.    0.    0.    0.    0.    0.    0.    0.\n",
            "  0.    0.    0.    0.    0.    0.    0.    0.    0.    0.    0.    0.\n",
            "  0.    0.    0.    0.    0.    0.    0.    0.    0.    0.    0.   10.8\n",
            " 13.5  13.5  13.5  13.5  13.5  13.5  13.5  13.5  13.5   1.35  0.    0.\n",
            "  0.    0.    0.    0.    0.    0.    0.    0.    0.    0.    0.    0.\n",
            "  0.    0.    0.    0.    0.    0.    0.    0.    0.    0.    0.    0.  ]\n"
          ],
          "name": "stdout"
        }
      ]
    },
    {
      "cell_type": "markdown",
      "metadata": {
        "id": "bFt8XzsxCxHs"
      },
      "source": [
        "### Tool"
      ]
    },
    {
      "cell_type": "code",
      "metadata": {
        "colab": {
          "base_uri": "https://localhost:8080/"
        },
        "id": "eSds3jf1rmdd",
        "outputId": "11e41cfe-f7c2-4897-a1fb-db08c2d69e74"
      },
      "source": [
        "### USER INTERFACE 1: Chose Household ###\n",
        "\n",
        "# 1.1 Input number of occupants, number of drivers and number of cars\n",
        "input_number_of_occupants = 2\n",
        "input_number_of_drivers = 1\n",
        "input_number_of_cars = 1\n",
        "\n",
        "# 1.2 Input preferred income (1-10), population (1-7), year of birth of one hh-member, job of one hh-member (0-8)\n",
        "# 1.3 Input weight of these factors (sum of all weights = 1.0)\n",
        "input_income = 6\n",
        "input_w_income = 0.25\n",
        "\n",
        "input_population = 2\n",
        "input_w_population = 0.25\n",
        "\n",
        "input_year_of_birth = 1980\n",
        "input_w_year_of_birth = 0.25\n",
        "\n",
        "input_job = 1\n",
        "input_w_job = 0.25\n",
        "\n",
        "###\n",
        "\n",
        "input = User_Interface()\n",
        "print(\"The following list contains (up to) 10 households in decreasing fitting to your input.\\n\")\n",
        "print(\"All returned households fulfill input for number of occupants, number of drivers and number of cars.\\n\")\n",
        "print(\"Fitting households:\", input.chose_household(input_number_of_occupants, input_number_of_drivers, input_number_of_cars, \n",
        "                             input_income, input_w_income, input_population, input_w_population, input_year_of_birth, input_w_year_of_birth, input_job, input_w_job))\n",
        "print(\"\\n\")"
      ],
      "execution_count": null,
      "outputs": [
        {
          "output_type": "stream",
          "text": [
            "The following list contains (up to) 10 households in decreasing fitting to your input.\n",
            "\n",
            "All returned households fulfill input for number of occupants, number of drivers and number of cars.\n",
            "\n",
            "Fitting households: [8701033229, 8301011917, 4711030426, 4301014048, 8711031798, 8711031131, 8711030694, 8701033187, 8511021359, 8501026444]\n",
            "\n",
            "\n"
          ],
          "name": "stdout"
        },
        {
          "output_type": "stream",
          "text": [
            "/usr/local/lib/python3.7/dist-packages/ipykernel_launcher.py:21: RuntimeWarning: overflow encountered in long_scalars\n"
          ],
          "name": "stderr"
        }
      ]
    },
    {
      "cell_type": "code",
      "metadata": {
        "colab": {
          "base_uri": "https://localhost:8080/"
        },
        "id": "VlQIuHRTmAe6",
        "outputId": "10c53d57-a29d-4815-b618-fdc9e7b35408"
      },
      "source": [
        "# Überprüfung:\n",
        "household_1 = Household(8501026444)\n",
        "print(household_1.get_number_of_occupants())\n",
        "print(household_1.get_number_of_cars())\n",
        "print(household_1.get_number_of_drivers())\n",
        "print(household_1.get_income())\n",
        "print(household_1.get_population())\n",
        "print(household_1.get_year_of_birth())\n",
        "print(household_1.get_job())"
      ],
      "execution_count": null,
      "outputs": [
        {
          "output_type": "stream",
          "text": [
            "2\n",
            "1\n",
            "1\n",
            "6\n",
            "7\n",
            "1961\n",
            "1\n"
          ],
          "name": "stdout"
        }
      ]
    },
    {
      "cell_type": "code",
      "metadata": {
        "id": "uzLEe5tNepuv",
        "colab": {
          "base_uri": "https://localhost:8080/",
          "height": 1000
        },
        "outputId": "3d0ceeeb-44f9-45f5-9c85-a5e67f6a5853"
      },
      "source": [
        "### USER INTERFACE 2: CREATE PROFILE ###\n",
        "\n",
        "'''\n",
        "*   Bsp. für HH mit 1 Fahrer,  1 Auto:  4301011562\n",
        "*   Bsp. für HH mit 2 Fahrern, 2 Autos: 4711036120\n",
        "*   Bsp. für HH mit 3 Fahrern, 3 Autos: 4301011674\n",
        "*   Bsp. für HH mit 2 Fahrern, 1 Auto:  4301011871\n",
        "*   Bsp. für HH mit 0 Fahrern, 1 Auto:  4301012968\n",
        "'''\n",
        "\n",
        "\n",
        "# 2.1 Chose a household from the list\n",
        "ID = 4711036120\n",
        "\n",
        "# 2.2 Chose timesteps\n",
        "start = 588\n",
        "end = 732\n",
        "\n",
        "# 2.3 Chose charging power at home and at work\n",
        "home_charging_power = 10  # in kW \n",
        "work_charging_power = 20  # in kW  \n",
        "\n",
        "###\n",
        "\n",
        "\n",
        "household_1 =  Household(household_ID = ID)\n",
        "print('Number of drivers in chosen household: ', household_1.get_number_of_drivers())\n",
        "print('Number of cars in chosen household: ', household_1.get_number_of_cars(),'\\n')\n",
        "print(\"Timesteps\", start, \"until\", end, \"\\n\")\n",
        "print(\"\\n\")\n",
        "\n",
        "for i in range(household_1.get_number_of_cars()):\n",
        "  car_1 = Car(household_ID = ID, car_nr = i+1)\n",
        "  print(\"Car Segment of car\", i+1, \":\", car_1.get_segment(),'(', segment_codes[car_1.get_segment() [0] - 1], ')', '\\n')\n",
        "  print(\"State Profile of car\", i+1, \":\\n\", car_1.get_state_profile(start,end),'\\n')\n",
        "  print(\"Speed Profile of car\", i+1, \":\\n\", car_1.get_speed_profile(start,end),'\\n')\n",
        "  print(\"Consumption Profile of car\", i+1, \":\\n\", car_1.get_consumption_profile(start,end),'\\n')\n",
        "  print(\"Charging Options car\", i+1, \":\\n\", car_1.get_charging_options(start,end,home_charging_power,work_charging_power),'\\n')\n",
        "  print(\"\\n\")\n",
        "\n",
        "# Speed Plots:\n",
        "print(\"Speed plots:\\n\")\n",
        "for i in range(household_1.get_number_of_cars()):\n",
        "  car_1 = Car(household_ID = ID, car_nr = i+1)\n",
        "  plt.figure(i)\n",
        "  plt.plot(car_1.get_speed_profile(start,end))\n",
        "  "
      ],
      "execution_count": 170,
      "outputs": [
        {
          "output_type": "stream",
          "text": [
            "Number of drivers in chosen household:  2\n",
            "Number of cars in chosen household:  2 \n",
            "\n",
            "Timesteps 588 until 732 \n",
            "\n",
            "\n",
            "\n",
            "Car Segment of car 1 : [4] ( Mittelklasse ) \n",
            "\n",
            "State Profile of car 1 :\n",
            " [ 8  8  8  8  8  8  8  8  8  8  8  8  8  8  8  8  8  8  8  8  8  8  8  8\n",
            "  8  8  8  8  8  8  8  8  8  8  8  8  8  8  8  8  8  8  8  8  8  8  8  8\n",
            "  8  8 15 15 15 15  2  2  2  2  2  2 15 15 15 15 15 15 15 15 15 15 15  6\n",
            "  6  6  6  6  6  6  6  6  6  6  6  6 11 11 11  8  8  8  8  8  8  8  8  8\n",
            "  8  8  8  8  8  8  8  8  8  8  8 14 14 14 14 14 14 14 14 14 14 14  8  8\n",
            "  8  8  8  8  8  8  8  8  8  8  8  8  8  8  8  8  8  8  8  8  8  8  8  8] \n",
            "\n",
            "Speed Profile of car 1 :\n",
            " [ 0.   0.   0.   0.   0.   0.   0.   0.   0.   0.   0.   0.   0.   0.\n",
            "  0.   0.   0.   0.   0.   0.   0.   0.   0.   0.   0.   0.   0.   0.\n",
            "  0.   0.   0.   0.   0.   0.   0.   0.   0.   0.   0.   0.   0.   0.\n",
            "  0.   0.   0.   0.   0.   0.   0.   0.   0.   0.   0.   0.   0.   0.\n",
            "  0.   0.   0.   0.   0.   0.   0.   0.   0.   0.   0.   0.   0.   0.\n",
            "  0.   0.   0.   0.   0.   0.   0.   0.   0.   0.   0.   0.   0.   0.\n",
            "  0.   0.   0.   0.   0.   0.   0.   0.   0.   0.   0.   0.   0.   0.\n",
            "  0.   0.   0.   0.   0.   0.   0.   0.   0.  64.8 81.  81.  81.  81.\n",
            " 81.  81.  81.  81.  81.   8.1  0.   0.   0.   0.   0.   0.   0.   0.\n",
            "  0.   0.   0.   0.   0.   0.   0.   0.   0.   0.   0.   0.   0.   0.\n",
            "  0.   0.   0.   0. ] \n",
            "\n",
            "Consumption Profile of car 1 :\n",
            " [0.         0.         0.         0.         0.         0.\n",
            " 0.         0.         0.         0.         0.         0.\n",
            " 0.         0.         0.         0.         0.         0.\n",
            " 0.         0.         0.         0.         0.         0.\n",
            " 0.         0.         0.         0.         0.         0.\n",
            " 0.         0.         0.         0.         0.         0.\n",
            " 0.         0.         0.         0.         0.         0.\n",
            " 0.         0.         0.         0.         0.         0.\n",
            " 0.         0.         0.         0.         0.         0.\n",
            " 0.         0.         0.         0.         0.         0.\n",
            " 0.         0.         0.         0.         0.         0.\n",
            " 0.         0.         0.         0.         0.         0.\n",
            " 0.         0.         0.         0.         0.         0.\n",
            " 0.         0.         0.         0.         0.         0.\n",
            " 0.         0.         0.         0.         0.         0.\n",
            " 0.         0.         0.         0.         0.         0.\n",
            " 0.         0.         0.         0.         0.         0.\n",
            " 0.         0.         0.         0.         0.         1.69313867\n",
            " 2.73609467 2.73609467 2.73609467 2.73609467 2.73609467 2.73609467\n",
            " 2.73609467 2.73609467 2.73609467 0.46097207 0.         0.\n",
            " 0.         0.         0.         0.         0.         0.\n",
            " 0.         0.         0.         0.         0.         0.\n",
            " 0.         0.         0.         0.         0.         0.\n",
            " 0.         0.         0.         0.         0.         0.        ] \n",
            "\n",
            "Charging Options car 1 :\n",
            " [  10   10   10   10   10   10   10   10   10   10   10   10   10   10\n",
            "   10   10   10   10   10   10   10   10   10   10   10   10   10   10\n",
            "   10   10   10   10   10   10   10   10   10   10   10   10   10   10\n",
            "   10   10   10   10   10   10   10   10    0    0    0    0   20   20\n",
            "   20   20   20   20    0    0    0    0    0    0    0    0    0    0\n",
            "    0    0    0    0    0    0    0    0    0    0    0    0    0    0\n",
            "    0    0    0   10   10   10   10   10   10   10   10   10   10   10\n",
            "   10   10   10   10   10   10   10   10   10 -100 -100 -100 -100 -100\n",
            " -100 -100 -100 -100 -100 -100   10   10   10   10   10   10   10   10\n",
            "   10   10   10   10   10   10   10   10   10   10   10   10   10   10\n",
            "   10   10   10   10] \n",
            "\n",
            "\n",
            "\n",
            "Car Segment of car 2 : [3] ( Kompaktklasse ) \n",
            "\n",
            "State Profile of car 2 :\n",
            " [ 8  8  8  8  8  8  8  8  8  8  8  8  8  8  8  8  8  8  8  8  8  8  8  8\n",
            "  8  8  8  8  8  8  8  8  8  8  8  8  8  8  8  8  8  8  8  8  8  8  8  8\n",
            "  8  8 14 14 14 14 14  2  2  2  2  2 14 14  6 14 14 14 14 14 14 14 14  7\n",
            "  7  7  7  7  7  7  7  7  7  7  7  7 11 11 11  7  7  7  7  7  7  7  7  7\n",
            "  7  7  7  7  7  7  7  7  7  7  7 14 14 14 14 14 14 14 14 14 14 14  8  8\n",
            "  8  8  8  8  8  8  8  8  8  8  8  8  8  8  8  8  8  8  8  8  8  8  8  8] \n",
            "\n",
            "Speed Profile of car 2 :\n",
            " [  0.    0.    0.    0.    0.    0.    0.    0.    0.    0.    0.    0.\n",
            "   0.    0.    0.    0.    0.    0.    0.    0.    0.    0.    0.    0.\n",
            "   0.    0.    0.    0.    0.    0.    0.    0.    0.    0.    0.    0.\n",
            "   0.    0.    0.    0.    0.    0.    0.    0.    0.    0.    0.    0.\n",
            "   0.    0.  103.  103.  103.   51.5  21.    0.    0.    0.    0.    0.\n",
            "   4.2  16.8   0.   71.1  79.   79.   79.   79.   79.   79.   39.5   0.\n",
            "   0.    0.    0.    0.    0.    0.    0.    0.    0.    0.    0.    0.\n",
            "   0.    0.    0.    0.    0.    0.    0.    0.    0.    0.    0.    0.\n",
            "   0.    0.    0.    0.    0.    0.    0.    0.    0.    0.    0.   64.8\n",
            "  81.   81.   81.   81.   81.   81.   81.   81.   81.    8.1   0.    0.\n",
            "   0.    0.    0.    0.    0.    0.    0.    0.    0.    0.    0.    0.\n",
            "   0.    0.    0.    0.    0.    0.    0.    0.    0.    0.    0.    0. ] \n",
            "\n",
            "Consumption Profile of car 2 :\n",
            " [0.         0.         0.         0.         0.         0.\n",
            " 0.         0.         0.         0.         0.         0.\n",
            " 0.         0.         0.         0.         0.         0.\n",
            " 0.         0.         0.         0.         0.         0.\n",
            " 0.         0.         0.         0.         0.         0.\n",
            " 0.         0.         0.         0.         0.         0.\n",
            " 0.         0.         0.         0.         0.         0.\n",
            " 0.         0.         0.         0.         0.         0.\n",
            " 0.         0.         3.12489533 3.12489533 3.12489533 1.26507583\n",
            " 0.85750367 0.         0.         0.         0.         0.\n",
            " 0.30483407 0.71933627 0.         2.20870607 2.43559933 2.43559933\n",
            " 2.43559933 2.43559933 2.43559933 2.43559933 1.11940667 0.\n",
            " 0.         0.         0.         0.         0.         0.\n",
            " 0.         0.         0.         0.         0.         0.\n",
            " 0.         0.         0.         0.         0.         0.\n",
            " 0.         0.         0.         0.         0.         0.\n",
            " 0.         0.         0.         0.         0.         0.\n",
            " 0.         0.         0.         0.         0.         1.54874267\n",
            " 2.49304067 2.49304067 2.49304067 2.49304067 2.49304067 2.49304067\n",
            " 2.49304067 2.49304067 2.49304067 0.43313237 0.         0.\n",
            " 0.         0.         0.         0.         0.         0.\n",
            " 0.         0.         0.         0.         0.         0.\n",
            " 0.         0.         0.         0.         0.         0.\n",
            " 0.         0.         0.         0.         0.         0.        ] \n",
            "\n",
            "Charging Options car 2 :\n",
            " [  10   10   10   10   10   10   10   10   10   10   10   10   10   10\n",
            "   10   10   10   10   10   10   10   10   10   10   10   10   10   10\n",
            "   10   10   10   10   10   10   10   10   10   10   10   10   10   10\n",
            "   10   10   10   10   10   10   10   10 -100 -100 -100 -100 -100   20\n",
            "   20   20   20   20 -100 -100    0 -100 -100 -100 -100 -100 -100 -100\n",
            " -100    0    0    0    0    0    0    0    0    0    0    0    0    0\n",
            "    0    0    0    0    0    0    0    0    0    0    0    0    0    0\n",
            "    0    0    0    0    0    0    0    0    0 -100 -100 -100 -100 -100\n",
            " -100 -100 -100 -100 -100 -100   10   10   10   10   10   10   10   10\n",
            "   10   10   10   10   10   10   10   10   10   10   10   10   10   10\n",
            "   10   10   10   10] \n",
            "\n",
            "\n",
            "\n",
            "Speed plots:\n",
            "\n"
          ],
          "name": "stdout"
        },
        {
          "output_type": "display_data",
          "data": {
            "image/png": "[encoded data removed]",
            "text/plain": [
              "<Figure size 432x288 with 1 Axes>"
            ]
          },
          "metadata": {
            "tags": [],
            "needs_background": "light"
          }
        },
        {
          "output_type": "display_data",
          "data": {
            "image/png": "[encoded data removed]",
            "text/plain": [
              "<Figure size 432x288 with 1 Axes>"
            ]
          },
          "metadata": {
            "tags": [],
            "needs_background": "light"
          }
        }
      ]
    },
    {
      "cell_type": "markdown",
      "metadata": {
        "id": "XiLJbYcgvv6p"
      },
      "source": [
        "To do:\n",
        "\n",
        "- Ladeprofil: Array mit kWh pro timestep (+ bei Laden, 0 bei 100% Akkustand, - bei Fahren)\n",
        "- Berücksichtigung der Temperatur langsameres Laden (gemäß Recherche)\n",
        "  - für Min-Strategie\n",
        "  - für Max-Strategie\n",
        "- elektrische Nachfrage: Aggregieren Ladeprofil -> kWh Verbrauch\n",
        "\n",
        "Ideen zu Ladeprofilen:\n",
        "- array mit state of charge\n",
        "  - verliert x% pro 10 Minuten  (abhängig von temperatur?)\n",
        "  - verliert bei 14er Fahrt\n",
        "  - wird auf Arbeit/daheim geladen (Geschwindigkeit abhängig von state of charge)\n",
        "  - je 1 mal für jede Strategie\n",
        "\n",
        "Max-Strategie:\n",
        "- lade jedes Mal, wenn zuhause mit voller Leistung bis 100% state of charge erreicht sind\n",
        "\n",
        "Min-Strategie:\n",
        "- lade kurz vor Abfahrt\n",
        "\n",
        "- array Strombedarf zuhause\n",
        "  - alle Ladevorgänge (Autobedarf + x% Ladeverlust (abhängig von Temperatur?))\n",
        "  - aggregieren über alle Autos\n",
        "- array Strombedarf Arbeit\n",
        "  alle Ladevorgänge (Autobedarf + x% Ladeverlust (abhängig von Temperatur?))\n"
      ]
    },
    {
      "cell_type": "code",
      "metadata": {
        "colab": {
          "base_uri": "https://localhost:8080/"
        },
        "id": "FlqAKtGb6zu8",
        "outputId": "cd70c093-ab76-48ae-fb28-496d4ed72641"
      },
      "source": [
        "# Haushalts-Auswahl\n",
        "\n",
        "# 1. Faktoren, die erfüllt sein müssen\n",
        "eingabe_anzahl_bewohner = 2\n",
        "eingabe_anzahl_fahrer = 2\n",
        "eingabe_anzahl_fahrzeuge = 7\n",
        "\n",
        "# 2. Faktoren, die erfüllt sein können -> Score, wie gut erfüllt sie werden\n",
        "eingabe_einkommen = 6\n",
        "gewichtung_einkommen = 0.25\n",
        "\n",
        "eingabe_einwohnerzahl = 2\n",
        "gewichtung_einwohnerzahl = 0.25\n",
        "\n",
        "eingabe_geburtsjahr = 1980\n",
        "gewichtung_geburtsjahr = 0.25\n",
        "\n",
        "eingabe_beruf = 1\n",
        "gewichtung_beruf = 0.25\n",
        "\n",
        "# eingabe_fahrleistung -> muss berechnet werden (methode in Person), sehr schwer\n",
        "\n",
        "### Implementierung:\n",
        "# 1.\n",
        "result = []\n",
        "for i in range(0, len(meta_mop_filtered)):\n",
        "  household_1 = Household(meta_mop_filtered[i,0])\n",
        "  number_of_ocupants = household_1.get_number_of_occupants()\n",
        "  number_of_drivers = household_1.get_number_of_drivers()\n",
        "  number_of_cars = household_1.get_number_of_cars()\n",
        "  if ((number_of_ocupants == eingabe_anzahl_bewohner) & (number_of_drivers == eingabe_anzahl_fahrer) & (number_of_cars == eingabe_anzahl_fahrzeuge)):\n",
        "    result.append(household_1.household_ID.astype(int))\n",
        "\n",
        "possible_households = np.unique(result)\n",
        "print(len(possible_households))\n",
        "print(possible_households)"
      ],
      "execution_count": null,
      "outputs": [
        {
          "output_type": "stream",
          "text": [
            "0\n",
            "[]\n"
          ],
          "name": "stdout"
        }
      ]
    },
    {
      "cell_type": "code",
      "metadata": {
        "colab": {
          "base_uri": "https://localhost:8080/"
        },
        "id": "r9yvomrJkJkB",
        "outputId": "e7e37be1-1803-4294-d340-dd1a7bb87944"
      },
      "source": [
        "score_array = []\n",
        "\n",
        "for i in range(0, len(possible_households)):\n",
        "    household_1 = Household(household_ID = possible_households[i])\n",
        "\n",
        "    income = household_1.get_income()\n",
        "    income_diff = income - eingabe_einkommen\n",
        "    if (income_diff == 0):\n",
        "      income_points = 2\n",
        "    elif (abs(income_diff) == 1):\n",
        "      income_points = 1\n",
        "    else:\n",
        "      income_points = 0\n",
        "    income_points = income_points * gewichtung_einkommen\n",
        "\n",
        "    inhabitants = household_1.get_number_of_inhabitants()\n",
        "    inhabitants_diff = inhabitants - eingabe_einwohnerzahl\n",
        "    if (inhabitants_diff == 0):\n",
        "      inhabitants_points = 2\n",
        "    elif (abs(inhabitants_diff) == 1):\n",
        "      inhabitants_points = 1\n",
        "    else:\n",
        "      inhabitants_points = 0\n",
        "    inhabitants_points = inhabitants_points * gewichtung_einwohnerzahl\n",
        "\n",
        "    year_of_birth = household_1.get_year_of_birth()\n",
        "    yob_diff = year_of_birth - eingabe_geburtsjahr\n",
        "    if (yob_diff <= 10):\n",
        "      yob_points = 2\n",
        "    elif (abs(yob_diff) <= 20):\n",
        "      yob_points = 1\n",
        "    else:\n",
        "      yob_points = 0\n",
        "    yob_points = yob_points * gewichtung_geburtsjahr\n",
        "\n",
        "    profession = household_1.get_profession()\n",
        "    profession_diff = profession - eingabe_beruf\n",
        "    if (profession_diff == 0):\n",
        "      profession_points = 2\n",
        "    elif (abs(profession_diff) == 1):\n",
        "      profession_points = 1\n",
        "    else:\n",
        "      profession_points = 0\n",
        "    profession_points = profession_points * gewichtung_beruf\n",
        "\n",
        "    score_list = [income_points, inhabitants_points, yob_points, profession_points]\n",
        "    score = sum(score_list)\n",
        "    score_array.append(score)\n",
        "\n",
        "print(score_array)\n",
        "print(len(score_array))\n"
      ],
      "execution_count": null,
      "outputs": [
        {
          "output_type": "stream",
          "text": [
            "[0.5, 1.0, 1.0, 0.75, 1.0, 0.5, 0.5, 1.5, 1.0, 0.5, 0.5, 0.75, 1.0, 0.5, 1.5, 1.0, 0.75, 0.5, 0.5, 1.0, 2.0, 1.0, 0.5, 1.0, 1.5, 1.0, 2.0, 1.0, 2.0, 1.0, 1.0, 0.5, 2.0, 2.0, 1.0, 1.5, 0.5, 0.5, 1.0, 1.25, 1.0, 0.5, 1.0, 1.0, 1.0, 0.5, 1.5, 0.5, 1.0, 1.0, 0.5, 1.5, 1.0, 0.5, 1.0, 1.5, 1.0, 0.5, 1.0, 1.5, 0.5, 1.5, 1.0, 1.0, 0.75, 0.75, 0.5, 1.0, 1.0, 0.5, 1.0, 1.75, 1.0, 2.0, 1.0, 0.5, 0.5, 1.0, 1.0, 1.5, 1.0, 2.0, 1.5, 1.0, 0.75, 1.5, 0.75, 0.5, 0.5, 1.0, 0.5, 1.0, 1.75, 1.0, 1.5, 1.5, 1.0, 0.5, 1.5, 0.5, 0.5, 1.0, 1.0, 1.0, 1.5, 1.0, 1.5, 0.75, 1.0, 1.0, 1.5, 1.5, 2.0, 1.0, 1.0, 2.0, 0.75, 1.0, 1.0, 1.0, 1.5, 0.5, 1.0, 1.0, 1.0, 1.0, 1.0, 1.0, 1.5, 0.75, 0.5, 1.75, 1.5, 1.0, 2.0, 1.0, 0.5, 1.0, 1.25, 1.5, 0.75, 1.0, 1.0, 1.0, 1.5, 0.5, 1.5, 1.0, 1.0, 1.0, 1.25, 1.0, 1.5, 1.0, 1.0, 1.5, 2.0, 1.5, 1.75, 1.5, 1.0, 1.0, 1.0, 0.5, 1.0, 1.0, 1.0]\n",
            "167\n"
          ],
          "name": "stdout"
        },
        {
          "output_type": "stream",
          "text": [
            "/usr/local/lib/python3.7/dist-packages/ipykernel_launcher.py:7: RuntimeWarning: overflow encountered in long_scalars\n",
            "  import sys\n"
          ],
          "name": "stderr"
        }
      ]
    },
    {
      "cell_type": "code",
      "metadata": {
        "colab": {
          "base_uri": "https://localhost:8080/"
        },
        "id": "G2rK3inzlv7e",
        "outputId": "da4e41dc-1320-4237-b00e-c4ac518b0811"
      },
      "source": [
        "z = [x for _, x in sorted(zip(score_array, possible_households))]\n",
        "z_final = list(reversed(z))\n",
        "print(z_final[0:10])"
      ],
      "execution_count": null,
      "outputs": [
        {
          "output_type": "stream",
          "text": [
            "[8701034836, 8501023247, 4711031623, 4711030931, 4701032819, 4511022052, 4311012474, 4311012420, 4311011266, 4311010963]\n"
          ],
          "name": "stdout"
        }
      ]
    },
    {
      "cell_type": "code",
      "metadata": {
        "id": "AqCAgOtOEVFw"
      },
      "source": [
        ""
      ],
      "execution_count": null,
      "outputs": []
    },
    {
      "cell_type": "code",
      "metadata": {
        "id": "rWkDCw-tA0_q"
      },
      "source": [
        "states = self.get_states(0,1008) # betrachte states in der ganzen Woche\n",
        "number_of_drivers = 0\n",
        "for i in range(0,len(states)):\n",
        "  if ((states[i]==14).sum() > 0):\n",
        "    number_of_drivers += 1\n",
        "return number_of_drivers"
      ],
      "execution_count": null,
      "outputs": []
    },
    {
      "cell_type": "code",
      "metadata": {
        "colab": {
          "base_uri": "https://localhost:8080/"
        },
        "id": "6gxre_wegF-T",
        "outputId": "1b3f915a-bead-4d24-d393-e75e209be821"
      },
      "source": [
        "ID = 4711036120\n",
        "household_1 =  Household(household_ID = ID)\n",
        "\n",
        "start = 588\n",
        "end = 732\n",
        "\n",
        "home_charging_power = 10\n",
        "work_charging_power = 20\n",
        "\n",
        "car_1 = Car(ID, 1)\n",
        "print(car_1.get_charging_options(start,end,home_charging_power,work_charging_power))"
      ],
      "execution_count": null,
      "outputs": [
        {
          "output_type": "stream",
          "text": [
            "[  10   10   10   10   10   10   10   10   10   10   10   10   10   10\n",
            "   10   10   10   10   10   10   10   10   10   10   10   10   10   10\n",
            "   10   10   10   10   10   10   10   10   10   10   10   10   10   10\n",
            "   10   10   10   10   10   10   10   10    0    0    0    0   20   20\n",
            "   20   20   20   20    0    0    0    0    0    0    0    0    0    0\n",
            "    0    0    0    0    0    0    0    0    0    0    0    0    0    0\n",
            "    0    0    0   10   10   10   10   10   10   10   10   10   10   10\n",
            "   10   10   10   10   10   10   10   10   10 -100 -100 -100 -100 -100\n",
            " -100 -100 -100 -100 -100 -100   10   10   10   10   10   10   10   10\n",
            "   10   10   10   10   10   10   10   10   10   10   10   10   10   10\n",
            "   10   10   10   10]\n"
          ],
          "name": "stdout"
        }
      ]
    },
    {
      "cell_type": "code",
      "metadata": {
        "id": "pdN4rCyDuDfU"
      },
      "source": [
        "'''\n",
        "*   Bsp. für HH mit 1 Fahrer,  1 Auto:  4301011562\n",
        "*   Bsp. für HH mit 2 Fahrern, 2 Autos: 4711036120\n",
        "*   Bsp. für HH mit 3 Fahrern, 3 Autos: 4301011674\n",
        "*   Bsp. für HH mit 2 Fahrern, 1 Auto:  4301011871\n",
        "*   Bsp. für HH mit 0 Fahrern, 1 Auto:  4301012968\n",
        "'''\n",
        "\n",
        "household_1 =  Household(household_ID = 4301011674)\n",
        "\n",
        "start = 0\n",
        "end = 144\n",
        "\n",
        "x = household_1.get_drivers_states_profiles(start,end)\n",
        "y = household_1.get_drivers_speeds_profiles(start,end)\n",
        "\n",
        "print('\\nDriver Profiles of household:\\n', x)\n",
        "print('\\nSpeed Profiles of household:\\n', y)"
      ],
      "execution_count": null,
      "outputs": []
    },
    {
      "cell_type": "code",
      "metadata": {
        "id": "up83BDAKTHhr"
      },
      "source": [
        "# Erstellung eines Haushalt-Objekts in meta_mop_filtered\n",
        "# ansonsten: gewünschte ID eingeben\n",
        "\n",
        "household_1 =  Household(household_ID = 4301011674)\n",
        "#household_1.get_household()"
      ],
      "execution_count": null,
      "outputs": []
    },
    {
      "cell_type": "code",
      "metadata": {
        "id": "Kv9oDcrjUdIy"
      },
      "source": [
        "# Anzahl Bewohner des Haushalts\n",
        "# Anzahl Fahrer im Haushalt\n",
        "# Anzahl Autos im Haushalt\n",
        "\n",
        "print('number of occupants in chosen household: ', household_1.get_number_of_occupants())\n",
        "print('number of drivers in chosen household: ', household_1.get_number_of_drivers())\n",
        "print('number of cars in chosen household: ', household_1.get_number_of_cars())"
      ],
      "execution_count": null,
      "outputs": []
    },
    {
      "cell_type": "code",
      "metadata": {
        "id": "m3yb3WOxR__D"
      },
      "source": [
        "# Informationen über die Position des Haushalts bzw. der Personen im Datensatz (filtered: nur 2017)\n",
        "# gibt die Position der gewünschten Person im Datensatz an. (0 = erste Person des HH usw.)\n",
        "\n",
        "print('The household can be found in the data set at row(s): ', household_1.get_data_position())\n",
        "\n",
        "person_number = 0     # 0: first person, 1: second person ...\n",
        "print('Person', person_number, 'can be found in the data set at row: ', household_1.get_persons(person_number))\n",
        "\n",
        "# gebe drivers aus:\n",
        "print('Drivers of household:', household_1.get_drivers())"
      ],
      "execution_count": null,
      "outputs": []
    },
    {
      "cell_type": "code",
      "metadata": {
        "id": "RRQukDDE-cXN"
      },
      "source": [
        "# Ausgabe der Mobilitätsprofile\n",
        "\n",
        "start = 0    # timesteps\n",
        "end = 504\n",
        "person_number = 0\n",
        "\n",
        "mobility_profiles = household_1.get_states(start,end)\n",
        "\n",
        "print('Mobility profile of person', person_number, ':')\n",
        "plt.plot(mobility_profiles[person_number])"
      ],
      "execution_count": null,
      "outputs": []
    },
    {
      "cell_type": "code",
      "metadata": {
        "id": "llMQdaupBZcu"
      },
      "source": [
        "# Ausgabe der Speed-Profiles\n",
        "\n",
        "start = 0     # timesteps\n",
        "end = 504\n",
        "person_number = 0\n",
        "\n",
        "speed_profiles = household_1.get_speeds(start, end)\n",
        "\n",
        "print('Speed profile of person', person_number, ':')\n",
        "plt.plot(speed_profiles[person_number])"
      ],
      "execution_count": null,
      "outputs": []
    },
    {
      "cell_type": "code",
      "metadata": {
        "id": "_gBmXNncw6ks"
      },
      "source": [
        "# Ausgabe der States eines individuellen HH-Mitglieds\n",
        "person_number = 0\n",
        "household_ID = household_1.household_ID\n",
        "start = 0\n",
        "end = 504\n",
        "\n",
        "\n",
        "# erstelle Person Objekt:\n",
        "person_1 = Person (position = household_1.get_persons(person_number), household_ID = household_ID)\n",
        "print('original states for person', person_number,':\\n', person_1.get_state(start,end))\n",
        "print('\\n')\n",
        "\n",
        "# setze alle states außer 1,2 (work), 8 (home), 14 (car driver) auf 30??\n",
        "print('adjusted states for person', person_number, ':\\n', person_1.get_adjusted_states(start, end))\n",
        "print('\\n')\n",
        "\n",
        "print('Person', person_number, 'is a driver:', person_1.driver_bool)\n",
        "print('Person', person_number, 'drove the following total distance (km) in one weeek:', person_1.total_distance)\n",
        "\n",
        "# Liste aller Positionen \"Car Driver\":\n",
        "print('positions where car driver is true for person', person_number,':\\n', person_1.get_driver_positions(start, end))"
      ],
      "execution_count": null,
      "outputs": []
    },
    {
      "cell_type": "markdown",
      "metadata": {
        "id": "Ct81aTKo_VJj"
      },
      "source": [
        "### Test"
      ]
    },
    {
      "cell_type": "code",
      "metadata": {
        "colab": {
          "base_uri": "https://localhost:8080/"
        },
        "id": "xnCxPjmS1flt",
        "outputId": "2e22c0f5-103f-4e81-aba6-ed723655630f"
      },
      "source": [
        "# Datum konvertieren\n",
        "\n",
        "dates = meta_mop_filtered[0,32:38]\n",
        "dates = pd.to_timedelta(ser, unit='D') + pd.Timestamp('1960-1-1')\n",
        "print(dates)"
      ],
      "execution_count": 32,
      "outputs": [
        {
          "output_type": "stream",
          "text": [
            "DatetimeIndex(['2017-09-17', '2017-09-18', '2017-09-19', '2017-09-20',\n",
            "               '2017-09-21', '2017-09-22'],\n",
            "              dtype='datetime64[ns]', freq=None)\n"
          ],
          "name": "stdout"
        }
      ]
    },
    {
      "cell_type": "code",
      "metadata": {
        "id": "GL4TxnCb-oYE"
      },
      "source": [
        "# Erklärung Funktion merge()\n",
        "\n",
        "household_1 =  Household(household_ID = 4301011871)\n",
        "\n",
        "# Funktioniert nur für Haushalte mit mind. 2 Drivers (vorher check laufen lassen)\n",
        "# 1. positions aller driver des HH\n",
        "drivers_positions = household_1.get_drivers()\n",
        "print('Drivers:\\n', drivers_positions)\n",
        "print('-----')\n",
        "\n",
        "# 2. erstelle Array mit Listen aller states (für jeden driver eine Liste)\n",
        "all_states_drivers = np.array([household_1.get_states(0,14)[0]])\n",
        "for i in range(1, len(drivers_positions)):\n",
        "  all_states_drivers = np.append(all_states_drivers, [household_1.get_states(0,14)[i]], axis=0)\n",
        "print('States aller Drivers:\\n', all_states_drivers)\n",
        "print('-----')\n",
        "\n",
        "# 3. betrachte ein array aus den letzten beiden Listen\n",
        "drivers_last_two = all_states_drivers[-2:]\n",
        "print('Die letzten beiden Einträge des Arrays:\\n', drivers_last_two)\n",
        "print('-----')\n",
        "\n",
        "# 4. ziehe positions aller 14er aus der letzten Liste heraus\n",
        "list_states14_last_driver = [i for i in range(len(drivers_last_two[-1])) if drivers_last_two[-1][i] == 14]\n",
        "print('Alle 14er states aus dem LETZTEN Eintrag:\\n', list_states14_last_driver)\n",
        "print('-----')\n",
        "\n",
        "# 5. erzeuge eine neue Liste (vorletzte Liste komplette + 14er der letzten Liste)\n",
        "drivers_last_two_merged = all_states_drivers[-2].copy()\n",
        "for i in list_states14_last_driver:\n",
        "  drivers_last_two_merged[i] = 14\n",
        "print('VORletzter Eintrag, ergänzt mit den 14ern des LETZTEN Eintrags:\\n', drivers_last_two_merged)\n",
        "print('-----')\n",
        "\n",
        "# 6. ersetze die letzten beiden Listen des arrays durch das neue Array\n",
        "all_states_drivers = np.delete(all_states_drivers, [-1,-2], axis=0)\n",
        "drivers_merged = np.vstack((all_states_drivers, drivers_last_two_merged))\n",
        "print('Merge abgeschlossen. Das folgende Array hat die letzten beiden Drivers zusammengefasst: besteht aus den States des vorletzten Drivers, ergänzt durch die 14er des letzten Drivers:\\n', drivers_merged)"
      ],
      "execution_count": null,
      "outputs": []
    }
  ]
}