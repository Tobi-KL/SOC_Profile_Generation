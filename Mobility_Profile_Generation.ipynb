{
  "nbformat": 4,
  "nbformat_minor": 0,
  "metadata": {
    "colab": {
      "name": "Mobility_Profile_Generation.ipynb",
      "provenance": [],
      "collapsed_sections": [],
      "toc_visible": true,
      "include_colab_link": true
    },
    "kernelspec": {
      "display_name": "Python 3",
      "name": "python3"
    },
    "language_info": {
      "name": "python"
    }
  },
  "cells": [
    {
      "cell_type": "markdown",
      "metadata": {
        "id": "view-in-github",
        "colab_type": "text"
      },
      "source": [
        "<a href=\"https://colab.research.google.com/github/Tobi-KL/mobility_profile_generation/blob/main/Mobility_Profile_Generation.ipynb\" target=\"_parent\"><img src=\"https://colab.research.google.com/assets/colab-badge.svg\" alt=\"Open In Colab\"/></a>"
      ]
    },
    {
      "cell_type": "markdown",
      "metadata": {
        "id": "RQt67K-VC64E"
      },
      "source": [
        "### Preparation"
      ]
    },
    {
      "cell_type": "markdown",
      "metadata": {
        "id": "rysp-x35byLY"
      },
      "source": [
        "Connect to Google Drive"
      ]
    },
    {
      "cell_type": "code",
      "metadata": {
        "colab": {
          "base_uri": "https://localhost:8080/"
        },
        "id": "0NNZaeoqMsiV",
        "outputId": "cb90a450-ecba-48c8-896d-750b28fbc861"
      },
      "source": [
        "from google.colab import drive\n",
        "drive.mount('/content/drive')"
      ],
      "execution_count": null,
      "outputs": [
        {
          "output_type": "stream",
          "text": [
            "Drive already mounted at /content/drive; to attempt to forcibly remount, call drive.mount(\"/content/drive\", force_remount=True).\n"
          ],
          "name": "stdout"
        }
      ]
    },
    {
      "cell_type": "markdown",
      "metadata": {
        "id": "nfy_P5nKNhxC"
      },
      "source": [
        "Load libraries"
      ]
    },
    {
      "cell_type": "code",
      "metadata": {
        "id": "JeZTPvcKMvW-"
      },
      "source": [
        "import numpy as np\n",
        "import pandas as pd\n",
        "import matplotlib.pyplot as plt\n",
        "import pickle\n",
        "import csv\n",
        "import xlrd\n",
        "import random"
      ],
      "execution_count": 353,
      "outputs": []
    },
    {
      "cell_type": "markdown",
      "metadata": {
        "id": "BXOnuoD6b1pn"
      },
      "source": [
        "Read Data"
      ]
    },
    {
      "cell_type": "code",
      "metadata": {
        "id": "GmFT8TjJMyKV"
      },
      "source": [
        "###   Read data    ###\n",
        "# data_mop.pkl: Aggregationsmethode \"immer die längste Aktivität\"\n",
        "# data_mop_priority: Aggregationsmethode \"priority\" (immer die Mobilitätsaktivität)\n",
        "\n",
        "with open('/content/drive/MyDrive/Tobias_MA/Data/data_mop_priority.pkl', 'rb') as input:\n",
        "        [states_mop,speed_mop,meta_mop,meta_header_mop] = pickle.load(input)"
      ],
      "execution_count": null,
      "outputs": []
    },
    {
      "cell_type": "code",
      "metadata": {
        "id": "ccYxNulIrPyW"
      },
      "source": [
        "# nach Jahr 2017 filtern:\n",
        "meta_mop_filtered = meta_mop[-3820:-1,]\n",
        "states_mop_filtered = states_mop[-3820:-1,]\n",
        "speed_mop_filtered = speed_mop[-3820:-1,]\n",
        "\n",
        "print(meta_mop_filtered)"
      ],
      "execution_count": null,
      "outputs": []
    },
    {
      "cell_type": "code",
      "metadata": {
        "colab": {
          "base_uri": "https://localhost:8080/",
          "height": 54
        },
        "id": "iN2Hy-MtN5eM",
        "outputId": "f9ccac4d-3e22-4f87-efeb-d6d59ac99164"
      },
      "source": [
        "state_names = ['not known (mobile or not mobile)', 'work', 'work', 'school,training',\n",
        "               'shopping', 'private', 'bring,pick up', 'freetime', 'home', \n",
        "               'else (outside not mobile)', 'not known (not mobile)', 'by foot', \n",
        "               'bicycle', 'motorcycle', 'car driver', 'car codriver', 'public transport', \n",
        "               'long distance public-transport', 'else (mobile)', 'not known (mobile)']\n",
        "\n",
        "no_states = int(len(np.unique(states_mop)))\n",
        "timesteps = int(states_mop.shape[1])\n",
        "\n",
        "\"\"\"\n",
        "States:\n",
        "0:not known (mobile or not mobile)\n",
        "1:work\n",
        "2:work\n",
        "3:school,training\n",
        "4:shopping\n",
        "5:private\n",
        "6:bring,pick up\n",
        "7:freetime\n",
        "8:home\n",
        "9:else (outside not mobile)\n",
        "10:not known (not mobile)\n",
        "11:by foot \n",
        "12:bicycle\n",
        "13:motorcycle\n",
        "14:car driver\n",
        "15:car codriver\n",
        "16:public transport\n",
        "17:long distance public-transport\n",
        "18:else (mobile)\n",
        "20:not known (mobile)\n",
        "\"\"\""
      ],
      "execution_count": null,
      "outputs": [
        {
          "output_type": "execute_result",
          "data": {
            "application/vnd.google.colaboratory.intrinsic+json": {
              "type": "string"
            },
            "text/plain": [
              "'\\nStates:\\n0:not known (mobile or not mobile)\\n1:work\\n2:work\\n3:school,training\\n4:shopping\\n5:private\\n6:bring,pick up\\n7:freetime\\n8:home\\n9:else (outside not mobile)\\n10:not known (not mobile)\\n11:by foot \\n12:bicycle\\n13:motorcycle\\n14:car driver\\n15:car codriver\\n16:public transport\\n17:long distance public-transport\\n18:else (mobile)\\n20:not known (mobile)\\n'"
            ]
          },
          "metadata": {
            "tags": []
          },
          "execution_count": 195
        }
      ]
    },
    {
      "cell_type": "code",
      "metadata": {
        "id": "xf9RT5Yi-Vzb"
      },
      "source": [
        "# Infos über die Autos des Haushalts:\n",
        "\n",
        "# TANK-Tabelle(2017-2018) einlesen:\n",
        "# SEGMENT in Spalte [174]\n",
        "# HOUSEHOLD_ID in Spalte [0]\n",
        "\n",
        "'''\n",
        "Segmente:\n",
        "\n",
        "1 Mini\n",
        "2 Kleinwagen\n",
        "3 Kompaktklasse\n",
        "4 Mittelklasse\n",
        "5 Obere Mittelklasse\n",
        "6 Oberklasse\n",
        "7 Geländewagen\n",
        "8 Sportwagen\n",
        "9 Mini-Van\n",
        "10 Großraum-Van\n",
        "11 Utility\n",
        "12 Wohnmobil\n",
        "13 SUV\n",
        ". Nicht ermittelbar\n",
        "'''\n",
        "\n",
        "\n",
        "csv = np.genfromtxt ('/content/drive/MyDrive/Tobias_MA/Data/TANK18.csv', delimiter=\";\", encoding = \"ISO-8859-1\")"
      ],
      "execution_count": null,
      "outputs": []
    },
    {
      "cell_type": "markdown",
      "metadata": {
        "id": "rz9K9vSzb5Pm"
      },
      "source": [
        "### Classes"
      ]
    },
    {
      "cell_type": "code",
      "metadata": {
        "id": "1gRzHhdRe6M9"
      },
      "source": [
        "# erstellt ein Haushalt-Objekt\n",
        "# enthält Informationen über den gewählten Haushalt (Anzahl Bewohner, Anzahl Fahrer, alle Mobilitätsprofile der Bewohner, Position im Datensatz ... )\n",
        "# vorerst: entweder zufällig oder mit bekannter ID\n",
        "# TODO: Eingabemöglichkeit verschiedener Parameter (z.B. Haushaltsgröße, Einkommen etc.) -> Rückgabe einer Liste der ähnlichsten Haushalte (set-Methoden)\n",
        "\n",
        "class Household:\n",
        "    def __init__(self, household_ID):\n",
        "        self.household_ID = household_ID\n",
        "        #self.household_size = household_size\n",
        "        self.position = np.where(meta_mop_filtered[:,0] == self.household_ID)[0]\n",
        "        self.chosen_household = meta_mop_filtered.astype(int) [np.where(meta_mop_filtered[:,0] == self.household_ID)]\n",
        "\n",
        "        \"\"\"\n",
        "        - Constructor of household object\n",
        "        - householdID: ID of household (MOP-Data) -> sorted in ascending order\n",
        "        - householdSize: # of occupants of household\n",
        "        \"\"\"\n",
        "  \n",
        "    def get_household(self):\n",
        "      return self.chosen_household.astype(int)\n",
        "    # returns chosen household (array with >= 1 entries (1 entry = 1 person, 1 year))\n",
        "\n",
        "    def get_number_of_occupants(self):\n",
        "      return self.chosen_household[0,5]\n",
        "    # returns number of occupants living in chosen household\n",
        "    \n",
        "    def get_number_of_drivers(self):\n",
        "      states = self.get_states(0,1008) # betrachte states in der ganzen Woche\n",
        "      number_of_drivers = 0\n",
        "      for i in range(0,len(states)):\n",
        "        if ((states[i]==14).sum() > 0):\n",
        "          number_of_drivers += 1\n",
        "      return number_of_drivers\n",
        "    # returns number of drivers (at least one state == 14) living in chosen household\n",
        "\n",
        "    def get_drivers(self):\n",
        "      states = self.get_states(0,1008) # betrachte states in der ganzen Woche\n",
        "      drivers_list = []\n",
        "      for i in range(0,len(states)):\n",
        "          if ((states[i]==14).sum() > 0):\n",
        "            drivers_list.append(self.get_data_position()[i])\n",
        "      return drivers_list\n",
        "    # returns list of all drivers of chosen household (nur ihre positions)\n",
        "    \n",
        "    def get_number_of_cars(self):\n",
        "      return self.chosen_household[0,7]\n",
        "    # returns number of cars of chosen household\n",
        "    \n",
        "    def get_data_position(self):\n",
        "      position_list = []\n",
        "      for i in self.position:\n",
        "          position_list.append(i)\n",
        "      return position_list\n",
        "    # returns indeces of chosen household in data set\n",
        "    \n",
        "    def get_states(self, start, end):\n",
        "      for i in self.position:\n",
        "        return states_mop_filtered[self.position,start:end]\n",
        "    # returns ALL states for timespace between start and end\n",
        "\n",
        "    def get_adjusted_states(self, start, end):\n",
        "      states = self.get_states(start,end)\n",
        "      #states = np.where((states == 8) | (states == 14) | (states == 1) | (states == 2), states, 30)\n",
        "      return states\n",
        "    # returns adjusted states\n",
        "    # 8: home; 1,2: work; 14: Car driver; 30: rest\n",
        "\n",
        "    def get_speeds(self, start, end):\n",
        "      for i in self.position:\n",
        "        return speed_mop_filtered[self.position,start:end]\n",
        "    # returns all speeds for timespace between start and end\n",
        "\n",
        "    def get_persons(self, person_number):\n",
        "      household_positions = self.get_data_position()\n",
        "      persons = [Person (position = i, household_ID = self.household_ID) for i in household_positions]\n",
        "      return persons[person_number].position\n",
        "    # returns position of chosen Person-object in data set\n",
        "\n",
        "    def get_sorted_drivers(self):\n",
        "      household_drivers = self.get_drivers()\n",
        "      drivers = []   \n",
        "      for i in household_drivers:\n",
        "        drivers.append(Person(position = i, household_ID = self.household_ID)) #erstellt für jeden driver ein Person-Object\n",
        "      sorted_drivers = sorted(drivers, key=lambda x: x.total_distance, reverse=True)\n",
        "      result = []\n",
        "      for i in range(0,len(sorted_drivers)):\n",
        "        result.append(sorted_drivers[i].position)\n",
        "      return result\n",
        "    # returns list with all drivers in household sorted in descending order by total distance (in whole week)\n",
        "    ### testen, ob sortieren funktioniert (-> alle sind in MOP bereits absteigend sortiert!)\n",
        "\n",
        "    def get_sorted_drivers_profiles(self, start, end):\n",
        "      drivers_list = self.get_sorted_drivers()\n",
        "      drivers_profiles = np.array([self.get_adjusted_states(start,end)[0]]) \n",
        "      for i in range(1, len(drivers_list)):\n",
        "        drivers_profiles = np.append(drivers_profiles, [self.get_adjusted_states(start,end)[i]], axis=0) \n",
        "      return drivers_profiles\n",
        "    # returns profiles of all drivers (if they don´t have to be merged)\n",
        "\n",
        "    def get_drivers_states_profiles(self, start, end):\n",
        "      if self.check_merge()==True:\n",
        "        drivers_states_profiles = self.states_merge(start,end)\n",
        "      else:\n",
        "        drivers_states_profiles = self.get_sorted_drivers_profiles(start,end)\n",
        "      return drivers_states_profiles\n",
        "    # returns final states profiles for drivers  \n",
        "\n",
        "    def check_merge(self):\n",
        "      if (self.get_number_of_drivers() > self.get_number_of_cars()):\n",
        "        #print(\"Merge necessary.\")\n",
        "        return True\n",
        "      else:\n",
        "        #print(\"No merge necessary.\")\n",
        "        return  False\n",
        "    # checks whether a mobility profile merge is necessary\n",
        " \n",
        "    def states_merge(self, start, end):\n",
        "    # Drivers müssen bereits sortiert sein!\n",
        "      x = self.get_number_of_drivers()\n",
        "      while x > self.get_number_of_cars():\n",
        "        drivers_positions = self.get_sorted_drivers()      #Liste aller Positionen der Drivers in data\n",
        "        \n",
        "        # 2. erstelle Array mit Listen aller states (für jeden driver eine Liste)\n",
        "        all_states_drivers = np.array([self.get_adjusted_states(start,end)[0]]) \n",
        "        for i in range(1, len(drivers_positions)):\n",
        "          all_states_drivers = np.append(all_states_drivers, [self.get_adjusted_states(start,end)[i]], axis=0)    \n",
        "\n",
        "        # 3. betrachte ein array aus den letzten beiden Listen\n",
        "        drivers_last_two = all_states_drivers[-2:]\n",
        "\n",
        "        # 4. ziehe positions aller 14er aus der letzten Liste heraus\n",
        "        list_states14_last_driver = [i for i in range(len(drivers_last_two[-1])) if drivers_last_two[-1][i] == 14]\n",
        "\n",
        "        # 5. erzeuge eine neue Liste (vorletzte Liste komplette + 14er der letzten Liste)\n",
        "        drivers_last_two_merged = all_states_drivers[-2].copy()\n",
        "        for i in list_states14_last_driver:\n",
        "          drivers_last_two_merged[i] = 14\n",
        "        \n",
        "        # 6. ersetze die letzten beiden Listen des arrays durch das neue Array\n",
        "        all_states_drivers = np.delete(all_states_drivers, [-1,-2], axis=0)\n",
        "        drivers_merged_profiles = np.vstack((all_states_drivers, drivers_last_two_merged))\n",
        "\n",
        "        x -= 1\n",
        "      #print(\"Merge completed.\")\n",
        "      return drivers_merged_profiles\n",
        "    # returns merged states profiles\n",
        "\n",
        "    def speed_merge(self, start, end):\n",
        "    # Drivers müssen bereits sortiert sein!\n",
        "      x = self.get_number_of_drivers()\n",
        "      while x > self.get_number_of_cars():\n",
        "        drivers_positions = self.get_sorted_drivers()      #Liste aller Positionen der Drivers in data\n",
        "        \n",
        "        # 2. erstelle Array mit Listen aller states (für jeden driver eine Liste) und ein Array mit Listen aller speeds\n",
        "        all_states_drivers = np.array([self.get_adjusted_states(start,end)[0]])\n",
        "        all_speeds_drivers = np.array([self.get_speeds(start,end)[0]]) \n",
        "        for i in range(1, len(drivers_positions)):\n",
        "          all_states_drivers = np.append(all_states_drivers, [self.get_adjusted_states(start,end)[i]], axis=0)\n",
        "        for i in range(1, len(drivers_positions)):\n",
        "          all_speeds_drivers = np.append(all_speeds_drivers, [self.get_speeds(start,end)[i]], axis=0)\n",
        "           \n",
        "\n",
        "        # 3. betrachte ein array aus den letzten beiden Listen\n",
        "        drivers_last_two_states = all_states_drivers[-2:]\n",
        "        drivers_last_two_speeds = all_speeds_drivers[-2:]\n",
        "\n",
        "        # 4. ziehe positions aller 14er aus der letzten Liste heraus\n",
        "        list_states14_last_driver = [i for i in range(len(drivers_last_two_states[-1])) if drivers_last_two_states[-1][i] == 14]\n",
        "\n",
        "        # 5. erzeuge eine neue Liste (vorletzte Liste komplette + 14er der letzten Liste)\n",
        "        \n",
        "        drivers_last_two_speeds_merged = all_speeds_drivers[-2].copy()\n",
        "        for i in list_states14_last_driver:\n",
        "          drivers_last_two_speeds_merged[i] = all_speeds_drivers[-1][i]\n",
        "        \n",
        "        # 6. ersetze die letzten beiden Listen des arrays durch das neue Array\n",
        "        all_speeds_drivers = np.delete(all_speeds_drivers, [-1,-2], axis=0)\n",
        "        drivers_merged_speed_profiles = np.vstack((all_speeds_drivers, drivers_last_two_speeds_merged))\n",
        "\n",
        "        x -= 1\n",
        "      #print(\"Merge completed.\")\n",
        "      return drivers_merged_speed_profiles\n",
        "    # returns merged speed profiles\n",
        "\n",
        "    def get_drivers_speed(self, start, end): #ohne merge (vgl. states -> umbenennen!)\n",
        "      drivers_list = self.get_sorted_drivers()\n",
        "      drivers_profiles = np.array([self.get_speeds(start,end)[0]])    #speeds der ersten person ##[]\n",
        "      for i in range(1, len(drivers_list)):\n",
        "        drivers_profiles = np.append(drivers_profiles, [self.get_speeds(start,end)[i]], axis=0) ##[]\n",
        "      return drivers_profiles\n",
        "    # returns array with speeds of all drivers\n",
        "\n",
        "    def get_speeds_after_merge(self,start,end):\n",
        "      if self.check_merge()==True:\n",
        "        drivers_speeds_profiles = self.speed_merge(start,end)\n",
        "      else:\n",
        "        drivers_speeds_profiles = self.get_drivers_speed(start,end)\n",
        "      return drivers_speeds_profiles\n",
        "\n",
        "    def get_drivers_speeds_profiles(self, start, end):\n",
        "      states = np.array(self.get_drivers_states_profiles(start,end))\n",
        "      speeds = np.array(self.get_speeds_after_merge(start,end)) \n",
        "      mask = np.where((states==14), False, True)      #mit Hilfe der Maske werden alle Speeds, die nicht zu einem 14er state gehören, rausgefiltert\n",
        "      drivers_speeds_profiles = speeds.copy()\n",
        "      drivers_speeds_profiles[mask] = 0\n",
        "      return drivers_speeds_profiles\n",
        "    # returns final speed profiles of alle drivers (only speeds of states=14)\n",
        "\n"
      ],
      "execution_count": null,
      "outputs": []
    },
    {
      "cell_type": "code",
      "metadata": {
        "id": "1rYmIEQZqBgG"
      },
      "source": [
        "# erstellt das Mobilitätsprofil EINER Person\n",
        "# dafür muss die position der Person im Datensatz angegeben werden (erste Zeile im Datensatz = Person 0)\n",
        "\n",
        "class Person:\n",
        "    def __init__(self, position, household_ID):\n",
        "      self.position = position #position in data\n",
        "      self.household_ID = household_ID\n",
        "      #self.total_distance = total_distance\n",
        "       \n",
        "      if ((self.get_state(0,1008)==14).sum() > 0):\n",
        "        self.driver_bool = True  #true, wenn person ein Fahrer ist\n",
        "      else:\n",
        "        self.driver_bool = False\n",
        "      \n",
        "      if self.driver_bool == True:\n",
        "        list_1 = self.get_driver_positions(0, 1008) #Liste aller states=14\n",
        "        speeds_sum = 0\n",
        "        for i in list_1:\n",
        "          speeds_sum = speeds_sum + self.get_single_speed(i)     #Summe aller Geschwindigkeiten (state=14) \n",
        "        mean_speed = speeds_sum / len(list_1)  # in km/h\n",
        "        time = len(list_1) * 10 # in min\n",
        "        distance = mean_speed * time / 60\n",
        "        self.total_distance = distance\n",
        "      else:\n",
        "        self.total_distance = 0   \n",
        "\n",
        "\n",
        "    \"\"\"\n",
        "    - Constructor of Person-Object\n",
        "    - householdID: ID of household (MOP-Data) -> sorted in ascending order\n",
        "    - position: position of individual person in data set (first line in data set = person 0)\n",
        "    \"\"\"\n",
        "\n",
        "    def get_state(self, start, end):\n",
        "        states = states_mop_filtered[self.position,start:end]\n",
        "        return states\n",
        "    # returns states for individual persons between start and end\n",
        "\n",
        "    def get_speed(self, start, end):\n",
        "        return speed_mop_filtered[self.position,start:end]\n",
        "    # returns speed for timespace between start and end\n",
        "\n",
        "    def get_single_speed(self, timestep):\n",
        "        return speed_mop_filtered[self.position, timestep]\n",
        "    # returns speed for one single timestep\n",
        "\n",
        "    def get_adjusted_states(self, start, end):\n",
        "        states = self.get_state(start,end)\n",
        "        states_adjusted = np.where((states == 8) | (states == 14) | (states == 1) | (states == 2), states, 30)\n",
        "        return states_adjusted\n",
        "    # returns adjusted states for individual person\n",
        "    # 8: home; 1,2: work; 14: Car driver; 30: rest\n",
        "\n",
        "    def get_driver_positions(self, start, end):\n",
        "        list_car_driver = [i for i in range(len(self.get_state(start, end))) if self.get_state(start, end)[i] == 14]\n",
        "        return list_car_driver\n",
        "    # returns every position in states where car driver (state=14) = true\n",
        "    \n",
        "    def get_total_distance(self, start, end):\n",
        "      list_1 = self.get_driver_positions(start, end) #Liste aller states=14\n",
        "      speeds_sum = 0\n",
        "      for i in list_1:\n",
        "        speeds_sum = speeds_sum + self.get_single_speed(i)     #Summe aller Geschwindigkeiten (state=14) \n",
        "      mean_speed = speeds_sum / len(list_1)  # in km/h\n",
        "      time = len(list_1) * 10 # in min\n",
        "      distance = mean_speed * time / 60\n",
        "      return distance \n",
        "    # returns total distance driven by person in the week"
      ],
      "execution_count": null,
      "outputs": []
    },
    {
      "cell_type": "code",
      "metadata": {
        "id": "LfMpE_Izi1TP"
      },
      "source": [
        "class Car:\n",
        "    def __init__(self, household_ID, car_nr):\n",
        "      self.household_ID = household_ID\n",
        "      self.car_nr = car_nr  # number of car in household (1st = 1, 2nd = 2 ... )\n",
        "    \n",
        "    \"\"\"\n",
        "    - Constructor of Car-Profile Object\n",
        "    - householdID: ID of household (MOP-Data) -> sorted in ascending order\n",
        "    \"\"\"\n",
        "\n",
        "    def get_speed_profile(self, start, end):\n",
        "      household_1 = Household(household_ID = self.household_ID)\n",
        "      speed_profile = household_1.get_drivers_speeds_profiles(start, end)\n",
        "      return speed_profile [self.car_nr - 1]\n",
        "    # returns speed profile for chosen car\n",
        "\n",
        "    def get_state_profile(self, start, end):\n",
        "      household_1 = Household(household_ID = self.household_ID)\n",
        "      state_profile = household_1.get_drivers_states_profiles(start, end)\n",
        "      return state_profile [self.car_nr - 1]\n",
        "    # returns state profile for chosen car\n",
        "\n",
        "    def get_segment(self):\n",
        "      cars = csv [np.where(csv[:,0] == self.household_ID)]\n",
        "      segment = cars[self.car_nr - 1 : self.car_nr , 174]\n",
        "      return segment.astype(int)\n",
        "    # returns segment of chosen car\n",
        "    \n",
        "    def get_segments(self):\n",
        "      cars = csv [np.where(csv[:,0] == self.household_ID)] \n",
        "      segments = cars[:,174]\n",
        "      return segments.astype(int)\n",
        "    # returns segments of all cars in household (sorted by overall driven distance per year)\n",
        "    \n",
        "    def get_charging_options(self, start, end, home_charging_power, work_charging_power):\n",
        "      states = self.get_state_profile(start,end)\n",
        "      #charge_array = states.copy()\n",
        "      charge_array = np.where((states == 8), home_charging_power, np.where((states == 1) | (states == 2), work_charging_power, np.where((states == 14), -100, 0))) \n",
        "      return charge_array\n",
        "    # returns array with charging options (considers charging power at home, at work; 0 when not in use (but neither at home or work), -100 when in use)\n",
        "\n",
        "# Informationen, die Ladeprofil enthalten soll: Heinz S. 44 \n"
      ],
      "execution_count": 348,
      "outputs": []
    },
    {
      "cell_type": "code",
      "metadata": {
        "colab": {
          "base_uri": "https://localhost:8080/"
        },
        "id": "6gxre_wegF-T",
        "outputId": "1b3f915a-bead-4d24-d393-e75e209be821"
      },
      "source": [
        "ID = 4711036120\n",
        "household_1 =  Household(household_ID = ID)\n",
        "\n",
        "start = 588\n",
        "end = 732\n",
        "\n",
        "home_charging_power = 10\n",
        "work_charging_power = 20\n",
        "\n",
        "car_1 = Car(ID, 1)\n",
        "print(car_1.get_charging_options(start,end,home_charging_power,work_charging_power))"
      ],
      "execution_count": 349,
      "outputs": [
        {
          "output_type": "stream",
          "text": [
            "[  10   10   10   10   10   10   10   10   10   10   10   10   10   10\n",
            "   10   10   10   10   10   10   10   10   10   10   10   10   10   10\n",
            "   10   10   10   10   10   10   10   10   10   10   10   10   10   10\n",
            "   10   10   10   10   10   10   10   10    0    0    0    0   20   20\n",
            "   20   20   20   20    0    0    0    0    0    0    0    0    0    0\n",
            "    0    0    0    0    0    0    0    0    0    0    0    0    0    0\n",
            "    0    0    0   10   10   10   10   10   10   10   10   10   10   10\n",
            "   10   10   10   10   10   10   10   10   10 -100 -100 -100 -100 -100\n",
            " -100 -100 -100 -100 -100 -100   10   10   10   10   10   10   10   10\n",
            "   10   10   10   10   10   10   10   10   10   10   10   10   10   10\n",
            "   10   10   10   10]\n"
          ],
          "name": "stdout"
        }
      ]
    },
    {
      "cell_type": "markdown",
      "metadata": {
        "id": "bFt8XzsxCxHs"
      },
      "source": [
        "### Tool"
      ]
    },
    {
      "cell_type": "code",
      "metadata": {
        "id": "uzLEe5tNepuv"
      },
      "source": [
        "'''\n",
        "*   Bsp. für HH mit 1 Fahrer,  1 Auto:  4301011562\n",
        "*   Bsp. für HH mit 2 Fahrern, 2 Autos: 4711036120\n",
        "*   Bsp. für HH mit 3 Fahrern, 3 Autos: 4301011674\n",
        "*   Bsp. für HH mit 2 Fahrern, 1 Auto:  4301011871\n",
        "*   Bsp. für HH mit 0 Fahrern, 1 Auto:  4301012968\n",
        "'''\n",
        "\n",
        "### Input ###\n",
        "\n",
        "ID = 4711036120\n",
        "\n",
        "start = 588\n",
        "end = 732\n",
        "\n",
        "home_charging_power = 10\n",
        "work_charging_power = 20\n",
        "\n",
        "### Input end ###\n",
        "\n",
        "household_1 =  Household(household_ID = ID)\n",
        "print('number of drivers in chosen household: ', household_1.get_number_of_drivers())\n",
        "print('number of cars in chosen household: ', household_1.get_number_of_cars(),'\\n')\n",
        "print(\"Timesteps\", start, \"until\", end, \"\\n\")\n",
        "print(\"\\n\")\n",
        "\n",
        "for i in range(household_1.get_number_of_cars()):\n",
        "  car_1 = Car(household_ID = ID, car_nr = i+1)\n",
        "  print(\"Car Segment of car\", i+1, \":\", car_1.get_segment(),'\\n')\n",
        "  print(\"States Profile of car\", i+1, \":\\n\", car_1.get_state_profile(start,end),'\\n')\n",
        "  print(\"Speed Profile of car\", i+1, \":\\n\", car_1.get_speed_profile(start,end),'\\n')\n",
        "  print(\"\\n\")\n",
        "\n",
        "# Charging options:\n",
        "print(\"Charging options:\\n\")\n",
        "for i in range(household_1.get_number_of_cars()):\n",
        "  print(car_1.get_charging_options(start,end,home_charging_power,work_charging_power))\n",
        "  print(\"\\n\")\n",
        "\n",
        "# Speed Plots:\n",
        "print(\"Speed plots:\\n\")\n",
        "for i in range(household_1.get_number_of_cars()):\n",
        "  car_1 = Car(household_ID = ID, car_nr = i+1)\n",
        "  plt.figure(i)\n",
        "  plt.plot(car_1.get_speed_profile(start,end))\n",
        "  "
      ],
      "execution_count": null,
      "outputs": []
    },
    {
      "cell_type": "code",
      "metadata": {
        "id": "pdN4rCyDuDfU"
      },
      "source": [
        "'''\n",
        "*   Bsp. für HH mit 1 Fahrer,  1 Auto:  4301011562\n",
        "*   Bsp. für HH mit 2 Fahrern, 2 Autos: 4711036120\n",
        "*   Bsp. für HH mit 3 Fahrern, 3 Autos: 4301011674\n",
        "*   Bsp. für HH mit 2 Fahrern, 1 Auto:  4301011871\n",
        "*   Bsp. für HH mit 0 Fahrern, 1 Auto:  4301012968\n",
        "'''\n",
        "\n",
        "household_1 =  Household(household_ID = 4301011674)\n",
        "\n",
        "start = 0\n",
        "end = 144\n",
        "\n",
        "x = household_1.get_drivers_states_profiles(start,end)\n",
        "y = household_1.get_drivers_speeds_profiles(start,end)\n",
        "\n",
        "print('\\nDriver Profiles of household:\\n', x)\n",
        "print('\\nSpeed Profiles of household:\\n', y)"
      ],
      "execution_count": null,
      "outputs": []
    },
    {
      "cell_type": "code",
      "metadata": {
        "id": "up83BDAKTHhr"
      },
      "source": [
        "# Erstellung eines Haushalt-Objekts in meta_mop_filtered\n",
        "# ansonsten: gewünschte ID eingeben\n",
        "\n",
        "household_1 =  Household(household_ID = 4301011674)\n",
        "#household_1.get_household()"
      ],
      "execution_count": null,
      "outputs": []
    },
    {
      "cell_type": "code",
      "metadata": {
        "id": "Kv9oDcrjUdIy"
      },
      "source": [
        "# Anzahl Bewohner des Haushalts\n",
        "# Anzahl Fahrer im Haushalt\n",
        "# Anzahl Autos im Haushalt\n",
        "\n",
        "print('number of occupants in chosen household: ', household_1.get_number_of_occupants())\n",
        "print('number of drivers in chosen household: ', household_1.get_number_of_drivers())\n",
        "print('number of cars in chosen household: ', household_1.get_number_of_cars())"
      ],
      "execution_count": null,
      "outputs": []
    },
    {
      "cell_type": "code",
      "metadata": {
        "id": "m3yb3WOxR__D"
      },
      "source": [
        "# Informationen über die Position des Haushalts bzw. der Personen im Datensatz (filtered: nur 2017)\n",
        "# gibt die Position der gewünschten Person im Datensatz an. (0 = erste Person des HH usw.)\n",
        "\n",
        "print('The household can be found in the data set at row(s): ', household_1.get_data_position())\n",
        "\n",
        "person_number = 0     # 0: first person, 1: second person ...\n",
        "print('Person', person_number, 'can be found in the data set at row: ', household_1.get_persons(person_number))\n",
        "\n",
        "# gebe drivers aus:\n",
        "print('Drivers of household:', household_1.get_drivers())"
      ],
      "execution_count": null,
      "outputs": []
    },
    {
      "cell_type": "code",
      "metadata": {
        "id": "RRQukDDE-cXN"
      },
      "source": [
        "# Ausgabe der Mobilitätsprofile\n",
        "\n",
        "start = 0    # timesteps\n",
        "end = 504\n",
        "person_number = 0\n",
        "\n",
        "mobility_profiles = household_1.get_states(start,end)\n",
        "\n",
        "print('Mobility profile of person', person_number, ':')\n",
        "plt.plot(mobility_profiles[person_number])"
      ],
      "execution_count": null,
      "outputs": []
    },
    {
      "cell_type": "code",
      "metadata": {
        "id": "llMQdaupBZcu"
      },
      "source": [
        "# Ausgabe der Speed-Profiles\n",
        "\n",
        "start = 0     # timesteps\n",
        "end = 504\n",
        "person_number = 0\n",
        "\n",
        "speed_profiles = household_1.get_speeds(start, end)\n",
        "\n",
        "print('Speed profile of person', person_number, ':')\n",
        "plt.plot(speed_profiles[person_number])"
      ],
      "execution_count": null,
      "outputs": []
    },
    {
      "cell_type": "code",
      "metadata": {
        "id": "_gBmXNncw6ks"
      },
      "source": [
        "# Ausgabe der States eines individuellen HH-Mitglieds\n",
        "person_number = 0\n",
        "household_ID = household_1.household_ID\n",
        "start = 0\n",
        "end = 504\n",
        "\n",
        "\n",
        "# erstelle Person Objekt:\n",
        "person_1 = Person (position = household_1.get_persons(person_number), household_ID = household_ID)\n",
        "print('original states for person', person_number,':\\n', person_1.get_state(start,end))\n",
        "print('\\n')\n",
        "\n",
        "# setze alle states außer 1,2 (work), 8 (home), 14 (car driver) auf 30??\n",
        "print('adjusted states for person', person_number, ':\\n', person_1.get_adjusted_states(start, end))\n",
        "print('\\n')\n",
        "\n",
        "print('Person', person_number, 'is a driver:', person_1.driver_bool)\n",
        "print('Person', person_number, 'drove the following total distance (km) in one weeek:', person_1.total_distance)\n",
        "\n",
        "# Liste aller Positionen \"Car Driver\":\n",
        "print('positions where car driver is true for person', person_number,':\\n', person_1.get_driver_positions(start, end))"
      ],
      "execution_count": null,
      "outputs": []
    },
    {
      "cell_type": "markdown",
      "metadata": {
        "id": "Ct81aTKo_VJj"
      },
      "source": [
        "### Test"
      ]
    },
    {
      "cell_type": "code",
      "metadata": {
        "id": "GL4TxnCb-oYE"
      },
      "source": [
        "# Erklärung Funktion merge()\n",
        "\n",
        "household_1 =  Household(household_ID = 4301011871)\n",
        "\n",
        "# Funktioniert nur für Haushalte mit mind. 2 Drivers (vorher check laufen lassen)\n",
        "# 1. positions aller driver des HH\n",
        "drivers_positions = household_1.get_drivers()\n",
        "print('Drivers:\\n', drivers_positions)\n",
        "print('-----')\n",
        "\n",
        "# 2. erstelle Array mit Listen aller states (für jeden driver eine Liste)\n",
        "all_states_drivers = np.array([household_1.get_states(0,14)[0]])\n",
        "for i in range(1, len(drivers_positions)):\n",
        "  all_states_drivers = np.append(all_states_drivers, [household_1.get_states(0,14)[i]], axis=0)\n",
        "print('States aller Drivers:\\n', all_states_drivers)\n",
        "print('-----')\n",
        "\n",
        "# 3. betrachte ein array aus den letzten beiden Listen\n",
        "drivers_last_two = all_states_drivers[-2:]\n",
        "print('Die letzten beiden Einträge des Arrays:\\n', drivers_last_two)\n",
        "print('-----')\n",
        "\n",
        "# 4. ziehe positions aller 14er aus der letzten Liste heraus\n",
        "list_states14_last_driver = [i for i in range(len(drivers_last_two[-1])) if drivers_last_two[-1][i] == 14]\n",
        "print('Alle 14er states aus dem LETZTEN Eintrag:\\n', list_states14_last_driver)\n",
        "print('-----')\n",
        "\n",
        "# 5. erzeuge eine neue Liste (vorletzte Liste komplette + 14er der letzten Liste)\n",
        "drivers_last_two_merged = all_states_drivers[-2].copy()\n",
        "for i in list_states14_last_driver:\n",
        "  drivers_last_two_merged[i] = 14\n",
        "print('VORletzter Eintrag, ergänzt mit den 14ern des LETZTEN Eintrags:\\n', drivers_last_two_merged)\n",
        "print('-----')\n",
        "\n",
        "# 6. ersetze die letzten beiden Listen des arrays durch das neue Array\n",
        "all_states_drivers = np.delete(all_states_drivers, [-1,-2], axis=0)\n",
        "drivers_merged = np.vstack((all_states_drivers, drivers_last_two_merged))\n",
        "print('Merge abgeschlossen. Das folgende Array hat die letzten beiden Drivers zusammengefasst: besteht aus den States des vorletzten Drivers, ergänzt durch die 14er des letzten Drivers:\\n', drivers_merged)"
      ],
      "execution_count": null,
      "outputs": []
    }
  ]
}