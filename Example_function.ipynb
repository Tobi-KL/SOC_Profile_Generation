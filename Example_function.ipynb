{
  "nbformat": 4,
  "nbformat_minor": 0,
  "metadata": {
    "colab": {
      "name": "Example_function",
      "provenance": [],
      "authorship_tag": "ABX9TyNh6/zwq3VKD0IIWtvYJ++A",
      "include_colab_link": true
    },
    "kernelspec": {
      "name": "python3",
      "display_name": "Python 3"
    },
    "language_info": {
      "name": "python"
    }
  },
  "cells": [
    {
      "cell_type": "markdown",
      "metadata": {
        "id": "view-in-github",
        "colab_type": "text"
      },
      "source": [
        "<a href=\"https://colab.research.google.com/github/Tobi-KL/mobility_profile_generation/blob/main/Example_function.ipynb\" target=\"_parent\"><img src=\"https://colab.research.google.com/assets/colab-badge.svg\" alt=\"Open In Colab\"/></a>"
      ]
    },
    {
      "cell_type": "code",
      "metadata": {
        "id": "qO3w1meewOkh"
      },
      "source": [
        "\"\"\" Example script on how to check meta data for a household \"\"\"\n",
        "\n",
        "# Enter hosuehold ID\n",
        "ID = 4711030214 \n",
        "\n",
        "get_household_meta_data(ID)"
      ],
      "execution_count": null,
      "outputs": []
    }
  ]
}