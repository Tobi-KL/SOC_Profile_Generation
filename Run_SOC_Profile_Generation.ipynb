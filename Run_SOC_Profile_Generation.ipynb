{
  "nbformat": 4,
  "nbformat_minor": 0,
  "metadata": {
    "colab": {
      "name": "Run_SOC_Profile_Generation.ipynb",
      "provenance": [],
      "collapsed_sections": [
        "FFrkWPOtJezh",
        "_s_LGX8YJkpa",
        "3Dns2nxmU996",
        "dylFrUpBU5z8"
      ],
      "authorship_tag": "ABX9TyMjggE738EanmF44vPJsj5i",
      "include_colab_link": true
    },
    "kernelspec": {
      "name": "python3",
      "display_name": "Python 3"
    },
    "language_info": {
      "name": "python"
    }
  },
  "cells": [
    {
      "cell_type": "markdown",
      "metadata": {
        "id": "view-in-github",
        "colab_type": "text"
      },
      "source": [
        "<a href=\"https://colab.research.google.com/github/Tobi-KL/SOC_profile_generation/blob/main/Run_SOC_Profile_Generation.ipynb\" target=\"_parent\"><img src=\"https://colab.research.google.com/assets/colab-badge.svg\" alt=\"Open In Colab\"/></a>"
      ]
    },
    {
      "cell_type": "code",
      "metadata": {
        "id": "RmHs3mLC--81"
      },
      "source": [
        "from google.colab import drive\n",
        "drive.mount('/content/drive')"
      ],
      "execution_count": null,
      "outputs": []
    },
    {
      "cell_type": "markdown",
      "metadata": {
        "id": "FFrkWPOtJezh"
      },
      "source": [
        "### Import packages and change directory"
      ]
    },
    {
      "cell_type": "code",
      "metadata": {
        "id": "KNji9KbmTMhp"
      },
      "source": [
        "import sys\n",
        "import os\n",
        "\n",
        "# Input path directory\n",
        "path_directory = \"/content/drive/MyDrive/Colab Notebooks/SOC_Profile_Generation\"\n",
        "\n",
        "sys.path.insert(0, path_directory)\n",
        "os.chdir(path_directory)"
      ],
      "execution_count": null,
      "outputs": []
    },
    {
      "cell_type": "code",
      "metadata": {
        "id": "BiAmymbDBYh6"
      },
      "source": [
        "import numpy as np\n",
        "import matplotlib.pyplot as plt\n",
        "import pickle\n",
        "import csv\n",
        "import os.path\n",
        "\n",
        "from classes.household import Household\n",
        "from functions.rank_households import rank_households\n",
        "from functions.create_profiles import create_profiles"
      ],
      "execution_count": null,
      "outputs": []
    },
    {
      "cell_type": "markdown",
      "metadata": {
        "id": "_s_LGX8YJkpa"
      },
      "source": [
        "### Load data"
      ]
    },
    {
      "cell_type": "code",
      "metadata": {
        "id": "GmFT8TjJMyKV"
      },
      "source": [
        "### Mobility Data\n",
        "\n",
        "mobility_data_pkl_path =  path_directory + '/inputs/data_mop_priority.pkl'\n",
        "\n",
        "\n",
        "### TANK Data (MOP):\n",
        "# needed for car segment (in column [174])\n",
        "mob_car_info_csv_path = path_directory + '/inputs/TANK18.csv'\n",
        "\n",
        "### Electric Car database for car substitution\n",
        "# [:,3]: Battery capacity [kWh]\n",
        "# [:,4]: WLTP-consumption [kWh / 100km]\n",
        "# [:,5]: Car Charging power [kW]\n",
        "el_cars_csv_path = path_directory + '/inputs/Elektroauto_Datenbank.csv'\n",
        "\n",
        "### Temperature [°C] in time period (same timesteps)\n",
        "weather_csv_path = path_directory + '/inputs/Temperaturen_Deutschland_2017.csv'\n",
        "\n",
        "### Timesteps\n",
        "# Input timestep length and number of timesteps\n",
        "ts_length = 10\n",
        "no_of_ts = 1008\n",
        "#no_of_ts = int (states_mop.shape[1])   # needs to process data first"
      ],
      "execution_count": null,
      "outputs": []
    },
    {
      "cell_type": "code",
      "metadata": {
        "id": "WsTyH3_n4T__"
      },
      "source": [
        "### Data Processing\n",
        "\n",
        "# pkl file\n",
        "with open(mobility_data_pkl_path, 'rb') as input:\n",
        "        [states_mop,speed_mop,meta_mop,meta_header_mop] = pickle.load(input)\n",
        "# observe only year 2017\n",
        "meta_mop_data = meta_mop[-3820:-1,]\n",
        "states_mop_data = states_mop[-3820:-1,]\n",
        "speed_mop_data = speed_mop[-3820:-1,]\n",
        "\n",
        "# csv files\n",
        "mob_car_info_csv = np.genfromtxt (mob_car_info_csv_path, \n",
        "                                  delimiter=\";\", \n",
        "                                  encoding = \"ISO-8859-1\")\n",
        "\n",
        "el_cars_csv = np.genfromtxt (el_cars_csv_path, \n",
        "                             delimiter=\";\", \n",
        "                             encoding = \"ISO-8859-1\")\n",
        "\n",
        "weather_csv = np.genfromtxt (weather_csv_path, \n",
        "                             delimiter=\";\", \n",
        "                             encoding = \"ISO-8859-1\")"
      ],
      "execution_count": null,
      "outputs": []
    },
    {
      "cell_type": "markdown",
      "metadata": {
        "id": "3Dns2nxmU996"
      },
      "source": [
        "### Rank households"
      ]
    },
    {
      "cell_type": "code",
      "metadata": {
        "id": "FGZBEWKqVBsZ"
      },
      "source": [
        "# Rank households according to your input\n",
        "\n",
        "# Choose the following main parameters (will be fulfilled)\n",
        "input_number_of_occupants = 1\n",
        "input_number_of_drivers = 1\n",
        "input_number_of_cars = 1\n",
        "\n",
        "\n",
        "# Choose the following five soft parameters and their weight.\n",
        "# Fitting households will be sorted by weighted soft parameters.\n",
        "# Sum of all weights = 1.0\n",
        "# Find codes in Codeplan_SOC_Profile_Generation.md on github\n",
        "input_income = 7\n",
        "input_w_income = 0.2\n",
        "\n",
        "input_population = 2\n",
        "input_w_population = 0.2\n",
        "\n",
        "input_year_of_birth = 1980\n",
        "input_w_year_of_birth = 0.2\n",
        "\n",
        "input_job = 1\n",
        "input_w_job = 0.2\n",
        "\n",
        "# [km / week]\n",
        "input_distance = 10000\n",
        "input_w_distance = 0.2\n",
        "\n",
        "# How many households should be returned?\n",
        "# Put \"all\", if all fitting households should be returned\n",
        "quantity = 10\n",
        "\n",
        "###\n",
        "\n",
        "households = rank_households(meta_mop_data,\n",
        "                             states_mop_data,\n",
        "                             speed_mop_data,\n",
        "                             no_of_ts, \n",
        "                             ts_length,\n",
        "                             input_number_of_occupants,\n",
        "                             input_number_of_drivers,\n",
        "                             input_number_of_cars, \n",
        "                             input_income,\n",
        "                             input_w_income,\n",
        "                             input_population,\n",
        "                             input_w_population,\n",
        "                             input_year_of_birth,\n",
        "                             input_w_year_of_birth,\n",
        "                             input_job,\n",
        "                             input_w_job,\n",
        "                             input_distance,\n",
        "                             input_w_distance,\n",
        "                             quantity)\n",
        "print(households)"
      ],
      "execution_count": null,
      "outputs": []
    },
    {
      "cell_type": "markdown",
      "metadata": {
        "id": "dylFrUpBU5z8"
      },
      "source": [
        "### SOC Profile Generation"
      ]
    },
    {
      "cell_type": "code",
      "metadata": {
        "id": "YE9SzyfI6UN-"
      },
      "source": [
        "### Create profiles for each car from every household\n",
        "\n",
        "'''\n",
        "Choose the following parameters:\n",
        "- household_list:           put \"households\" for whole list from rank_households\n",
        "- start, end:               first and last timestep\n",
        "- home_charging_power:      possible charging power at home [kW]\n",
        "- work_charging_power:      -\"- at work -> only one of both can be 0 [kW]\n",
        "- charging_efficiency:      efficiency while charging\n",
        "- discharging_efficiency:   efficiency while discharging (= consuming)\n",
        "- min_charge:               SOC can not go lower (relative to battery capacity)\n",
        "- max_charge:               SOC can not go higher (relative to battery capacity)\n",
        "- path:                     path where csv-outputs should be saved\n",
        "- bool_plot:                true, if plots should be created\n",
        "- bool_create_csv:          true, if csv-files should be created\n",
        "'''\n",
        "\n",
        "household_list = households\n",
        "start = 800\n",
        "end = 1008\n",
        "home_charging_power = 11\n",
        "work_charging_power = 5\n",
        "charging_efficiency = 0.95\n",
        "discharging_efficiency = 0.95\n",
        "min_SOC = 0.1\n",
        "max_SOC = 0.9\n",
        "path_csv = path_directory + '/outputs/'\n",
        "bool_plot = True\n",
        "bool_create_csv = False\n",
        "\n",
        "###\n",
        "\n",
        "create_profiles(household_list,\n",
        "                meta_mop_data,\n",
        "                states_mop_data,\n",
        "                speed_mop_data,\n",
        "                start,\n",
        "                end,\n",
        "                no_of_ts,\n",
        "                ts_length,\n",
        "                home_charging_power,\n",
        "                work_charging_power,\n",
        "                charging_efficiency,\n",
        "                discharging_efficiency,\n",
        "                min_SOC,\n",
        "                max_SOC,\n",
        "                weather_csv,\n",
        "                mob_car_info_csv,\n",
        "                el_cars_csv,\n",
        "                path_csv,\n",
        "                bool_plot,\n",
        "                bool_create_csv)"
      ],
      "execution_count": null,
      "outputs": []
    }
  ]
}